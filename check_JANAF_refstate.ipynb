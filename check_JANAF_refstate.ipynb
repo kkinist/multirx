{
 "cells": [
  {
   "cell_type": "code",
   "execution_count": 1,
   "id": "3e211d6f",
   "metadata": {},
   "outputs": [],
   "source": [
    "# Just plot data imported from JANAF.nist.gov, to check for typos\n",
    "# Reference state of element has EoF = 0 at all temperatures, by definition\n",
    "import os\n",
    "import pandas as pd\n",
    "import numpy as np\n",
    "import matplotlib.pyplot as plt"
   ]
  },
  {
   "cell_type": "code",
   "execution_count": 2,
   "id": "f8a51dd0",
   "metadata": {},
   "outputs": [],
   "source": [
    "molec = 'p'\n",
    "fref = os.sep.join(['refdata', f'{molec}_reference_state.csv'])"
   ]
  },
  {
   "cell_type": "code",
   "execution_count": 3,
   "id": "0924e1d3",
   "metadata": {},
   "outputs": [],
   "source": [
    "dfref = pd.read_csv(fref, sep='\\t', comment='#', skiprows=0)"
   ]
  },
  {
   "cell_type": "code",
   "execution_count": 4,
   "id": "9c9ca1b6",
   "metadata": {},
   "outputs": [
    {
     "name": "stdout",
     "output_type": "stream",
     "text": [
      "*** Erroneous non-zero values for reference state of \"p\" ***\n",
      "195.40\tdelta-fH     \tALPHA <--> BETA\n",
      "195.40\tdelta-fG     \tnan\n",
      "195.40\tlogKf        \tnan\n",
      "195.40\tdelta-fH     \tTRANSITION\n",
      "195.40\tdelta-fG     \tnan\n",
      "195.40\tlogKf        \tnan\n",
      "317.30\tdelta-fH     \tBETA <--> LIQUID\n",
      "317.30\tdelta-fG     \tnan\n",
      "317.30\tlogKf        \tnan\n",
      "317.30\tdelta-fH     \tTRANSITION\n",
      "317.30\tdelta-fG     \tnan\n",
      "317.30\tlogKf        \tnan\n",
      "1180.01\tdelta-fH     \tLIQUID <--> IDEAL GAS\n",
      "1180.01\tdelta-fG     \tnan\n",
      "1180.01\tlogKf        \tnan\n",
      "1180.01\tdelta-fH     \tFUGACITY = 1 bar\n",
      "1180.01\tdelta-fG     \tnan\n",
      "1180.01\tlogKf        \tnan\n"
     ]
    }
   ],
   "source": [
    "# the last three columns should be all zeros\n",
    "# Property values are not single-valued at phase transitions\n",
    "cols = dfref.columns\n",
    "nz = np.argwhere(dfref[dfref.columns[5::]].to_numpy())\n",
    "if len(nz):\n",
    "    print(f'*** Erroneous non-zero values for reference state of \"{molec}\" ***')\n",
    "    for irow, icol in nz:\n",
    "        valstr = str(dfref.iloc[irow, icol+5])\n",
    "        if valstr == '0.':  # this counts as nonzero\n",
    "            valstr = 0.\n",
    "        else:\n",
    "            print('{:.2f}\\t{:<13s}\\t{:s}'.format(dfref.iloc[irow, 0], str(cols[icol+5]), valstr))"
   ]
  },
  {
   "cell_type": "code",
   "execution_count": 5,
   "id": "ffc5840f",
   "metadata": {},
   "outputs": [
    {
     "name": "stdout",
     "output_type": "stream",
     "text": [
      "Setting EoF = 0 at all temperatures\n"
     ]
    },
    {
     "data": {
      "text/html": [
       "<div>\n",
       "<style scoped>\n",
       "    .dataframe tbody tr th:only-of-type {\n",
       "        vertical-align: middle;\n",
       "    }\n",
       "\n",
       "    .dataframe tbody tr th {\n",
       "        vertical-align: top;\n",
       "    }\n",
       "\n",
       "    .dataframe thead th {\n",
       "        text-align: right;\n",
       "    }\n",
       "</style>\n",
       "<table border=\"1\" class=\"dataframe\">\n",
       "  <thead>\n",
       "    <tr style=\"text-align: right;\">\n",
       "      <th></th>\n",
       "      <th>T(K)</th>\n",
       "      <th>Cp</th>\n",
       "      <th>S</th>\n",
       "      <th>-[G-H(Tr)]/T</th>\n",
       "      <th>H-H(Tr)</th>\n",
       "      <th>delta-fH</th>\n",
       "      <th>delta-fG</th>\n",
       "      <th>logKf</th>\n",
       "    </tr>\n",
       "  </thead>\n",
       "  <tbody>\n",
       "    <tr>\n",
       "      <th>0</th>\n",
       "      <td>0.0</td>\n",
       "      <td>0.000</td>\n",
       "      <td>0.000</td>\n",
       "      <td>inf</td>\n",
       "      <td>-5.360</td>\n",
       "      <td>0.0</td>\n",
       "      <td>0.0</td>\n",
       "      <td>0.0</td>\n",
       "    </tr>\n",
       "    <tr>\n",
       "      <th>1</th>\n",
       "      <td>100.0</td>\n",
       "      <td>13.728</td>\n",
       "      <td>17.688</td>\n",
       "      <td>NaN</td>\n",
       "      <td>-4.473</td>\n",
       "      <td>0.0</td>\n",
       "      <td>0.0</td>\n",
       "      <td>0.0</td>\n",
       "    </tr>\n",
       "    <tr>\n",
       "      <th>2</th>\n",
       "      <td>195.4</td>\n",
       "      <td>21.117</td>\n",
       "      <td>28.969</td>\n",
       "      <td>NaN</td>\n",
       "      <td>-2.827</td>\n",
       "      <td>0.0</td>\n",
       "      <td>NaN</td>\n",
       "      <td>NaN</td>\n",
       "    </tr>\n",
       "    <tr>\n",
       "      <th>3</th>\n",
       "      <td>195.4</td>\n",
       "      <td>20.941</td>\n",
       "      <td>31.637</td>\n",
       "      <td>NaN</td>\n",
       "      <td>-2.306</td>\n",
       "      <td>0.0</td>\n",
       "      <td>NaN</td>\n",
       "      <td>NaN</td>\n",
       "    </tr>\n",
       "    <tr>\n",
       "      <th>4</th>\n",
       "      <td>200.0</td>\n",
       "      <td>21.092</td>\n",
       "      <td>32.126</td>\n",
       "      <td>NaN</td>\n",
       "      <td>-2.209</td>\n",
       "      <td>0.0</td>\n",
       "      <td>0.0</td>\n",
       "      <td>0.0</td>\n",
       "    </tr>\n",
       "    <tr>\n",
       "      <th>...</th>\n",
       "      <td>...</td>\n",
       "      <td>...</td>\n",
       "      <td>...</td>\n",
       "      <td>...</td>\n",
       "      <td>...</td>\n",
       "      <td>...</td>\n",
       "      <td>...</td>\n",
       "      <td>...</td>\n",
       "    </tr>\n",
       "    <tr>\n",
       "      <th>58</th>\n",
       "      <td>5200.0</td>\n",
       "      <td>19.272</td>\n",
       "      <td>161.282</td>\n",
       "      <td>NaN</td>\n",
       "      <td>163.914</td>\n",
       "      <td>0.0</td>\n",
       "      <td>0.0</td>\n",
       "      <td>0.0</td>\n",
       "    </tr>\n",
       "    <tr>\n",
       "      <th>59</th>\n",
       "      <td>5400.0</td>\n",
       "      <td>19.296</td>\n",
       "      <td>162.010</td>\n",
       "      <td>NaN</td>\n",
       "      <td>167.771</td>\n",
       "      <td>0.0</td>\n",
       "      <td>0.0</td>\n",
       "      <td>0.0</td>\n",
       "    </tr>\n",
       "    <tr>\n",
       "      <th>60</th>\n",
       "      <td>5600.0</td>\n",
       "      <td>19.319</td>\n",
       "      <td>162.712</td>\n",
       "      <td>NaN</td>\n",
       "      <td>171.632</td>\n",
       "      <td>0.0</td>\n",
       "      <td>0.0</td>\n",
       "      <td>0.0</td>\n",
       "    </tr>\n",
       "    <tr>\n",
       "      <th>61</th>\n",
       "      <td>5800.0</td>\n",
       "      <td>19.342</td>\n",
       "      <td>163.390</td>\n",
       "      <td>NaN</td>\n",
       "      <td>175.498</td>\n",
       "      <td>0.0</td>\n",
       "      <td>0.0</td>\n",
       "      <td>0.0</td>\n",
       "    </tr>\n",
       "    <tr>\n",
       "      <th>62</th>\n",
       "      <td>6000.0</td>\n",
       "      <td>19.366</td>\n",
       "      <td>164.047</td>\n",
       "      <td>NaN</td>\n",
       "      <td>179.369</td>\n",
       "      <td>0.0</td>\n",
       "      <td>0.0</td>\n",
       "      <td>0.0</td>\n",
       "    </tr>\n",
       "  </tbody>\n",
       "</table>\n",
       "<p>63 rows × 8 columns</p>\n",
       "</div>"
      ],
      "text/plain": [
       "      T(K)      Cp        S -[G-H(Tr)]/T  H-H(Tr)  delta-fH  delta-fG  logKf\n",
       "0      0.0   0.000    0.000          inf   -5.360       0.0       0.0    0.0\n",
       "1    100.0  13.728   17.688          NaN   -4.473       0.0       0.0    0.0\n",
       "2    195.4  21.117   28.969          NaN   -2.827       0.0       NaN    NaN\n",
       "3    195.4  20.941   31.637          NaN   -2.306       0.0       NaN    NaN\n",
       "4    200.0  21.092   32.126          NaN   -2.209       0.0       0.0    0.0\n",
       "..     ...     ...      ...          ...      ...       ...       ...    ...\n",
       "58  5200.0  19.272  161.282          NaN  163.914       0.0       0.0    0.0\n",
       "59  5400.0  19.296  162.010          NaN  167.771       0.0       0.0    0.0\n",
       "60  5600.0  19.319  162.712          NaN  171.632       0.0       0.0    0.0\n",
       "61  5800.0  19.342  163.390          NaN  175.498       0.0       0.0    0.0\n",
       "62  6000.0  19.366  164.047          NaN  179.369       0.0       0.0    0.0\n",
       "\n",
       "[63 rows x 8 columns]"
      ]
     },
     "execution_count": 5,
     "metadata": {},
     "output_type": "execute_result"
    }
   ],
   "source": [
    "# Replace 'INFINITE' with np.inf\n",
    "dfref.replace('INFINITE', np.inf, inplace=True)\n",
    "# Replace other strings with NaN\n",
    "dfref.replace(to_replace='[^\\d]+', value=np.nan, regex=True, inplace=True)\n",
    "print('Setting EoF = 0 at all temperatures')\n",
    "dfref[dfref.columns[5]] = 0.\n",
    "dfref"
   ]
  },
  {
   "cell_type": "code",
   "execution_count": 6,
   "id": "76b96027",
   "metadata": {},
   "outputs": [
    {
     "data": {
      "image/png": "[encoded data removed]",
      "text/plain": [
       "<Figure size 432x288 with 4 Axes>"
      ]
     },
     "metadata": {
      "needs_background": "light"
     },
     "output_type": "display_data"
    }
   ],
   "source": [
    "# Plot the other quantities for visual check\n",
    "fig, ((ax1, ax2), (ax3, ax4)) = plt.subplots(2,2, sharex=True)\n",
    "axs = [ax1, ax2, ax3, ax4]\n",
    "Tmax = 6000.\n",
    "for titl, ax in zip(cols[1:5], axs):\n",
    "    ax.set_title(titl)\n",
    "    ax.plot(dfref[cols[0]], dfref[titl])\n",
    "    ax.scatter(dfref[cols[0]], dfref[titl])\n",
    "    ax.set_xlim([0, Tmax])"
   ]
  },
  {
   "cell_type": "code",
   "execution_count": 7,
   "id": "378e0276",
   "metadata": {},
   "outputs": [
    {
     "data": {
      "image/png": "[encoded data removed]",
      "text/plain": [
       "<Figure size 432x288 with 4 Axes>"
      ]
     },
     "metadata": {
      "needs_background": "light"
     },
     "output_type": "display_data"
    }
   ],
   "source": [
    "# Plot the other quantities for visual check\n",
    "fig, ((ax1, ax2), (ax3, ax4)) = plt.subplots(2,2, sharex=True)\n",
    "axs = [ax1, ax2, ax3, ax4]\n",
    "Tmax = 600.\n",
    "for titl, ax in zip(cols[1:5], axs):\n",
    "    ax.set_title(titl)\n",
    "    ax.plot(dfref[cols[0]], dfref[titl])\n",
    "    ax.scatter(dfref[cols[0]], dfref[titl])\n",
    "    ax.set_xlim([0, Tmax])"
   ]
  },
  {
   "cell_type": "code",
   "execution_count": null,
   "id": "4f18b74e",
   "metadata": {},
   "outputs": [],
   "source": []
  },
  {
   "cell_type": "code",
   "execution_count": null,
   "id": "3c60f263",
   "metadata": {},
   "outputs": [],
   "source": []
  },
  {
   "cell_type": "code",
   "execution_count": null,
   "id": "9edaa94a",
   "metadata": {},
   "outputs": [],
   "source": []
  }
 ],
 "metadata": {
  "kernelspec": {
   "display_name": "Python 3 (ipykernel)",
   "language": "python",
   "name": "python3"
  },
  "language_info": {
   "codemirror_mode": {
    "name": "ipython",
    "version": 3
   },
   "file_extension": ".py",
   "mimetype": "text/x-python",
   "name": "python",
   "nbconvert_exporter": "python",
   "pygments_lexer": "ipython3",
   "version": "3.7.12"
  }
 },
 "nbformat": 4,
 "nbformat_minor": 5
}
