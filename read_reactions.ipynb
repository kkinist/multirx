{
 "cells": [
  {
   "cell_type": "code",
   "execution_count": 101,
   "id": "4701d104",
   "metadata": {},
   "outputs": [],
   "source": [
    "# read a yaml file of reactions, check atom balance\n",
    "import yaml, sys, os\n",
    "sys.path.insert(0, '../../karlib')\n",
    "import chem_subs as chem\n",
    "import molpro_subs as pro\n",
    "import gaussian_subs as gau\n",
    "import multirx_subs as mrx"
   ]
  },
  {
   "cell_type": "code",
   "execution_count": 102,
   "id": "5e1b6341",
   "metadata": {},
   "outputs": [],
   "source": [
    "def read_yaml(file):\n",
    "    # read a yaml file, return the contents\n",
    "    with open(file, 'r') as Y:\n",
    "        x = yaml.safe_load(Y)\n",
    "    return x\n",
    "def read_molec_yaml(molec):\n",
    "    # read a molecule's yaml data file\n",
    "    f = os.sep.join(['molec_data', f'{molec}.yml'])\n",
    "    return read_yaml(f)\n",
    "def build_Geom(molec):\n",
    "    # create a Geometry() object using data from global dict 'moldata'\n",
    "    coord = moldata[molec]['Geometry']['coordinates']\n",
    "    G = chem.Geometry(coord)\n",
    "    return G"
   ]
  },
  {
   "cell_type": "code",
   "execution_count": 103,
   "id": "09e756a0",
   "metadata": {},
   "outputs": [],
   "source": [
    "x = read_yaml('reactions.yml')\n",
    "target = x['target']\n",
    "rxns = x['reactions']"
   ]
  },
  {
   "cell_type": "code",
   "execution_count": 104,
   "id": "fdbbb079",
   "metadata": {},
   "outputs": [
    {
     "name": "stdout",
     "output_type": "stream",
     "text": [
      "15 reactions for dioxolane\n"
     ]
    }
   ],
   "source": [
    "print(f'{len(rxns)} reactions for {target}')"
   ]
  },
  {
   "cell_type": "code",
   "execution_count": 105,
   "id": "0777f79d",
   "metadata": {},
   "outputs": [],
   "source": [
    "# read molecular yaml files in subdirectory 'molec_data'\n",
    "moldata = {}\n",
    "Geom = {}\n",
    "missing = []  # list of educts without molecular yaml files\n",
    "for rxn in rxns:\n",
    "    for pair in rxn:\n",
    "        educt = pair[0]\n",
    "        if educt not in moldata.keys():\n",
    "            try:\n",
    "                moldata[educt] = read_molec_yaml(educt)\n",
    "                Geom[educt] = build_Geom(educt)\n",
    "            except:\n",
    "                # assume that the problem is a missing yaml file\n",
    "                missing.append(educt)\n",
    "if missing:\n",
    "    print('*** Missing YAML files in molec_data/ ***')\n",
    "    for m in missing:\n",
    "        print(f'\\t{m}')"
   ]
  },
  {
   "cell_type": "code",
   "execution_count": 106,
   "id": "0b2f217f",
   "metadata": {},
   "outputs": [],
   "source": [
    "def reaction_imbalance(Glist, coeffs):\n",
    "    # given a list of Geometry() and of numerical multipliers,\n",
    "    # return a dict of net changes in atom (element) number\n",
    "    counts = {}\n",
    "    for G, coeff in zip(Glist, coeffs):\n",
    "        for k, v in G.stoichiometry(asdict=True).items():\n",
    "            if k in counts.keys():\n",
    "                counts[k] += v * coeff\n",
    "            else:\n",
    "                counts[k] = v * coeff\n",
    "    # don't include atoms with zero net counts\n",
    "    imbal = {k: v for k, v in counts.items() if v != 0}\n",
    "    return imbal"
   ]
  },
  {
   "cell_type": "code",
   "execution_count": 107,
   "id": "be30ee11",
   "metadata": {},
   "outputs": [
    {
     "name": "stdout",
     "output_type": "stream",
     "text": [
      "Reaction 0 is balanced: [['dioxolane', 1], ['n2', 3], ['hcn', -3], ['no', -2], ['nh3', -1]]\n",
      "Reaction 1 is balanced: [['dioxolane', 1], ['hcl', 5], ['ch3cl', -3], ['hocl', -2]]\n",
      "Reaction 2 is balanced: [['dioxolane', 1], ['h2', 5], ['ch4', -3], ['h2o', -2]]\n",
      "Reaction 3 is balanced: [['dioxolane', 1], ['meoac', -1]]\n",
      "Reaction 4 is balanced: [['dioxolane', 1], ['o2', 3.5], ['co2', -3], ['h2o', -3]]\n",
      "Reaction 5 is balanced: [['dioxolane', 1], ['cyc5', 1], ['THF', -2]]\n",
      "Reaction 6 is balanced: [['dioxolane', 1], ['ch2o', -1], ['oxirane', -1]]\n",
      "Reaction 7 is balanced: [['dioxolane', 1], ['h2o', 1], ['ch2o', -3], ['h2', -1]]\n",
      "Reaction 8 is balanced: [['dioxolane', 1], ['acetone', 1], ['EC', -1], ['c3h8', -1]]\n",
      "Reaction 9 is balanced: [['dioxolane', 1], ['c3h8', 2], ['cyc5', -1], ['DME', -2]]\n",
      "Reaction 10 is balanced: [['dioxolane', 1], ['o2', 2], ['co', -3], ['h2o', -3]]\n",
      "Reaction 11 is balanced: [['dioxolane', 1], ['ch4', 3], ['h2o', 2], ['c2h6', -1], ['ch3oh', -4]]\n",
      "Reaction 12 is balanced: [['dioxolane', 1], ['hf', 12], ['cf4', -3], ['h2o', -2], ['h2', -7]]\n",
      "Reaction 13 is balanced: [['dioxolane', 1], ['c', -3], ['h', -6], ['o', -2]]\n",
      "Reaction 14 is balanced: [['dioxolane', 1], ['f2', 11], ['cf4', -3], ['hf', -6], ['f2o', -2]]\n"
     ]
    }
   ],
   "source": [
    "for i, rxn in enumerate(rxns):\n",
    "    Glist = []\n",
    "    clist = []\n",
    "    for pair in rxn:\n",
    "        educt = pair[0]\n",
    "        Glist.append(Geom[educt]) # educt name\n",
    "        clist.append(pair[1]) # multiplier\n",
    "    rnet = reaction_imbalance(Glist, clist)\n",
    "    if rnet:\n",
    "        print('*** Imbalance of', chem.stoichiometry(rnet, ones=False))\n",
    "        print('for reaction', rxn)\n",
    "    else:\n",
    "        print(f'Reaction {i} is balanced:', rxn)"
   ]
  },
  {
   "cell_type": "code",
   "execution_count": null,
   "id": "a6d6eb55",
   "metadata": {},
   "outputs": [],
   "source": []
  },
  {
   "cell_type": "code",
   "execution_count": null,
   "id": "fedf2ff3",
   "metadata": {},
   "outputs": [],
   "source": []
  }
 ],
 "metadata": {
  "kernelspec": {
   "display_name": "Python 3 (ipykernel)",
   "language": "python",
   "name": "python3"
  },
  "language_info": {
   "codemirror_mode": {
    "name": "ipython",
    "version": 3
   },
   "file_extension": ".py",
   "mimetype": "text/x-python",
   "name": "python",
   "nbconvert_exporter": "python",
   "pygments_lexer": "ipython3",
   "version": "3.7.12"
  }
 },
 "nbformat": 4,
 "nbformat_minor": 5
}
