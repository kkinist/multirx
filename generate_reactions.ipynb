{
 "cells": [
  {
   "cell_type": "code",
   "execution_count": 1,
   "id": "4701d104",
   "metadata": {},
   "outputs": [],
   "source": [
    "# Generate working reactions\n",
    "import yaml, sys, os, random, re, glob\n",
    "import pandas as pd\n",
    "import matplotlib.pyplot as plt\n",
    "import numpy as np\n",
    "import sympy\n",
    "sys.path.insert(0, '../atomic_SOC')\n",
    "import chem_subs as chem\n",
    "import multirx_subs as mrx"
   ]
  },
  {
   "cell_type": "code",
   "execution_count": 2,
   "id": "8c3aa28f",
   "metadata": {},
   "outputs": [
    {
     "name": "stdout",
     "output_type": "stream",
     "text": [
      "Reading 421 molecular YAML files\n",
      "*** Warning: \"No SOC data for open-shell linear molecule cch\" in compute_E0()\n",
      "*** Warning: \"No SOC data for open-shell linear molecule ncn\" in compute_E0()\n",
      "*** Warning: \"No SOC data for open-shell linear molecule nco\" in compute_E0()\n",
      "*** Warning: \"No SOC data for open-shell linear molecule nh\" in compute_E0()\n",
      "*** Warning: \"No SOC data for open-shell linear molecule o2\" in compute_E0()\n"
     ]
    }
   ],
   "source": [
    "# Process all available molecular YAML files\n",
    "moldata, Gdict = mrx.read_all_molec_yamls()"
   ]
  },
  {
   "cell_type": "code",
   "execution_count": 3,
   "id": "c5f45334",
   "metadata": {},
   "outputs": [
    {
     "name": "stdout",
     "output_type": "stream",
     "text": [
      "chfchf and ch2cf2 both have ATcT name 1,1-Difluoroethene\n",
      "hccn and hcccn both have ATcT name Cyanoacetylene\n",
      "PrNH2 and iPrNH2 both have ATcT name 1-Propanamine\n"
     ]
    }
   ],
   "source": [
    "# Find any that have the same WebBook or ATcT name\n",
    "molecs = list(moldata.keys())\n",
    "Nmol = len(molecs)\n",
    "for i in range(Nmol):\n",
    "    m1 = molecs[i]\n",
    "    try:\n",
    "        wb1 = moldata[m1]['Identifiers']['names']['WebBook']\n",
    "    except KeyError:\n",
    "        wb1 = ''\n",
    "    try:\n",
    "        atct1 = moldata[m1]['Identifiers']['names']['ATcT']\n",
    "    except KeyError:\n",
    "        atct1 = ''\n",
    "    for j in range(i):\n",
    "        m2 = molecs[j]\n",
    "        try:\n",
    "            wb2 = moldata[m2]['Identifiers']['names']['WebBook']\n",
    "        except KeyError:\n",
    "            wb1 = ''\n",
    "        try:\n",
    "            atct2 = moldata[m2]['Identifiers']['names']['ATcT']\n",
    "        except KeyError:\n",
    "            atct2 = ''\n",
    "        if m2 == m1:\n",
    "            print(f'Duplicated molecule code {m1} = {m2}')\n",
    "            continue\n",
    "        if wb1 and (wb1 == wb2):\n",
    "            print(f'{m1} and {m2} both have WebBook name {wb1}')\n",
    "        if atct1 and (atct1 == atct2):\n",
    "            print(f'{m1} and {m2} both have ATcT name {atct1}')           "
   ]
  },
  {
   "cell_type": "code",
   "execution_count": 4,
   "id": "b13b9560",
   "metadata": {
    "scrolled": true
   },
   "outputs": [
    {
     "name": "stdout",
     "output_type": "stream",
     "text": [
      "\tNo ATcT thermo data for acenaphthylene\n",
      "\tNo ATcT thermo data for bicyc82one\n",
      "\tNo ATcT thermo data for butadienyl2CCH\n",
      "No 298K refdata at all for butadienyl2CCH\n",
      "\tNo ATcT thermo data for butyrolactone\n",
      "\tNo ATcT thermo data for ch3nch2\n",
      "\tNo ATcT thermo data for ch3sh\n",
      "\tNo ATcT thermo data for cme4\n",
      "No 298K refdata at all for cme4\n",
      "\tNo ATcT thermo data for cs\n",
      "\tNo ATcT thermo data for cyc7\n",
      "No 298K refdata at all for cyc7\n",
      "\tNo ATcT thermo data for cycloheptene\n",
      "No 298K refdata at all for cycloheptene\n",
      "\tNo ATcT thermo data for cyrene\n",
      "No 298K refdata at all for cyrene\n",
      "\tNo ATcT thermo data for dioxolane\n",
      "\tNo ATcT thermo data for DMF\n",
      "\tNo ATcT thermo data for DMSO\n",
      "\tNo ATcT thermo data for DMSO2\n",
      "\tNo ATcT thermo data for EC\n",
      "\tNo ATcT thermo data for etoc2h3\n",
      "No 298K refdata at all for etoc2h3\n",
      "\tNo ATcT thermo data for fluorene\n",
      "\tNo ATcT thermo data for h2s\n",
      "\tNo ATcT thermo data for ihexane\n",
      "No 298K refdata at all for ihexane\n",
      "\tNo ATcT thermo data for mC6H4Cl\n",
      "No 298K refdata at all for mC6H4Cl\n",
      "\tNo ATcT thermo data for mec4me\n",
      "No 298K refdata at all for mec4me\n",
      "\tNo ATcT thermo data for mein2\n",
      "\tNo ATcT thermo data for meoome\n",
      "\tNo ATcT thermo data for mepy1\n",
      "\tNo ATcT thermo data for NMP\n",
      "\tNo ATcT thermo data for oC6H4Cl\n",
      "No 298K refdata at all for oC6H4Cl\n",
      "\tNo ATcT thermo data for p\n",
      "\tNo ATcT thermo data for pC6H4Cl\n",
      "No 298K refdata at all for pC6H4Cl\n",
      "\tNo ATcT thermo data for pentane\n",
      "No 298K refdata at all for pentane\n",
      "\tNo ATcT thermo data for phcl2\n",
      "\tNo ATcT thermo data for pyridine-N-oxide\n",
      "\tNo ATcT thermo data for pyrrole\n",
      "\tNo ATcT thermo data for s\n",
      "\tNo ATcT thermo data for scl2\n",
      "\tNo ATcT thermo data for sf6\n",
      "\tNo ATcT thermo data for so2\n",
      "\tNo ATcT thermo data for succinicA\n",
      "\tNo ATcT thermo data for sulfolane\n",
      "\tNo ATcT thermo data for THF\n",
      "\tNo ATcT thermo data for thiophene\n",
      "\tNo ATcT thermo data for THP\n"
     ]
    }
   ],
   "source": [
    "# Find any that are missing ATcT thermo data\n",
    "for mol, mdat in moldata.items():\n",
    "    try:\n",
    "        eof0 = mdat['Refdata']['ATcT']['EoF0']\n",
    "    except KeyError:\n",
    "        eof0 = None\n",
    "    try:\n",
    "        eof298 = mdat['Refdata']['ATcT']['EoF298']\n",
    "    except KeyError:\n",
    "        eof298 = None\n",
    "    if (eof0 is None) or (eof298 is None):\n",
    "        print(f'\\tNo ATcT thermo data for {mol}')\n",
    "    try:\n",
    "        wb298 = mdat['Refdata']['WebBook']['EoF298']\n",
    "    except:\n",
    "        wb298 = None\n",
    "    try:\n",
    "        loc298 = mdat['Refdata']['Local']['EoF298']\n",
    "    except:\n",
    "        loc298 = None\n",
    "    if (eof298 is None) and (wb298 is None) and (loc298 is None):\n",
    "        print(f'No 298K refdata at all for {mol}')"
   ]
  },
  {
   "cell_type": "code",
   "execution_count": 5,
   "id": "a0f3d2ee",
   "metadata": {},
   "outputs": [],
   "source": [
    "# Get the name codes\n",
    "dfnames = pd.read_csv(os.sep.join(['refdata', 'label_meanings.tsv']), sep='\\t')"
   ]
  },
  {
   "cell_type": "code",
   "execution_count": null,
   "id": "7e60f3cc",
   "metadata": {},
   "outputs": [],
   "source": [
    "Gdict['onno'].Avogadro()"
   ]
  },
  {
   "cell_type": "code",
   "execution_count": null,
   "id": "9c840f76",
   "metadata": {
    "scrolled": true
   },
   "outputs": [],
   "source": [
    "# Tabulate all functional groups\n",
    "print('Identifying functional groups')\n",
    "fungroup = {}  # key = molecule, value = dict (key = fgrp, value = list of tuple)\n",
    "for molec, G in Gdict.items():\n",
    "    fungroup[molec] = G.find_functional_group('all', spin=True)\n",
    "    lname = moldata[molec]['Identifiers']['names']['local']\n",
    "    print(f'{molec}  ({lname})')\n",
    "    for grp, atoms in fungroup[molec].items():\n",
    "        print(f'    {grp:<15s}  {atoms}')"
   ]
  },
  {
   "cell_type": "code",
   "execution_count": null,
   "id": "3b743844",
   "metadata": {},
   "outputs": [],
   "source": [
    "# Alternative dict with counts instead of atom tuples\n",
    "fungroup_n = {}  # key = molec, value = dict (key = fgrp, value = count)\n",
    "for molec, dfg in fungroup.items():\n",
    "    fungroup_n[molec] = {k: len(v) for k, v in dfg.items()}"
   ]
  },
  {
   "cell_type": "code",
   "execution_count": null,
   "id": "1d681fd0",
   "metadata": {},
   "outputs": [],
   "source": [
    "# Get global frequency of all functional groups\n",
    "fg_count = {}  # key = functional group, value = global count\n",
    "for molec, dfg in fungroup_n.items():\n",
    "    for fg, n in dfg.items():\n",
    "        try:\n",
    "            fg_count[fg] += n\n",
    "        except KeyError:\n",
    "            fg_count[fg] = n\n",
    "# sort by increasing frequency\n",
    "fg_count = {k: v for k, v in sorted(fg_count.items(), key=lambda item: item[1])}\n",
    "print('Functional groups by rarity in dataset:')\n",
    "fg_count"
   ]
  },
  {
   "cell_type": "code",
   "execution_count": null,
   "id": "f2f61229",
   "metadata": {},
   "outputs": [],
   "source": [
    "def fgrp_rxn_counts(rxn):\n",
    "    # Given a reaction (list of [molec, coeff] pairs),\n",
    "    #   return a dict of functional groups\n",
    "    #   key = f-group, value = net count\n",
    "    fgcount = {}  # key = f-group, value = count\n",
    "    for [mol, coeff] in rxn:\n",
    "        gd = fungroup_n[mol]  # key = fgrp, value = count\n",
    "        for fg, n in gd.items():\n",
    "            try:\n",
    "                fgcount[fg] += n * coeff\n",
    "            except KeyError:\n",
    "                fgcount[fg] = n * coeff\n",
    "    return fgcount\n",
    "def fgrp_are_balanced(rxn):\n",
    "    # return True or False\n",
    "    fgcount = fgrp_rxn_counts(rxn)\n",
    "    bal = True\n",
    "    for fg, n in fgcount.items():\n",
    "        if n != 0:\n",
    "            bal = False\n",
    "    return bal"
   ]
  },
  {
   "cell_type": "code",
   "execution_count": null,
   "id": "90d6db33",
   "metadata": {},
   "outputs": [],
   "source": [
    "def balance_rarest_fgrp(rxn):\n",
    "    # Given a reaction (list of [molec, coeff] pairs) that is \n",
    "    #    unbalanced in functional groups, return a list of extended\n",
    "    #    reactions that balance the rarest functional group\n",
    "    fgnet = fgrp_rxn_counts(rxn)  # key = f-group, value = net count\n",
    "    for fg in fg_count.keys():\n",
    "        # fg_count is ordered by increasing frequency in the dataset\n",
    "        net = fgnet.get(fg, 0)\n",
    "        if net:\n",
    "            break\n",
    "    else:\n",
    "        # all functional groups are balanced; just return the input\n",
    "        #print(f'***Functional groups are balanced: {rxn}')\n",
    "        return [rxn]\n",
    "    # fg is the rarest unbalanced functional group\n",
    "    #print(f'Eliminating functional group {fg} with coeff = {net}')\n",
    "    rxlist = []\n",
    "    educts = [pr[0] for pr in rxn]\n",
    "    for molec, dfg in fungroup_n.items():\n",
    "        # do not repeat any existing educt\n",
    "        if molec in educts:\n",
    "            continue\n",
    "        if fg in dfg.keys():\n",
    "            # it's a novel educt with the desired functional group\n",
    "            # But does it include functional groups that are rarer than 'fg'?\n",
    "            for grp in dfg.keys():\n",
    "                if fg_count[grp] < fg_count[fg]:\n",
    "                    # it does; do not use it\n",
    "                    continue\n",
    "            # OK, add this educt\n",
    "            n = dfg[fg]\n",
    "            coef = -net / n\n",
    "            rx = rxn.copy()\n",
    "            rx.append([molec, coef])\n",
    "            rxlist.append(rx)\n",
    "    return rxlist"
   ]
  },
  {
   "cell_type": "code",
   "execution_count": null,
   "id": "46703913",
   "metadata": {},
   "outputs": [],
   "source": [
    "thresh_num_rx = 1e6  # stop searching if number of possible reactions exceeds this\n",
    "thresh_grp_bal = 1000  # stop searching if number of functional-group-balanced reactions exceeds this\n",
    "max_depth = 5  # maximum number of functional groups to balance"
   ]
  },
  {
   "cell_type": "code",
   "execution_count": null,
   "id": "ed643f5f",
   "metadata": {},
   "outputs": [],
   "source": [
    "target = 'phcooh'"
   ]
  },
  {
   "cell_type": "code",
   "execution_count": null,
   "id": "37899d2e",
   "metadata": {
    "scrolled": false
   },
   "outputs": [],
   "source": [
    "rxns = [ [[target, -1]] ]\n",
    "print('Generating reactions that are balanced by functional group (only)')\n",
    "for ifun in range(max_depth):\n",
    "    print(f'search depth = {ifun+1}')\n",
    "    old_rxns = rxns\n",
    "    rxns = []\n",
    "    for rx in old_rxns:\n",
    "        rxl = balance_rarest_fgrp(rx)\n",
    "        rxns += rxl\n",
    "    nbal = sum([fgrp_are_balanced(rx) for rx in rxns])\n",
    "    print(f'\\t{len(rxns)} total reactions of which {nbal} are fg-balanced')\n",
    "    if (nbal > thresh_grp_bal) or (len(rxns) > thresh_num_rx):\n",
    "        # a threshold is exceeded\n",
    "        print('Threshold exceeded--done')\n",
    "        break\n",
    "# Further consideration only for the fg-balanced reactions\n",
    "rxns = [rx for rx in rxns if fgrp_are_balanced(rx)]"
   ]
  },
  {
   "cell_type": "code",
   "execution_count": null,
   "id": "6401cc6b",
   "metadata": {},
   "outputs": [],
   "source": [
    "# Get experimental EoF uncertainties, for use in culling reactions\n",
    "#   also spin multiplicities, for the same purpose\n",
    "#   also whether has WebBook thermo (same purpose)\n",
    "uexp = {}\n",
    "spinmult = {}\n",
    "WBthermo = {}\n",
    "for molec, mdata in moldata.items():\n",
    "    u = 10  # use this if no uncertainty is available\n",
    "    wb = 0\n",
    "    if 'Refdata' in mdata.keys():\n",
    "        for source, thermex in mdata['Refdata'].items():\n",
    "            if 'EoF0' in thermex.keys():\n",
    "                try:\n",
    "                    ux = thermex['unc']\n",
    "                    if ux == -999:\n",
    "                        # defined quantity\n",
    "                        ux = 0\n",
    "                except KeyError:\n",
    "                    pass\n",
    "                try:\n",
    "                    k = thermex['k_cover']\n",
    "                except:\n",
    "                    k = 2  # usual for thermo data\n",
    "                u = min(u, ux/k)\n",
    "            if source == 'WebBook':\n",
    "                wb = 1\n",
    "    uexp[molec] = u\n",
    "    spinmult[molec] = mdata['Spin_mult']\n",
    "    WBthermo[molec] = wb"
   ]
  },
  {
   "cell_type": "code",
   "execution_count": null,
   "id": "55ecd6ca",
   "metadata": {},
   "outputs": [],
   "source": [
    "print('Aggressive culling so that no educt appears more than once')\n",
    "# score each reaction; lower is better\n",
    "scores = []\n",
    "for rx in rxns:\n",
    "    s = 0  # base score\n",
    "    # penalty for free radicals\n",
    "    smult = 0\n",
    "    # penalty for lacking thermochem data in WebBook (maybe \"weird\" molecule)\n",
    "    wb = 0\n",
    "    for [educt, coeff] in rx:\n",
    "        smult += max(1, abs(coeff)) * (spinmult[educt] - 1) ** 2\n",
    "        if educt != target:\n",
    "            wb += (1 - WBthermo[educt]) * max(1, abs(coeff))\n",
    "    s += smult\n",
    "    s += wb * wb\n",
    "    # penalty for uncertainty in exptl thermochem\n",
    "    uvec = np.array([uexp[mol] * coef for [mol, coef] in rx[1:]])\n",
    "    uex = np.sqrt(np.dot(uvec, uvec))\n",
    "    s += uex\n",
    "    # penalty for lots of educts\n",
    "    s += (len(rx) - 2) ** 2    \n",
    "    # penalty for bare atoms\n",
    "    nat = 0\n",
    "    for [educt, coeff] in rx:\n",
    "        if Gdict[educt].natom() == 1:\n",
    "            nat += abs(coeff)\n",
    "    s == nat * nat\n",
    "    scores.append(s)\n",
    "# which reactions to keep?\n",
    "ikeep = []  # indices of reactions to keep\n",
    "eused = []  # list of educts used\n",
    "idx = np.argsort(scores)  # by increasing score\n",
    "for irx in idx:\n",
    "    neweduct = True\n",
    "    rx = rxns[irx]\n",
    "    for [educt, coef] in rx[1:]:  # skipping the target\n",
    "        if educt in eused:\n",
    "            neweduct = False\n",
    "    if neweduct:\n",
    "        # no repeated educts; add this reaction\n",
    "        ikeep.append(irx)\n",
    "        for [educt, coef] in rxns[irx][1:]:  # skipping the target\n",
    "            eused.append(educt)\n",
    "print(len(ikeep), 'reactions left')"
   ]
  },
  {
   "cell_type": "code",
   "execution_count": null,
   "id": "646b2b1a",
   "metadata": {
    "scrolled": true
   },
   "outputs": [],
   "source": [
    "# Complete the reaction balancing using simple species (which may repeat among reactions)\n",
    "simple = []  # list of \"simple\" molecules\n",
    "scompos = []  # list of elemental composition dict\n",
    "natom = []  # number of atoms in each molecule\n",
    "exclude = ['o3']\n",
    "for molec in moldata.keys():\n",
    "    if molec == target:\n",
    "        continue\n",
    "    if molec in exclude:\n",
    "        continue\n",
    "    if (WBthermo[molec] != 1) and (uexp[molec] != 0):\n",
    "        continue\n",
    "    # precisely known thermochemistry\n",
    "    if uexp[molec] > 0.1:  # kJ/mol\n",
    "        continue\n",
    "    # no more than three elements\n",
    "    stoich = Gdict[molec].stoichiometry(asdict=True)\n",
    "    nelem = len(stoich)\n",
    "    if nelem > 3:\n",
    "        continue\n",
    "    # Add spin and charge to the dict, if nonzero\n",
    "    ss = moldata[molec]['Spin_mult'] - 1\n",
    "    if ss:\n",
    "        stoich['2S'] = ss\n",
    "    q = moldata[molec]['Charge']\n",
    "    if q:\n",
    "        stoich['charge'] = q\n",
    "    simple.append(molec)\n",
    "    scompos.append(stoich)\n",
    "    natom.append(Gdict[molec].natom())\n",
    "# sort the \"simple\" molecules by number of atoms\n",
    "idx = np.argsort(natom)\n",
    "natom = [natom[i] for i in idx]\n",
    "simple = [simple[i] for i in idx]\n",
    "scompos = [scompos[i] for i in idx]"
   ]
  },
  {
   "cell_type": "code",
   "execution_count": null,
   "id": "7df8cf7c",
   "metadata": {
    "scrolled": true
   },
   "outputs": [],
   "source": [
    "print(f'There are {len(simple)} \"simple\" molecules:')\n",
    "for m, e in zip(simple, scompos):\n",
    "    print(m, '\\t', e)"
   ]
  },
  {
   "cell_type": "code",
   "execution_count": null,
   "id": "27d13cc3",
   "metadata": {},
   "outputs": [],
   "source": [
    "for i in ikeep:\n",
    "    print(f'{scores[i]:.2f}')\n",
    "    retval = mrx.check_reactions_balance(rxns[i], Gdict)\n",
    "    print('>>', retval)\n",
    "    if True in retval:\n",
    "        print('\\t\\t', rxns[i])"
   ]
  },
  {
   "cell_type": "code",
   "execution_count": null,
   "id": "ef36cf77",
   "metadata": {},
   "outputs": [],
   "source": [
    "def reaction_net_spin_charge(rx, moldata):\n",
    "    # 'rx' is list of [molec, coeff] pairs\n",
    "    # 'moldata' is dict of YAML data for all molecules\n",
    "    spin = 0  # 2*S\n",
    "    charge = 0\n",
    "    for [molec, coef] in rx:\n",
    "        spin += (moldata[molec]['Spin_mult'] - 1) * coef\n",
    "        charge += moldata[molec]['Charge'] * coef\n",
    "    return spin, charge\n",
    "\n",
    "def balance_using_simple(baldict, simple, scompos):\n",
    "    # Balance a reaction using only \"simple\" educts\n",
    "    # Do not use Gram-Schmidt \n",
    "    # 'baldict' {element: coefficient} that must be negated to balance a reaction\n",
    "    #    \"elements\" can include '2S' (spin) and 'charge'\n",
    "    # 'simple' is list of \"simple\" molecules, sorted by number of atoms\n",
    "    # 'scompos' is list of dict of composition (incl. spin, charge) of the \"simple\"\n",
    "    # Allow up to two educts to be used\n",
    "    # Return a list of {molec: coeff} that negates 'baldict', sorted by \n",
    "    #    decreasing desirability (supposedly)\n",
    "    balset = set(baldict.keys())\n",
    "    elems = set()\n",
    "    for comp in scompos:\n",
    "        elems = elems.union(comp.keys())\n",
    "    if not balset <= elems:\n",
    "        # the list of simple molecules is missing essential elements\n",
    "        chem.print_err('', f'elements {balset} are not spanned by {elems}')\n",
    "    # construct composition vectors\n",
    "    ordel = sorted(elems)\n",
    "    #print('>>>ordel =\\t', ordel)\n",
    "    R = np.array([baldict.get(el, 0) for el in ordel])\n",
    "    R = -R  # want to match the negative\n",
    "    #print('>>>-R =\\t\\t', R)\n",
    "\n",
    "    answers = []\n",
    "    # Try one educt\n",
    "    vec = []  # list of numpy array\n",
    "    vn = []    # unit vectors \n",
    "    for comp in scompos:\n",
    "        v = np.array([comp.get(el, 0) for el in ordel])\n",
    "        vec.append(v)\n",
    "        vn.append(chem.normalize(v))\n",
    "    tol = 1.e-6\n",
    "    for imol, x in enumerate(vn):\n",
    "        p = np.dot(R, x)\n",
    "        res = R - p * x\n",
    "        if np.linalg.norm(res) < tol:\n",
    "            # got an answer\n",
    "            s = np.sign(p) * np.linalg.norm(R) / np.linalg.norm(vec[imol])\n",
    "            answers.append({simple[imol]: s})\n",
    "    if len(answers) == 0:\n",
    "        # Try two educts\n",
    "        nsimp = len(simple)\n",
    "        for irow in range(nsimp):\n",
    "            for el1 in scompos[irow].keys():\n",
    "                if el1 not in baldict.keys():\n",
    "                    continue\n",
    "                # fix this one coefficient\n",
    "                ia = ordel.index(el1)\n",
    "                if R[ia] == 0:\n",
    "                    continue\n",
    "                a = R[ia] / vec[irow][ia]\n",
    "                res = R - a * vec[irow]\n",
    "                for icol in range(nsimp):\n",
    "                    if np.linalg.norm(vn[icol] - vn[irow]) < tol:\n",
    "                        # redundant (parallel) with first vector\n",
    "                        continue\n",
    "                    # is 'res' parallel to this vector?\n",
    "                    p = np.dot(res, vn[icol])\n",
    "                    res2 = res - p * vn[icol]\n",
    "                    if np.linalg.norm(res2) < tol:\n",
    "                        # got an answer\n",
    "                        b = np.sign(p) * np.linalg.norm(res) / np.linalg.norm(vec[icol])\n",
    "                        answers.append({simple[irow]: a, simple[icol]: b})\n",
    "    if len(answers) == 0:\n",
    "        # failed\n",
    "        return None\n",
    "    # remove any duplicates\n",
    "    ans = []\n",
    "    for d in answers:\n",
    "        if d not in ans:\n",
    "            ans.append(d)\n",
    "    if len(ans) == 1:\n",
    "        return ans\n",
    "    # find the \"best\" answer (lowest score)\n",
    "    score = [0] * len(ans)\n",
    "    for ians, a in enumerate(ans):\n",
    "        for educt in a.keys():\n",
    "            imol = simple.index(educt)\n",
    "            # disfavor reactions involving bare atoms\n",
    "            if natom[imol] == 1:\n",
    "                score[ians] += 3\n",
    "            # disfavor radicals (spin != 0)\n",
    "            compset = set(scompos[imol].keys())\n",
    "            if '2S' in compset:\n",
    "                score[ians] += 2\n",
    "            # disfavor reactions that introduce new elements\n",
    "            if not compset <= balset:\n",
    "                score[ians] += 1\n",
    "            # prefer fewer reactants\n",
    "            score[ians] += len(a)\n",
    "    #for s, r in zip(score, ans):\n",
    "    #    print(f'::: score = {s} for ans =', r)\n",
    "    idx = np.argsort(score)\n",
    "    ans = [ans[i] for i in idx]\n",
    "    return ans"
   ]
  },
  {
   "cell_type": "code",
   "execution_count": null,
   "id": "133d33cd",
   "metadata": {},
   "outputs": [],
   "source": [
    "for i in ikeep.copy():\n",
    "    retval = mrx.check_reactions_balance(rxns[i], Gdict, verbose=False, details=True)\n",
    "    if retval[0][0] == False:\n",
    "        # reaction needs balancing\n",
    "        print(rxns[i])\n",
    "        unbal = retval[1][0]  # dict with key = elem, value = coeff\n",
    "        # add data about spin and charge\n",
    "        sp, q = reaction_net_spin_charge(rxns[i], moldata)\n",
    "        if sp:\n",
    "            unbal['2S'] = sp\n",
    "        if q:\n",
    "            unbal['charge'] = q\n",
    "        print('\\t>>>>>>>>', unbal)\n",
    "        # look for a \"simple\" molecule that contains only these elements\n",
    "        small = balance_using_simple(unbal, simple, scompos)\n",
    "        for d in small:\n",
    "            print('\\t<<', d)\n",
    "        if small is None:\n",
    "            chem.print_err('', f'Failed to balance reaction {rxns[i]}', halt=False)\n",
    "            # remove it from the list\n",
    "            ikeep.remove(i)\n",
    "            continue\n",
    "        if len(small) == 1:\n",
    "            answer = small[0]\n",
    "        elif len(small) > 1:\n",
    "            # choose one solution; prefer any that use existing reactants\n",
    "            rxset = set([r[0] for r in rxns[i]])\n",
    "            solsets = [set(soln.keys()) for soln in small]\n",
    "            dupl = []  # count of existing reactants used\n",
    "            for solset in solsets:\n",
    "                dupl.append(len(rxset.intersection(solset)))\n",
    "            idx = np.argwhere(dupl).flatten()\n",
    "            print(':::idx =', list(idx))\n",
    "            if len(idx) == 1:\n",
    "                # choose this one\n",
    "                answer = small[idx[0]]\n",
    "            elif len(idx) > 1:\n",
    "                # choose the most overlap\n",
    "                i = np.argmax(dupl)\n",
    "                answer = small[i]\n",
    "            else:\n",
    "                # len(idx) = 0; just choose the first one\n",
    "                answer = small[0]\n",
    "        # add these educts to the reaction\n",
    "        print('\\t-----answer =', answer)\n",
    "        for r, c in answer.items():\n",
    "            for ie, [re, ce] in enumerate(rxns[i].copy()):\n",
    "                if r == re:\n",
    "                    # adjust coefficient of existing reactant\n",
    "                    rxns[i][ie] = [re, ce + c]\n",
    "                    break\n",
    "            else:\n",
    "                # a new reactant\n",
    "                rxns[i].append([r, c])\n",
    "        retval = mrx.check_reactions_balance(rxns[i], Gdict, verbose=False, details=False)\n",
    "        print('\\tafter balancing:', retval)"
   ]
  },
  {
   "cell_type": "code",
   "execution_count": null,
   "id": "81523407",
   "metadata": {
    "scrolled": true
   },
   "outputs": [],
   "source": [
    "# save the reactions generated by functional-group balancing\n",
    "reactions = [rxns[i] for i in ikeep]\n",
    "for rx in reactions:\n",
    "    print(rx)"
   ]
  },
  {
   "cell_type": "code",
   "execution_count": null,
   "id": "51b21d2d",
   "metadata": {},
   "outputs": [],
   "source": [
    "rxn = mrx.reaction_bond_separation(target, Gdict[target])\n",
    "print(rxn)"
   ]
  },
  {
   "cell_type": "code",
   "execution_count": null,
   "id": "44dfe3d7",
   "metadata": {},
   "outputs": [],
   "source": [
    "for mol, stoich in mrx.BOND_SEP_PROTO_STOICHIOMETRIES.items():\n",
    "    try:\n",
    "        st = Gdict[mol].stoichiometry(asdict=True)\n",
    "        if stoich == st:\n",
    "            print(mol, 'is OK')\n",
    "        else:\n",
    "            print(f'Error: for {mol}', stoich, st)\n",
    "    except KeyError:\n",
    "        pass"
   ]
  },
  {
   "cell_type": "markdown",
   "id": "8ad8f9b2",
   "metadata": {},
   "source": [
    "# cruft below"
   ]
  },
  {
   "cell_type": "code",
   "execution_count": null,
   "id": "7305a2e9",
   "metadata": {},
   "outputs": [],
   "source": [
    "def reaction_net_spin_charge(rx, moldata):\n",
    "    # 'rx' is list of [molec, coeff] pairs\n",
    "    # 'moldata' is dict of YAML data for all molecules\n",
    "    spin = 0  # 2*S\n",
    "    charge = 0\n",
    "    for [molec, coef] in rx:\n",
    "        spin += (moldata[molec]['Spin_mult'] - 1) * coef\n",
    "        charge += moldata[molec]['Charge'] * coef\n",
    "    return spin, charge\n",
    "\n",
    "def balance_using_simple(baldict, simple, scompos):\n",
    "    # Balance a reaction using only \"simple\" educts\n",
    "    # Uses Gram-Schmidt despite lack of orthonormality\n",
    "    # 'baldict' {element: coefficient} that must be negated to balance a reaction\n",
    "    #    \"elements\" can include '2S' (spin) and 'charge'\n",
    "    # 'simple' is list of \"simple\" molecules, sorted by number of atoms\n",
    "    # 'scompos' is list of dict of composition (incl. spin, charge) of the \"simple\"\n",
    "    # Allow up to 3 educts to be used\n",
    "    # Return {molec: coeff} that negates 'baldict'\n",
    "    elems = set()\n",
    "    for comp in scompos:\n",
    "        elems = elems.union(comp.keys())\n",
    "    if not set(baldict.keys()) <= elems:\n",
    "        # the list of simple molecules is missing essential elements\n",
    "        chem.print_err('', f'elements {set(baldict.keys())} are not spanned by {elems}')\n",
    "    # construct composition vectors\n",
    "    ordel = sorted(elems)\n",
    "    print('>>>ordel =\\t', ordel)\n",
    "    R = np.array([baldict.get(el, 0) for el in ordel])\n",
    "    R = -R  # want to match the negative\n",
    "    print('>>>-R =\\t\\t', R)\n",
    "    vecs = []  # list of numpy array\n",
    "    vn = []    # unit vectors \n",
    "    for comp in scompos:\n",
    "        v = np.array([comp.get(el, 0) for el in ordel])\n",
    "        vecs.append(v)\n",
    "        vn.append(chem.normalize(v))\n",
    "    # Try one educt\n",
    "    tol = 1.e-6\n",
    "    resid = []\n",
    "    for imol, x in enumerate(vn):\n",
    "        res = R - np.dot(R, x) * x\n",
    "        if simple[imol] == 'oh':\n",
    "            print('<><> oh, R =', np.round(R, 3))\n",
    "        if np.linalg.norm(res) < tol:\n",
    "            # got an answer\n",
    "            s = np.linalg.norm(R) / np.linalg.norm(vecs[imol])\n",
    "            return {simple[imol]: s}\n",
    "        resid.append(res)\n",
    "    # we get here if one educt was not enough\n",
    "    resid2 = np.zeros((len(simple), len(simple)), dtype=object)\n",
    "    for irow, R1 in enumerate(resid):\n",
    "        for imol, x in enumerate(vn):\n",
    "            if imol == irow:\n",
    "                continue\n",
    "            res = R1 - np.dot(R1, x) * x\n",
    "            if simple[irow] == 'oh':\n",
    "                y = np.linalg.norm(res)\n",
    "                z = np.linalg.norm(R1)\n",
    "                print(f'<<< oh, |R1| = {z:.4f}, {simple[imol]} gives |res| = {y:.4f}')\n",
    "            if np.linalg.norm(res) < tol:\n",
    "                # got an answer\n",
    "                s1 = np.dot(R, vn[irow]) / np.linalg.norm(vecs[irow])\n",
    "                s2 = np.linalg.norm(R1) / np.linalg.norm(vecs[imol])\n",
    "                print('<><>', {simple[irow]: s1, simple[imol]: s2})\n",
    "            resid2[irow, imol] = res\n",
    "    return None"
   ]
  },
  {
   "cell_type": "code",
   "execution_count": null,
   "id": "aa42bd51",
   "metadata": {},
   "outputs": [],
   "source": [
    "\n",
    "    \n",
    "    \n",
    "    matches = {}  # key = molec, value = multiplier\n",
    "    natom = {}  # key = molec, value = number of atoms (sometimes needed)\n",
    "    for mol, comp in zip(simple, scompos):\n",
    "        if set(baldict.keys()) != set(comp.keys()):\n",
    "            # wrong elements\n",
    "            continue\n",
    "        # look for same ratio of elements\n",
    "        elems = sorted(comp.keys())\n",
    "        nat = sum([v for k, v in comp.items() if k not in ['2S', 'charge']])\n",
    "        natom[mol] = nat\n",
    "        coefs = np.array([baldict[el] for el in elems])\n",
    "        scoef = np.array([comp[el] for el in elems])\n",
    "        relc = np.round(coefs / coefs[0], 4)  # ratios to be compensated\n",
    "        rs = np.round(scoef / scoef[0], 4)  # ratios in simple molec\n",
    "        if np.array_equal(relc, rs):\n",
    "            # stoichiometric ratio is correct\n",
    "            ratio = coefs[0] / scoef[0]\n",
    "            print('\\tMatch: ', mol, scoef, f'*{ratio}')\n",
    "            matches[mol] = -ratio\n",
    "            smallest = mol  # just to have an initial value\n",
    "            minatom = natom[mol]\n",
    "    if len(matches) > 0:\n",
    "        # choose the smallest molecule\n",
    "        for mol in matches.keys():\n",
    "            if natom[mol] < minatom:\n",
    "                minatom = natom[mol]\n",
    "                smallest = mol\n",
    "        return smallest, matches[smallest]\n",
    "    # No match was found.  \n",
    "    return None\n",
    "    \n",
    "def balance_retry(baldict, simple, scompos):\n",
    "    # Try this when match_simple_educt() fails\n",
    "    Can we first balance spin?\n",
    "    sp = baldict.get('2S', 0)\n",
    "    if sp == 0:\n",
    "        print('\\t>>>no spin to flip')\n",
    "        return None\n",
    "    # try flipping the spin\n",
    "    flp = baldict.copy()\n",
    "    flp['2S'] *= -1\n",
    "    sm = match_simple_educt(flp, simple, scompos)\n",
    "    if sm is None:\n",
    "        print('\\t>>>flipping spin did not help')\n",
    "        return None\n",
    "    # success; now reverse the coefficient\n",
    "    sm = (sm[0], -sm[1])\n",
    "    return sm"
   ]
  },
  {
   "cell_type": "code",
   "execution_count": null,
   "id": "0983b818",
   "metadata": {},
   "outputs": [],
   "source": [
    "for m, mdat in moldata.items():\n",
    "    try:\n",
    "        u = mdat['Refdata']['ATcT']['unc']\n",
    "    except:\n",
    "        u = -2\n",
    "    if u < 0:\n",
    "        print(m, u)"
   ]
  },
  {
   "cell_type": "code",
   "execution_count": null,
   "id": "e071fd95",
   "metadata": {},
   "outputs": [],
   "source": [
    "moldata['ch3']['Refdata']"
   ]
  },
  {
   "cell_type": "code",
   "execution_count": null,
   "id": "5f49756a",
   "metadata": {},
   "outputs": [],
   "source": [
    "rxns[4837]"
   ]
  },
  {
   "cell_type": "code",
   "execution_count": null,
   "id": "45a73a0c",
   "metadata": {},
   "outputs": [],
   "source": []
  },
  {
   "cell_type": "code",
   "execution_count": null,
   "id": "641a024f",
   "metadata": {},
   "outputs": [],
   "source": []
  },
  {
   "cell_type": "code",
   "execution_count": null,
   "id": "52e9316c",
   "metadata": {},
   "outputs": [],
   "source": []
  },
  {
   "cell_type": "code",
   "execution_count": null,
   "id": "c4507d2e",
   "metadata": {},
   "outputs": [],
   "source": []
  },
  {
   "cell_type": "code",
   "execution_count": null,
   "id": "d6c86f11",
   "metadata": {},
   "outputs": [],
   "source": []
  },
  {
   "cell_type": "code",
   "execution_count": null,
   "id": "70ee215c",
   "metadata": {},
   "outputs": [],
   "source": []
  },
  {
   "cell_type": "code",
   "execution_count": null,
   "id": "66e54756",
   "metadata": {},
   "outputs": [],
   "source": []
  },
  {
   "cell_type": "code",
   "execution_count": null,
   "id": "7c339feb",
   "metadata": {},
   "outputs": [],
   "source": [
    "def reaction_net_spin_charge(rx, moldata):\n",
    "    # 'rx' is list of [molec, coeff] pairs\n",
    "    # 'moldata' is dict of YAML data for all molecules\n",
    "    spin = 0  # 2*S\n",
    "    charge = 0\n",
    "    for [molec, coef] in rx:\n",
    "        spin += (moldata[molec]['Spin_mult'] - 1) * coef\n",
    "        charge += moldata[molec]['Charge'] * coef\n",
    "    return spin, charge\n",
    "\n",
    "def match_simple_educt(baldict, simple, scompos):\n",
    "    # 'baldict' {element: coefficient} that must be compensated to balance a reaction\n",
    "    #    two \"elements\" for this purpose can be '2S' (spin) and 'charge'\n",
    "    # 'simple' is list of \"simple\" molecules\n",
    "    # 'scompos' is dict of composition (incl. spin, charge) of the \"simple\"\n",
    "    # Return (molec, coeff) with the \"best\" choice of simple molecule,\n",
    "    #    and its coefficient\n",
    "    matches = {}  # key = molec, value = multiplier\n",
    "    natom = {}  # key = molec, value = number of atoms (sometimes needed)\n",
    "    balset = set(baldict.keys())\n",
    "    for mol, comp in zip(simple, scompos):\n",
    "        if balset != set(comp.keys()):\n",
    "            # wrong elements\n",
    "            continue\n",
    "        # look for same ratio of elements\n",
    "        elems = sorted(comp.keys())\n",
    "        nat = sum([v for k, v in comp.items() if k not in ['2S', 'charge']])\n",
    "        natom[mol] = nat\n",
    "        coefs = np.array([baldict[el] for el in elems])\n",
    "        scoef = np.array([comp[el] for el in elems])\n",
    "        relc = np.round(coefs / coefs[0], 4)  # ratios to be compensated\n",
    "        rs = np.round(scoef / scoef[0], 4)  # ratios in simple molec\n",
    "        if np.array_equal(relc, rs):\n",
    "            # stoichiometric ratio is correct\n",
    "            ratio = coefs[0] / scoef[0]\n",
    "            print('\\tMatch: ', mol, scoef, f'*{ratio}')\n",
    "            matches[mol] = -ratio\n",
    "            smallest = mol  # just to have an initial value\n",
    "            minatom = natom[mol]\n",
    "    if len(matches) > 0:\n",
    "        # choose the smallest molecule\n",
    "        for mol in matches.keys():\n",
    "            if natom[mol] < minatom:\n",
    "                minatom = natom[mol]\n",
    "                smallest = mol\n",
    "        return smallest, matches[smallest]\n",
    "    # No match was found.  \n",
    "    return None\n",
    "    \n",
    "def balance_retry(baldict, simple, scompos):\n",
    "    # Try this when match_simple_educt() fails\n",
    "    Can we first balance spin?\n",
    "    sp = baldict.get('2S', 0)\n",
    "    if sp == 0:\n",
    "        print('\\t>>>no spin to flip')\n",
    "        return None\n",
    "    # try flipping the spin\n",
    "    flp = baldict.copy()\n",
    "    flp['2S'] *= -1\n",
    "    sm = match_simple_educt(flp, simple, scompos)\n",
    "    if sm is None:\n",
    "        print('\\t>>>flipping spin did not help')\n",
    "        return None\n",
    "    # success; now reverse the coefficient\n",
    "    sm = (sm[0], -sm[1])\n",
    "    return sm"
   ]
  },
  {
   "cell_type": "code",
   "execution_count": null,
   "id": "9f5d00d0",
   "metadata": {},
   "outputs": [],
   "source": [
    "targroups = list(fungroup[target].keys())\n",
    "print('target =', target)\n",
    "print(targroups)"
   ]
  },
  {
   "cell_type": "code",
   "execution_count": null,
   "id": "86cbf415",
   "metadata": {},
   "outputs": [],
   "source": [
    "Nmatchgrps = {}  # key = molec name, value = dict of functional groups that match target (key = fgrp, value = count)\n",
    "for molec, dgrp in fungroup.items():\n",
    "    # includes the target molecule\n",
    "    Nmatchgrps[molec] = {k: len(v) for k, v in dgrp.items() if k in fungroup[target].keys()}\n",
    "\n",
    "Nmatchmols = {g: {} for g in targroups}  # key = functional group (in target), value = dict (key = molec, value = count)\n",
    "for molec, dgrp in Nmatchgrps.items():\n",
    "    for g, n in dgrp.items():\n",
    "        if g in targroups:\n",
    "            Nmatchmols[g][molec] = n"
   ]
  },
  {
   "cell_type": "code",
   "execution_count": null,
   "id": "6e27022b",
   "metadata": {},
   "outputs": [],
   "source": [
    "print('Number of other molecules matching target functional groups:')\n",
    "Nmols = {k: len(v) for k, v in Nmatchmols.items()}\n",
    "# sort functional groups by count in dataset\n",
    "targroups = [k for k, v in sorted(Nmols.items(), key=lambda item: item[1])]\n",
    "for grp in targroups:\n",
    "    print(f'{grp:<15s}  {len(Nmatchmols[grp]) - 1}')"
   ]
  },
  {
   "cell_type": "code",
   "execution_count": null,
   "id": "93089301",
   "metadata": {
    "scrolled": false
   },
   "outputs": [],
   "source": [
    "def gbalanced(gbal):\n",
    "    # return True if functional groups are balanced\n",
    "    # else False\n",
    "    bal = True\n",
    "    for g, n in gbal.items():\n",
    "        if n:\n",
    "            bal = False\n",
    "    return bal\n",
    "\n",
    "# start with the rarest functional group\n",
    "fg = targroups[0]\n",
    "# all possible neutralizers of this fgroup\n",
    "rxns = []  # list of dict (key = molec, value = coeff)\n",
    "gbals = []  # list of dict (key = fgroup, value = coeff)\n",
    "for mol, nm in Nmatchmols[fg].items():\n",
    "    # 'mol' is name of molecule, 'nm' is count of fgroup 'fg'\n",
    "    if mol == target:\n",
    "        continue\n",
    "    rxn = {target: -1}\n",
    "    gbal = {g: -n for g, n in Nmatchgrps[target].items()}  # key = fgroup, value = coeff\n",
    "    c = -gbal[fg] / nm\n",
    "    rxn[mol] = c\n",
    "    for g, n in Nmatchgrps[mol].items():\n",
    "        ng = gbal.get(g, 0)\n",
    "        gbal[g] = ng + c * n\n",
    "    print(rxn)\n",
    "    print(gbal)"
   ]
  },
  {
   "cell_type": "code",
   "execution_count": null,
   "id": "a217f87b",
   "metadata": {},
   "outputs": [],
   "source": [
    "Nmatchgrps"
   ]
  },
  {
   "cell_type": "code",
   "execution_count": null,
   "id": "09e756a0",
   "metadata": {},
   "outputs": [],
   "source": [
    "target = 'ethanol'\n",
    "#target = 'etono'\n",
    "#target = 'dioxolane'\n",
    "target = 'bicyc82one'\n",
    "#target = 'c2h5cho'\n",
    "#target = 'acoh'\n",
    "#target = 'butyrolactone'\n",
    "#target = 'acetoxyl'\n",
    "#target = 'EC'\n",
    "#target = 'onono2'\n",
    "target = 'phcooh'\n",
    "#target = 'naphthalene'\n",
    "#target = 'PrNH2'\n",
    "#target = 'fcn'\n",
    "#target = 'AcNH2'\n",
    "#target = 'DMSO'\n",
    "#target = 'butadiene'\n",
    "#target = 'benzyne'\n",
    "#target = 'c6h5'\n",
    "G = Gdict[target]\n",
    "tstoich = G.stoichiometry(asdict=True)\n",
    "tstoich"
   ]
  },
  {
   "cell_type": "code",
   "execution_count": null,
   "id": "5f39f801",
   "metadata": {},
   "outputs": [],
   "source": [
    "print('Molecule =', target)\n",
    "for grp, atoms in fungroup[target].items():\n",
    "    if len(atoms):\n",
    "        print(f'{grp:<15s}  {atoms}')"
   ]
  },
  {
   "cell_type": "code",
   "execution_count": null,
   "id": "e04ac978",
   "metadata": {
    "scrolled": true
   },
   "outputs": [],
   "source": [
    "# Find all other molecules with these functional groups\n",
    "fgmatch = {}  # key = functional group, value = list of molec names\n",
    "for grp in fungroup[target].keys():\n",
    "    omolec = []\n",
    "    for molec, fgroup in fungroup.items():\n",
    "        if molec == target:\n",
    "            continue\n",
    "        match = fgroup.get(grp, [])\n",
    "        if match:\n",
    "            omolec.append(molec)\n",
    "            matchgrps[molec].append(grp)\n",
    "    fgmatch[grp] = omolec\n",
    "print(f'Number of molecules that match functional groups in {target}:')\n",
    "nmatch = {grp: len(omolec) for grp, omolec in fgmatch.items()}\n",
    "# make list of functional groups by decreasing rarity\n",
    "fgroups = [grp for grp, n in sorted(nmatch.items(), key=lambda item: item[1])]\n",
    "for grp in fgroups:\n",
    "    print(f'{grp:<15s}  {nmatch[grp]}')"
   ]
  },
  {
   "cell_type": "code",
   "execution_count": null,
   "id": "3d1dfb62",
   "metadata": {},
   "outputs": [],
   "source": [
    "# Assign a score to each molecule, based upon functional-group matching\n",
    "#   and rarity of functional groups\n",
    "mscore = {mol: 0 for mol in Gdict.keys()} \n",
    "for grp, n in nmatch.items():\n",
    "    s = 1. / n\n",
    "    for m in fgmatch[grp]:\n",
    "        mscore[m] += s\n",
    "# sort by decreasing score\n",
    "mscore = {m: s for m, s in sorted(mscore.items(), key=lambda item: item[1], reverse=True)}"
   ]
  },
  {
   "cell_type": "code",
   "execution_count": null,
   "id": "b8e26f57",
   "metadata": {},
   "outputs": [],
   "source": [
    "mscore"
   ]
  },
  {
   "cell_type": "code",
   "execution_count": null,
   "id": "bf0dcf74",
   "metadata": {
    "scrolled": true
   },
   "outputs": [],
   "source": [
    "for m in mscore.keys():\n",
    "    print(f'{m:<15s}  {matchgrps[m]}')"
   ]
  },
  {
   "cell_type": "code",
   "execution_count": null,
   "id": "781dbe7f",
   "metadata": {},
   "outputs": [],
   "source": [
    "# "
   ]
  },
  {
   "cell_type": "code",
   "execution_count": null,
   "id": "c9e7b716",
   "metadata": {},
   "outputs": [],
   "source": [
    "print('You have to close Avogadro to continue using this notebook')\n",
    "G.Avogadro()  # view molecule using Avogadro (separate window)"
   ]
  },
  {
   "cell_type": "code",
   "execution_count": null,
   "id": "746f4026",
   "metadata": {},
   "outputs": [],
   "source": [
    "Gdict['fluorene'].Avogadro()"
   ]
  },
  {
   "cell_type": "code",
   "execution_count": null,
   "id": "cf32a7fd",
   "metadata": {},
   "outputs": [],
   "source": [
    "G.bonded_list()[4]"
   ]
  },
  {
   "cell_type": "code",
   "execution_count": null,
   "id": "77a85fe4",
   "metadata": {},
   "outputs": [],
   "source": [
    "bentype = G.Benson_atom_type()\n",
    "bentype"
   ]
  },
  {
   "cell_type": "code",
   "execution_count": null,
   "id": "526ce6c3",
   "metadata": {},
   "outputs": [],
   "source": [
    "bentype = G.Benson_atom_type(detail=1)\n",
    "bentype"
   ]
  },
  {
   "cell_type": "code",
   "execution_count": null,
   "id": "1c984abd",
   "metadata": {},
   "outputs": [],
   "source": [
    "nbond = G.connection.sum(axis=0)\n",
    "nbond"
   ]
  },
  {
   "cell_type": "code",
   "execution_count": null,
   "id": "ce50c1aa",
   "metadata": {},
   "outputs": [],
   "source": [
    "df = G.list_bonds()\n",
    "df"
   ]
  },
  {
   "cell_type": "code",
   "execution_count": null,
   "id": "6cb1fc76",
   "metadata": {},
   "outputs": [],
   "source": [
    "subdf = df[df.order == 2]\n",
    "display(subdf)\n",
    "subdf = subdf[(subdf.el1 == 'C') & (subdf.el2 == 'C')]\n",
    "display(subdf)\n",
    "for irow, row in subdf.iterrows():\n",
    "    i1 = row.i1; i2 = row.i2\n",
    "    print(i1, bentype[i1], i2, bentype[i2])"
   ]
  },
  {
   "cell_type": "code",
   "execution_count": null,
   "id": "9d47cad8",
   "metadata": {},
   "outputs": [],
   "source": [
    "target = 'dioxolane'\n",
    "rxns = mrx.generate_reactions(target, moldata, Gdict)\n",
    "dfrx, fmtrx = mrx.build_reactions_DF(rxns, moldata, target)"
   ]
  },
  {
   "cell_type": "code",
   "execution_count": null,
   "id": "e06fb01b",
   "metadata": {
    "scrolled": true
   },
   "outputs": [],
   "source": [
    "dfrx.style.format(fmtrx)"
   ]
  },
  {
   "cell_type": "code",
   "execution_count": null,
   "id": "d5f65d44",
   "metadata": {
    "scrolled": false
   },
   "outputs": [],
   "source": [
    "crxns = mrx.cull_too_similar_reactions(target, rxns, moldata, Gdict, disjoint=True)\n",
    "dftest, fmttest = mrx.build_reactions_DF(crxns, moldata, target)\n",
    "dftest.sort_values('rho_E').style.format(fmttest)"
   ]
  },
  {
   "cell_type": "code",
   "execution_count": null,
   "id": "ea8e82ff",
   "metadata": {},
   "outputs": [],
   "source": [
    "def print_delta(rxns):\n",
    "    # just print stuff for this notebook\n",
    "    global target, moldata\n",
    "    # must be a list of reactions\n",
    "    if not rxns:\n",
    "        # empty list\n",
    "        print('No reactions')\n",
    "        return\n",
    "    if not isinstance(rxns[0][0], list):\n",
    "        rlist = [ rxns ]\n",
    "    else:\n",
    "        rlist = rxns\n",
    "    # are the reactions balanced?\n",
    "    oklist = mrx.check_reactions_balance(rlist, Gdict)\n",
    "    okrx = [r for i, r in enumerate(rlist) if oklist[i]]\n",
    "    # mrx.eq5_sums() returns dH/x0, not dH\n",
    "    print(f'Of {len(rlist)} reactions, {len(okrx)} are balanced.')\n",
    "    calcH, calcS = mrx.eq5_sums(okrx, target, moldata)\n",
    "    for rx, H in zip(okrx, calcH):\n",
    "        #print(rx)   # this is ugly\n",
    "        lhs = []\n",
    "        rhs = []\n",
    "        for pair in rx:\n",
    "            mol = pair[0]\n",
    "            c = pair[1]\n",
    "            if c < 0:\n",
    "                # left side of equation\n",
    "                # present coefficients as rational numbers\n",
    "                crat = sympy.Rational(-c).limit_denominator(1000)\n",
    "                cstr = f'{crat}'\n",
    "                lhs.append('{:s} {:s}'.format(cstr, mol))\n",
    "            else:\n",
    "                # right side\n",
    "                crat = sympy.Rational(c).limit_denominator(1000)\n",
    "                cstr = f'{crat}'\n",
    "                rhs.append('{:s} {:s}'.format(cstr, mol))\n",
    "        lhs = ' + '.join(lhs)\n",
    "        rhs = ' + '.join(rhs)\n",
    "        print('{:s} = {:s}'.format(lhs, rhs))\n",
    "        print('\\tchange in calc. H = {:.1f} kJ/mol'.format(-H))  # assuming x0 = -1\n",
    "    return"
   ]
  },
  {
   "cell_type": "code",
   "execution_count": null,
   "id": "94df5b15",
   "metadata": {
    "scrolled": false
   },
   "outputs": [],
   "source": [
    "G.find_benzene_rings()"
   ]
  },
  {
   "cell_type": "code",
   "execution_count": null,
   "id": "6cef3642",
   "metadata": {},
   "outputs": [],
   "source": [
    "G.bondedatoms[0].values()"
   ]
  },
  {
   "cell_type": "code",
   "execution_count": null,
   "id": "91f8cbbb",
   "metadata": {},
   "outputs": [],
   "source": [
    "G.bondlist"
   ]
  },
  {
   "cell_type": "code",
   "execution_count": null,
   "id": "838fb780",
   "metadata": {},
   "outputs": [],
   "source": [
    "G.element_indices('N')"
   ]
  },
  {
   "cell_type": "code",
   "execution_count": null,
   "id": "d66f7893",
   "metadata": {},
   "outputs": [],
   "source": [
    "rxn = mrx.reaction_bond_separation(target, G)\n",
    "print_delta(rxn)"
   ]
  },
  {
   "cell_type": "code",
   "execution_count": null,
   "id": "c8a37330",
   "metadata": {},
   "outputs": [],
   "source": [
    "rxns = mrx.reaction_isomerization(target, Gdict)\n",
    "print_delta(rxns)"
   ]
  },
  {
   "cell_type": "code",
   "execution_count": null,
   "id": "7232d217",
   "metadata": {},
   "outputs": [],
   "source": [
    "rxn = mrx.reaction_hydration(target, Gdict)\n",
    "print_delta(rxn)"
   ]
  },
  {
   "cell_type": "code",
   "execution_count": null,
   "id": "67b43dec",
   "metadata": {},
   "outputs": [],
   "source": [
    "rxn = mrx.reaction_hydrofluorination(target, Gdict)\n",
    "print_delta(rxn)"
   ]
  },
  {
   "cell_type": "code",
   "execution_count": null,
   "id": "10a86863",
   "metadata": {},
   "outputs": [],
   "source": [
    "rxn = mrx.reaction_hydrochlorination(target, Gdict)\n",
    "print_delta(rxn)"
   ]
  },
  {
   "cell_type": "code",
   "execution_count": null,
   "id": "a092e69a",
   "metadata": {},
   "outputs": [],
   "source": [
    "rxn = mrx.reaction_to_elements(target, Gdict)\n",
    "print_delta(rxn)"
   ]
  },
  {
   "cell_type": "code",
   "execution_count": null,
   "id": "5bf635ec",
   "metadata": {},
   "outputs": [],
   "source": [
    "rxn = mrx.reaction_hydrogenation(target, Gdict)\n",
    "print_delta(rxn)"
   ]
  },
  {
   "cell_type": "code",
   "execution_count": null,
   "id": "f21db423",
   "metadata": {},
   "outputs": [],
   "source": [
    "rxn = mrx.reaction_oxygenation(target, Gdict)\n",
    "print_delta(rxn)"
   ]
  },
  {
   "cell_type": "code",
   "execution_count": null,
   "id": "ca18c4db",
   "metadata": {},
   "outputs": [],
   "source": [
    "df = G.list_bonds()\n",
    "df"
   ]
  },
  {
   "cell_type": "code",
   "execution_count": null,
   "id": "36fb2c80",
   "metadata": {},
   "outputs": [],
   "source": [
    "from sympy import nsimplify\n",
    "\n",
    "def cull_to_disjoint_educts(rxns):\n",
    "    # 'rxns' is a list of reactions, where a reaction is a list of [educt, coeff] pairs\n",
    "    # reduce the list until no educt (besides the target) occurs in more than one reaction\n",
    "    # the target is the first educt listed\n",
    "    # Give preference to reactions with fewer educts, small integer coefficients\n",
    "    nin = len(rxns)\n",
    "    # score by coefficient ugliness\n",
    "    ftol = 1.e-6\n",
    "    rank = []\n",
    "    for rxn in rxns:\n",
    "        r = (len(rxn) - 1) * 2   # penalty for more educts\n",
    "        for pair in rxn[1:]:\n",
    "            denom = nsimplify(pair[1]).q\n",
    "            if abs(denom) > 1 + ftol:\n",
    "                # penalty for fraction (to encourage homologous reactions)\n",
    "                r += denom\n",
    "            # penalty for large coefficient (multiplies uncertainties)\n",
    "            r += abs(pair[1])\n",
    "        rank.append(float(r))\n",
    "    idx = np.argsort(rank)\n",
    "    # do the cull\n",
    "    used = set()\n",
    "    ikeep = []\n",
    "    print('>>> lowest ranks:', np.array(rank)[idx[:5]])\n",
    "    for i in idx:\n",
    "        educts = set([pair[0] for pair in rxns[i][1:]])\n",
    "        if educts.intersection(used) == set():\n",
    "            # keep this reaction\n",
    "            ikeep.append(i)\n",
    "            used = used.union(educts)\n",
    "    return [rxns[i] for i in ikeep]"
   ]
  },
  {
   "cell_type": "code",
   "execution_count": null,
   "id": "a0e784ef",
   "metadata": {},
   "outputs": [],
   "source": [
    "def Xtabulate_Benson_groups(target, Gdict, detail, commonG=False):\n",
    "    # Return a DataFrame of Benson groups in all molecules that\n",
    "    #   do not contain elements alien to the target molecule and\n",
    "    #   (if 'commonG') that contain at least one B-group in the target\n",
    "    # 'Gdict' is a dict of Geometry()\n",
    "    # 'detail' specifies granularity\n",
    "    tels = set(Gdict[target].stoichiometry(asdict=True).keys())\n",
    "    tgrps = set(Gdict[target].Benson_groups(detail=detail, warn=False)[0])\n",
    "    grps = []  # list of all groups\n",
    "    compos = {}  # dict, key = molecule\n",
    "    for mol, G in Gdict.items():\n",
    "        els = set(G.stoichiometry(asdict=True).keys())\n",
    "        if not els <= tels:\n",
    "            # alien elements\n",
    "            continue\n",
    "        Bg = G.Benson_groups(asdict=True, detail=detail, warn=False)\n",
    "        if commonG:\n",
    "            if len(tgrps.intersection(set(Bg))) < 1:\n",
    "                # no B-groups in common with the target\n",
    "                continue\n",
    "        compos[mol] = Bg\n",
    "        for grp in Bg.keys():\n",
    "            if grp not in grps:\n",
    "                grps.append(grp)\n",
    "    # build the DataFrame\n",
    "    cols = ['molec'] + grps\n",
    "    df = pd.DataFrame(columns=cols)\n",
    "    row = [target] + [compos[target].get(grp, 0) for grp in grps]\n",
    "    df.loc[0] = row  # put target at the top\n",
    "    for mol, st in compos.items():\n",
    "        if mol == target:\n",
    "            # don't enter twice\n",
    "            continue\n",
    "        row = [mol] + [st.get(grp, 0) for grp in grps]\n",
    "        df.loc[len(df)] = row\n",
    "    return df"
   ]
  },
  {
   "cell_type": "code",
   "execution_count": null,
   "id": "cefd3868",
   "metadata": {},
   "outputs": [],
   "source": [
    "def tabulate_Benson_groups(target, Gdict, detail):\n",
    "    # Return a DataFrame of Benson groups in all molecules that\n",
    "    #   could plausibly form a reaction for the target\n",
    "    # 'Gdict' is a dict of Geometry()\n",
    "    # 'detail' specifies granularity\n",
    "    tels = set(Gdict[target].stoichiometry(asdict=True).keys())\n",
    "    tgrps = set(Gdict[target].Benson_groups(detail=detail, warn=False)[0])\n",
    "    grps = set()  # set of all groups (for creating DataFrame)\n",
    "    compos = {}  # dict, key = molecule\n",
    "    for mol, G in Gdict.items():\n",
    "        els = set(G.stoichiometry(asdict=True).keys())\n",
    "        if not els <= tels:\n",
    "            # alien elements; discard this molecule\n",
    "            continue\n",
    "        Bg = G.Benson_groups(asdict=True, detail=detail, warn=False)\n",
    "        compos[mol] = Bg\n",
    "        bset = set(Bg.keys())\n",
    "        grps = grps.union(bset)       \n",
    "    # build the DataFrame \n",
    "    cols = ['molec'] + sorted(grps)\n",
    "    df = pd.DataFrame(columns=cols)\n",
    "    row = [target] + [compos[target].get(grp, 0) for grp in cols[1:]]\n",
    "    df.loc[0] = row  # put target at the top\n",
    "    freq = {}  # frequency of each B-group\n",
    "    '''\n",
    "    # add any molecules whose B-groups are a subset of the target's\n",
    "    for mol, comp in compos.items():\n",
    "        if mol == target:\n",
    "            continue\n",
    "        gs = set(comp.keys())\n",
    "        if (len(gs) > 0) and (gs <= tgrps):\n",
    "            row = [mol] + [comp.get(grp, 0) for grp in cols[1:]]\n",
    "            df.loc[len(df)] = row\n",
    "        # how common is each group?\n",
    "        for g, n in comp.items():\n",
    "            freq[g] = freq.get(g, 0) + n\n",
    "    # which target groups are not found in the DF?\n",
    "    missing = []\n",
    "    for g in tgrps:\n",
    "        n = np.count_nonzero(df[g])\n",
    "        if n < 2:\n",
    "            # only in the target\n",
    "            missing.append(g)\n",
    "    '''\n",
    "    # add molecules that contain target groups \n",
    "    gset = tgrps.copy()  # set of currently used groups\n",
    "    for mol, comp in compos.items():\n",
    "        if mol in df['molec'].values:\n",
    "            continue\n",
    "        gs = set(comp.keys())\n",
    "        if gs.intersection(tgrps):\n",
    "            row = [mol] + [comp.get(grp, 0) for grp in cols[1:]]\n",
    "            df.loc[len(df)] = row\n",
    "            gset = gset.union(gs)\n",
    "    # add molecules that include only the expanded set of groups\n",
    "    for mol, comp in compos.items():\n",
    "        if mol in df['molec'].values:\n",
    "            continue\n",
    "        gs = set(comp.keys())\n",
    "        if (len(gs) > 0) and (gs <= gset):\n",
    "            row = [mol] + [comp.get(grp, 0) for grp in cols[1:]]\n",
    "            df.loc[len(df)] = row\n",
    "\n",
    "    # make list of B-groups by rarity\n",
    "    Brare = sorted(freq.keys(), key=lambda k: freq[k])\n",
    "    # add molecules that share the target's rarest group\n",
    "    for g0 in Brare:\n",
    "        if g0 in tgrps:\n",
    "            # the rarest group\n",
    "            break\n",
    "        \n",
    "    # remove columns with all zeros\n",
    "    df = df.loc[:, (df != 0).any(axis=0)]\n",
    "    return df"
   ]
  },
  {
   "cell_type": "code",
   "execution_count": null,
   "id": "9b93ee5a",
   "metadata": {},
   "outputs": [],
   "source": [
    "detail = 0\n",
    "dfBen = tabulate_Benson_groups(target, Gdict, detail=detail)\n",
    "dfBen"
   ]
  },
  {
   "cell_type": "code",
   "execution_count": null,
   "id": "89255bf4",
   "metadata": {
    "scrolled": true
   },
   "outputs": [],
   "source": [
    "import time\n",
    "start = time.time()\n",
    "rxns = mrx.solve_descriptor_reactions(dfBen, maxeduct=8, verbose=True)\n",
    "end = time.time()\n",
    "t = end - start\n",
    "print('Time = {:.0f} s = {:.1f} min = {:.2f} hr'.format(t, t/60, t/3600))"
   ]
  },
  {
   "cell_type": "code",
   "execution_count": null,
   "id": "20bedddd",
   "metadata": {},
   "outputs": [],
   "source": [
    "detail = 0\n",
    "print('detail =', detail)\n",
    "dfBgrp = mrx.educts_Benson_groups(target, Gdict, detail=detail, warn=False)\n",
    "display(dfBgrp)"
   ]
  },
  {
   "cell_type": "code",
   "execution_count": null,
   "id": "8468f8fe",
   "metadata": {},
   "outputs": [],
   "source": [
    "Gdict['ch2ohoh'].Benson_groups()"
   ]
  },
  {
   "cell_type": "code",
   "execution_count": null,
   "id": "58c249ab",
   "metadata": {},
   "outputs": [],
   "source": [
    "rxns = mrx.solve_descriptor_reactions(dfBgrp, verbose=True)"
   ]
  },
  {
   "cell_type": "code",
   "execution_count": null,
   "id": "e74145c0",
   "metadata": {},
   "outputs": [],
   "source": [
    "rbal = mrx.discard_unbalanced_reactions(rxns, Gdict, verbose=True)\n",
    "print_delta(rbal)"
   ]
  },
  {
   "cell_type": "code",
   "execution_count": null,
   "id": "ffe92f72",
   "metadata": {
    "scrolled": true
   },
   "outputs": [],
   "source": [
    "detail = 1\n",
    "dfBbonds = mrx.Benson_bonds_table(target, Gdict, detail=detail, warn=False)\n",
    "display(dfBbonds)"
   ]
  },
  {
   "cell_type": "code",
   "execution_count": null,
   "id": "40dd710d",
   "metadata": {
    "scrolled": true
   },
   "outputs": [],
   "source": [
    "import time\n",
    "start = time.time()\n",
    "rxns = mrx.solve_descriptor_reactions(dfBbonds, verbose=True)\n",
    "end = time.time()\n",
    "t = end - start\n",
    "print('Time = {:.0f} s = {:.1f} min = {:.2f} hr'.format(t, t/60, t/3600))"
   ]
  },
  {
   "cell_type": "code",
   "execution_count": null,
   "id": "c1d2781d",
   "metadata": {
    "scrolled": true
   },
   "outputs": [],
   "source": [
    "rbal = mrx.discard_unbalanced_reactions(rxns, Gdict, tol=1.e-3, verbose=True)"
   ]
  },
  {
   "cell_type": "raw",
   "id": "a7bb1693",
   "metadata": {},
   "source": [
    "def cull_too_similar_reactions(target, rxns, moldata, Gdict, disjoint=False):\n",
    "    # eliminate very similar reactions\n",
    "    # priority on reactions with computed enthalpy near zero\n",
    "    # if 'disjoint', no co-educt may appear more than once\n",
    "    calcH, calcS = mrx.eq5_sums(rxns, target, moldata)\n",
    "    absH = np.abs(calcH)\n",
    "    idx = np.argsort(absH)\n",
    "    coeducts = set([target])  # educts used\n",
    "    cull = []  # short list of reactions\n",
    "    for i in idx:\n",
    "        rx = rxns[i]\n",
    "        rset = set([pair[0] for pair in rx])\n",
    "        if rset <= coeducts:\n",
    "            # no new educts; skip this reaction\n",
    "            continue\n",
    "        if disjoint:\n",
    "            # stronger filter\n",
    "            set2 = coeducts.intersection(rset)\n",
    "            if len(set2) > 1:\n",
    "                # some co-educt is repeated\n",
    "                continue\n",
    "        cull.append(rx)\n",
    "        coeducts = coeducts.union(rset)\n",
    "    return cull"
   ]
  },
  {
   "cell_type": "code",
   "execution_count": null,
   "id": "2de99278",
   "metadata": {},
   "outputs": [],
   "source": [
    "crx = cull_too_similar_reactions(target, rbal, moldata, Gdict, disjoint=True)\n",
    "crx"
   ]
  },
  {
   "cell_type": "code",
   "execution_count": null,
   "id": "d579d653",
   "metadata": {},
   "outputs": [],
   "source": [
    "print_delta(rbal)"
   ]
  },
  {
   "cell_type": "code",
   "execution_count": null,
   "id": "55d05a48",
   "metadata": {
    "scrolled": true
   },
   "outputs": [],
   "source": [
    "def all_reactions_for_target(target, Gdict, verbose=False):\n",
    "    # generate all reasonable reactions for the educt\n",
    "    # 'Gdict' is a dict of Geometry() objects (dict key = name of molecule)\n",
    "    # Return a list of reactions, where a reaction is a list of [educt, coeff] pairs\n",
    "    st = Gdict[target].stoichiometry(asdict=True)\n",
    "    tels = list(st.keys())  # chemical elements in the target molecule\n",
    "    tset = set(tels)\n",
    "    # build DataFrame of all molecules whose elements are a subset of those of target\n",
    "    cols = ['molec'] + tels\n",
    "    df = pd.DataFrame(columns=cols)\n",
    "    df.loc[0] = [target] + [st[el] for el in tels]\n",
    "    for molec, G in Gdict.items():\n",
    "        if molec == target:\n",
    "            continue\n",
    "        st = G.stoichiometry(asdict=True)\n",
    "        if set(st.keys()) <= tset:\n",
    "            # include this molecule\n",
    "            df.loc[len(df)] = [molec] + [st.get(el, 0) for el in tels]\n",
    "    start = time.time()\n",
    "    rxns = mrx.solve_descriptor_reactions(df, verbose=verbose)\n",
    "    end = time.time()\n",
    "    t = end - start\n",
    "    print('Time = {:.0f} s = {:.1f} min = {:.2f} hr'.format(t, t/60, t/3600))    \n",
    "    return rxns, df"
   ]
  },
  {
   "cell_type": "code",
   "execution_count": null,
   "id": "3eeb6055",
   "metadata": {
    "scrolled": true
   },
   "outputs": [],
   "source": [
    "# TAKES VERY LONG TIME\n",
    "#rxns, dfelem = all_reactions_for_target(target, Gdict, verbose=True)"
   ]
  },
  {
   "cell_type": "code",
   "execution_count": null,
   "id": "ab6d66f8",
   "metadata": {
    "scrolled": true
   },
   "outputs": [],
   "source": [
    "rbal = mrx.discard_unbalanced_reactions(rxns, Gdict, tol=1.e-3, verbose=True)"
   ]
  },
  {
   "cell_type": "code",
   "execution_count": null,
   "id": "abe06447",
   "metadata": {},
   "outputs": [],
   "source": [
    "print('Found {:d} reactions'.format(len(rxns)))"
   ]
  },
  {
   "cell_type": "raw",
   "id": "c6e2c506",
   "metadata": {},
   "source": [
    "def reaction_string(rxn):\n",
    "    # Given a reaction (list of lists [educt, coeff]), return\n",
    "    #   an easily readable string\n",
    "    lhs = []\n",
    "    rhs = []\n",
    "    for [educt, coef] in rxn:\n",
    "        n = abs(coef)\n",
    "        cstr = sympy.Rational(str(n)).limit_denominator(1000)\n",
    "        if coef < 0:\n",
    "            if n != 1:\n",
    "                lhs.append(f'{cstr} {educt}')\n",
    "            else:\n",
    "                lhs.append(f'{educt}')  # don't print '1'\n",
    "        else:\n",
    "            if n != 1:\n",
    "                rhs.append(f'{cstr} {educt}')\n",
    "            else:\n",
    "                rhs.append(f'{educt}')\n",
    "    lhs = ' + '.join(lhs)\n",
    "    rhs = ' + '.join(rhs)\n",
    "    s = ' = '.join([lhs, rhs])\n",
    "    return s\n"
   ]
  },
  {
   "cell_type": "code",
   "execution_count": null,
   "id": "ffb8af33",
   "metadata": {},
   "outputs": [],
   "source": [
    "'''\n",
    "def build_reactions_DF(rxns, moldata, target, rho='rho_E'):\n",
    "    # given a list of reactions, return a DataFrame\n",
    "    # with computed and exptl thermo (T=0) for analysis\n",
    "    \n",
    "    # create the DataFrame\n",
    "    exptl = mrx.select_expt(moldata, T=0)  # selected exptl data\n",
    "    okrx = rxn_with_expt(rxns, target, exptl)   # useable reactions\n",
    "    eq6sum, uexp = mrx.eq6_sums(okrx, target, exptl)  # exptl sums needed to compute EoF\n",
    "    print('>>> eq5')\n",
    "    calcH, calcS = mrx.eq5_sums(okrx, target, moldata)  # slow step\n",
    "    print('>>> eof')\n",
    "    eof = [s5 - s6 for s5, s6 in zip(calcH, eq6sum)]\n",
    "    print('counts: eof = {:d}, calcH = {:d}, uexp = {:d}, okrx = {:d}'.format(len(eof),\n",
    "                                    len(calcH), len(uexp), len(okrx)))\n",
    "    dfrx = pd.DataFrame({f'EoF': eof, 'dH(rxn)': calcH, 'uexp': uexp,\n",
    "                     'Reaction': [reaction_string(rxn) for rxn in okrx]})\n",
    "    # get values of rho variants (list of tuples)\n",
    "    print('>>> rho')\n",
    "    rho_E, rho_T, rho_c = mrx.gather_rho(okrx, target, moldata) \n",
    "    dfrx['rho_E'] = rho_E\n",
    "    dfrx['rho_T'] = rho_T\n",
    "    dfrx['rho_c'] = rho_c\n",
    "    #dfrx = dfrx.sort_values('EoF')\n",
    "    #fmt = {col: '{:.1f}' for col in dfrx.columns}\n",
    "    #fmt['Reaction'] = '{:s}'\n",
    "    #display(dfrx.style.format(fmt))\n",
    "    return dfrx\n",
    "'''    \n",
    "def process_reactionDF(target, rho, dfrx, verbose=False):\n",
    "    # analyze the data in a DataFrame from build_reactions_DF()\n",
    "    print(f'Target = {target}')\n",
    "    print(f'Non-uniform weighting using {rho}:')\n",
    "    print('>>> wmean')\n",
    "    wmean, semw, rwmsx, a, b, change, niter = mrx.nonuniform_weighting(target, rho, dfrx,\n",
    "                                                            verbose=verbose)\n",
    "    # combine SEMw with u_exp\n",
    "    print('\\tSEMw = {:.1f}, uexp = {:.1f} kJ/mol'.format(semw, rwmsx))\n",
    "    unc = np.sqrt(semw**2 + rwmsx**2)  # 'rwmsx' from eq. (13)\n",
    "    print('\\tEoF = ({:.1f} ± {:.1f}) kJ/mol (standard uncertainty)'.format(wmean, unc))\n",
    "    return dfrx, wmean, unc"
   ]
  },
  {
   "cell_type": "raw",
   "id": "2be383a5",
   "metadata": {},
   "source": [
    "def process_reactions(rxns, moldata, target, rho='rho_E', verbose=False):\n",
    "    # given a list of reactions, return a DataFrame\n",
    "    # with computed and exptl thermo (T=0) for analysis\n",
    "    \n",
    "    # create the DataFrame\n",
    "    exptl = mrx.select_expt(moldata, T=0)  # selected exptl data\n",
    "    okrx = rxn_with_expt(rxns, target, exptl)   # useable reactions\n",
    "    eq6sum, uexp = mrx.eq6_sums(okrx, target, exptl)  # exptl sums needed to compute EoF\n",
    "    print('>>> eq5')\n",
    "    calcH, calcS = mrx.eq5_sums(okrx, target, moldata)  # slow step\n",
    "    print('>>> eof')\n",
    "    eof = [s5 - s6 for s5, s6 in zip(calcH, eq6sum)]\n",
    "    print('counts: eof = {:d}, calcH = {:d}, uexp = {:d}, okrx = {:d}'.format(len(eof),\n",
    "                                    len(calcH), len(uexp), len(okrx)))\n",
    "    dfrx = pd.DataFrame({f'EoF': eof, 'dH(rxn)': calcH, 'uexp': uexp,\n",
    "                     'Reaction': [reaction_string(rxn) for rxn in okrx]})\n",
    "    # get values of rho variants (list of tuples)\n",
    "    print('>>> rho')\n",
    "    rho_E, rho_T, rho_c = mrx.gather_rho(okrx, target, moldata) \n",
    "    dfrx['rho_E'] = rho_E\n",
    "    dfrx['rho_T'] = rho_T\n",
    "    dfrx['rho_c'] = rho_c\n",
    "    #dfrx = dfrx.sort_values('EoF')\n",
    "    #fmt = {col: '{:.1f}' for col in dfrx.columns}\n",
    "    #fmt['Reaction'] = '{:s}'\n",
    "    #display(dfrx.style.format(fmt))\n",
    "    \n",
    "    # analyze the data in the DataFrame\n",
    "    print(f'Target = {target}')\n",
    "    print(f'Non-uniform weighting using {rho}:')\n",
    "    print('>>> wmean')\n",
    "    wmean, semw, rwmsx, a, b, change, niter = mrx.nonuniform_weighting(target, rho, dfrx,\n",
    "                                                            verbose=verbose)\n",
    "    # combine SEMw with u_exp\n",
    "    print('\\tSEMw = {:.1f}, uexp = {:.1f} kJ/mol'.format(semw, rwmsx))\n",
    "    unc = np.sqrt(semw**2 + rwmsx**2)  # 'rwmsx' from eq. (13)\n",
    "    print('\\tEoF = ({:.1f} ± {:.1f}) kJ/mol (standard uncertainty)'.format(wmean, unc))\n",
    "    return dfrx, wmean, unc"
   ]
  },
  {
   "cell_type": "code",
   "execution_count": null,
   "id": "3d226e0a",
   "metadata": {},
   "outputs": [],
   "source": [
    "dfrx, wmean, unc = process_reactions(rbal, moldata, target, verbose=True)"
   ]
  },
  {
   "cell_type": "code",
   "execution_count": null,
   "id": "003ec0d4",
   "metadata": {},
   "outputs": [],
   "source": [
    "# consider only a fraction of reactions with lowest rho\n",
    "frac = 0.5\n",
    "nf = int(frac * len(dfrx))\n",
    "print(f'Keeping the {nf} reactions (of {len(dfrx)}) with lowest {rho}')\n",
    "dfcore = dfrx.sort_values(rho).iloc[:nf].copy()"
   ]
  },
  {
   "cell_type": "code",
   "execution_count": null,
   "id": "e4764058",
   "metadata": {},
   "outputs": [],
   "source": [
    "plt.scatter(dfcore.rho_E, dfcore.rho_c, facecolors='none', edgecolors='b', alpha=0.1)\n",
    "#plt.scatter(dfrx.rho_E, dfrx.rho_c, facecolors='none', edgecolors='b', alpha=0.1)\n",
    "plt.xlabel('rho_E')\n",
    "plt.ylabel('rho_c')\n",
    "#plt.xlim([0, 1000])\n",
    "#plt.ylim([0, 500])\n",
    "plt.show()"
   ]
  },
  {
   "cell_type": "code",
   "execution_count": null,
   "id": "a80f948d",
   "metadata": {},
   "outputs": [],
   "source": [
    "T = 0.  # temperature\n",
    "exptl = mrx.select_expt(moldata, T)\n",
    "okrx = rxn_with_expt(rxns, target, exptl)\n",
    "eq6sum, uexp = mrx.eq6_sums(okrx, target, exptl)"
   ]
  },
  {
   "cell_type": "code",
   "execution_count": null,
   "id": "8e159400",
   "metadata": {},
   "outputs": [],
   "source": [
    "# Make DataFrame of reactions\n",
    "pd.set_option('display.max_rows', 500)\n",
    "calcH, calcS = mrx.eq5_sums(okrx, target, moldata)\n",
    "eof = [s5 - s6 for s5, s6 in zip(calcH, eq6sum)]\n",
    "neduct = max([len(rx) for rx in okrx])\n",
    "cols = ['Target', 'x0']\n",
    "for n in range(neduct-1):\n",
    "    cols.extend([f'Educt{n+1}', f'x{n+1}'])\n",
    "cols.append('{:s}H'.format(chem.DELTA))\n",
    "dfrx = pd.DataFrame(columns=cols)\n",
    "for rx, H in zip(rxns, calcH):\n",
    "    row = []\n",
    "    for ed in rx:\n",
    "        row.extend(ed)\n",
    "    while len(row) < len(cols) - 1:\n",
    "        row.extend(['', 0])\n",
    "    row.append(np.round(H, 1))\n",
    "    dfrx.loc[len(dfrx)] = row\n",
    "dfrx['rho_E'] = abs(dfrx[cols[-1]])\n",
    "dfrx['EoF'] = eof\n",
    "dfrx.sort_values('rho_E')"
   ]
  },
  {
   "cell_type": "code",
   "execution_count": null,
   "id": "8b0af231",
   "metadata": {},
   "outputs": [],
   "source": [
    "hmin = dfrx[cols[-1]].min()\n",
    "hmax = dfrx[cols[-1]].max()\n",
    "print('Hmin, Hmax = {:.1f}, {:.1f}'.format(hmin, hmax))"
   ]
  },
  {
   "cell_type": "code",
   "execution_count": null,
   "id": "e7038cdb",
   "metadata": {},
   "outputs": [],
   "source": [
    "plt.hist(dfrx[cols[-1]], bins=100)\n",
    "plt.xlim([-5000, 5000])\n",
    "plt.xlabel('kJ/mol')\n",
    "plt.ylabel('counts')\n",
    "plt.show()"
   ]
  },
  {
   "cell_type": "code",
   "execution_count": null,
   "id": "617eddad",
   "metadata": {},
   "outputs": [],
   "source": [
    "plt.scatter(dfrx[cols[-1]], dfrx.EoF)\n",
    "#plt.xlabel(r'$\\rho_E$')\n",
    "plt.xlabel(cols[-1])\n",
    "plt.ylabel(r'$\\Delta_fH$')\n",
    "#plt.xlim([0, 1000])\n",
    "#plt.ylim([-500, 500])\n",
    "plt.show()"
   ]
  },
  {
   "cell_type": "code",
   "execution_count": null,
   "id": "7c4b8d2c",
   "metadata": {},
   "outputs": [],
   "source": [
    "# plot EoF vs cutoff\n",
    "rhocut = np.linspace(10, 2010)\n",
    "eof = [dfrx[dfrx.rho_E < cut].EoF.mean() for cut in rhocut]\n",
    "plt.plot(rhocut, eof)\n",
    "plt.xlabel('rho_E cutoff')\n",
    "plt.ylabel('EoF(target)')\n",
    "plt.show()"
   ]
  },
  {
   "cell_type": "code",
   "execution_count": null,
   "id": "37837686",
   "metadata": {},
   "outputs": [],
   "source": [
    "rho = 'rho_E'\n",
    "print(f'Target = {target}')\n",
    "print(f'Non-uniform weighting using {rho}:')\n",
    "wmean, semw, rwmsx, a, b, change, niter = mrx.nonuniform_weighting(target, rho, dfrx,\n",
    "                                                        verbose=False)\n",
    "# combine SEMw with u_exp\n",
    "print('\\tSEMw = {:.1f}, uexp = {:.1f} kJ/mol'.format(semw, rwmsx))\n",
    "unc = np.sqrt(semw**2 + rwmsx**2)  # 'rwmsx' from eq. (13)\n",
    "print('\\tEoF({:.1f} K) = ({:.1f} ± {:.1f}) kJ/mol (standard uncertainty)'.format(T, wmean, unc))"
   ]
  },
  {
   "cell_type": "code",
   "execution_count": null,
   "id": "f9f5c65f",
   "metadata": {},
   "outputs": [],
   "source": [
    "eq6sum"
   ]
  },
  {
   "cell_type": "code",
   "execution_count": null,
   "id": "c60557f9",
   "metadata": {},
   "outputs": [],
   "source": [
    "i = 1\n",
    "print(rxns[i])\n",
    "print_delta(rxns[i])"
   ]
  },
  {
   "cell_type": "code",
   "execution_count": null,
   "id": "78c9f3a7",
   "metadata": {},
   "outputs": [],
   "source": []
  },
  {
   "cell_type": "code",
   "execution_count": null,
   "id": "f6ef7d5c",
   "metadata": {},
   "outputs": [],
   "source": []
  },
  {
   "cell_type": "code",
   "execution_count": null,
   "id": "fc5c6db0",
   "metadata": {},
   "outputs": [],
   "source": [
    "def rxn_with_expt(rxin, target, exptl):\n",
    "    '''\n",
    "    Return a list of those reactions for which\n",
    "      exptl thermo data are available.\n",
    "    'rxns' is a list of reactions, where a reaction is\n",
    "      a list of [educt, coeff] pairs.\n",
    "    'target' is the name of the target molecule,\n",
    "      not required to have exptl data\n",
    "    'exptl' is a dict of exptl data for molecules\n",
    "    '''\n",
    "    rxns = []\n",
    "    for rx in rxin:\n",
    "        ok = True\n",
    "        for pair in rx:\n",
    "            molec = pair[0]\n",
    "            try:\n",
    "                eof = exptl[molec]['EoF']\n",
    "                unc = exptl[molec]['unc']\n",
    "            except KeyError:\n",
    "                ok = False\n",
    "        if ok:\n",
    "            rxns.append(rx)\n",
    "    return rxns"
   ]
  }
 ],
 "metadata": {
  "kernelspec": {
   "display_name": "Python 3 (ipykernel)",
   "language": "python",
   "name": "python3"
  },
  "language_info": {
   "codemirror_mode": {
    "name": "ipython",
    "version": 3
   },
   "file_extension": ".py",
   "mimetype": "text/x-python",
   "name": "python",
   "nbconvert_exporter": "python",
   "pygments_lexer": "ipython3",
   "version": "3.11.4"
  }
 },
 "nbformat": 4,
 "nbformat_minor": 5
}
