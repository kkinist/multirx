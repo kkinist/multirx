{
 "cells": [
  {
   "cell_type": "code",
   "execution_count": 1,
   "id": "4701d104",
   "metadata": {},
   "outputs": [],
   "source": [
    "# Develop chemical ways to describe molecules\n",
    "import yaml, sys, os, random, re\n",
    "import pandas as pd\n",
    "import matplotlib.pyplot as plt\n",
    "import numpy as np\n",
    "sys.path.insert(0, '../../karlib')\n",
    "import chem_subs as chem\n",
    "import multirx_subs as mrx"
   ]
  },
  {
   "cell_type": "code",
   "execution_count": 2,
   "id": "09e756a0",
   "metadata": {},
   "outputs": [],
   "source": [
    "molec = 'phno2'\n",
    "molyml = mrx.read_molec_yaml(molec)\n",
    "G = chem.Geometry(molyml['Geometry']['coordinates'])"
   ]
  },
  {
   "cell_type": "code",
   "execution_count": 3,
   "id": "94df5b15",
   "metadata": {
    "scrolled": false
   },
   "outputs": [
    {
     "name": "stdout",
     "output_type": "stream",
     "text": [
      "Component = atom\n",
      "{'C': 6, 'N': 1, 'O': 2, 'H': 5}\n"
     ]
    }
   ],
   "source": [
    "print('Component = atom')\n",
    "print(G.stoichiometry(asdict=True))\n",
    "G.printMOL('test.mol', title='molecule_components.ipynb')"
   ]
  },
  {
   "cell_type": "code",
   "execution_count": 11,
   "id": "6510b28e",
   "metadata": {
    "scrolled": false
   },
   "outputs": [
    {
     "data": {
      "text/html": [
       "<div>\n",
       "<style scoped>\n",
       "    .dataframe tbody tr th:only-of-type {\n",
       "        vertical-align: middle;\n",
       "    }\n",
       "\n",
       "    .dataframe tbody tr th {\n",
       "        vertical-align: top;\n",
       "    }\n",
       "\n",
       "    .dataframe thead th {\n",
       "        text-align: right;\n",
       "    }\n",
       "</style>\n",
       "<table border=\"1\" class=\"dataframe\">\n",
       "  <thead>\n",
       "    <tr style=\"text-align: right;\">\n",
       "      <th></th>\n",
       "      <th>i1</th>\n",
       "      <th>i2</th>\n",
       "      <th>el1</th>\n",
       "      <th>el2</th>\n",
       "      <th>dist</th>\n",
       "      <th>ring</th>\n",
       "      <th>order</th>\n",
       "    </tr>\n",
       "  </thead>\n",
       "  <tbody>\n",
       "    <tr>\n",
       "      <th>0</th>\n",
       "      <td>0</td>\n",
       "      <td>1</td>\n",
       "      <td>C</td>\n",
       "      <td>C</td>\n",
       "      <td>1.387513</td>\n",
       "      <td>True</td>\n",
       "      <td>1</td>\n",
       "    </tr>\n",
       "    <tr>\n",
       "      <th>1</th>\n",
       "      <td>0</td>\n",
       "      <td>5</td>\n",
       "      <td>C</td>\n",
       "      <td>C</td>\n",
       "      <td>1.387513</td>\n",
       "      <td>True</td>\n",
       "      <td>2</td>\n",
       "    </tr>\n",
       "    <tr>\n",
       "      <th>2</th>\n",
       "      <td>0</td>\n",
       "      <td>6</td>\n",
       "      <td>C</td>\n",
       "      <td>N</td>\n",
       "      <td>1.478039</td>\n",
       "      <td>False</td>\n",
       "      <td>1</td>\n",
       "    </tr>\n",
       "    <tr>\n",
       "      <th>3</th>\n",
       "      <td>1</td>\n",
       "      <td>2</td>\n",
       "      <td>C</td>\n",
       "      <td>C</td>\n",
       "      <td>1.387537</td>\n",
       "      <td>True</td>\n",
       "      <td>2</td>\n",
       "    </tr>\n",
       "    <tr>\n",
       "      <th>4</th>\n",
       "      <td>1</td>\n",
       "      <td>9</td>\n",
       "      <td>C</td>\n",
       "      <td>H</td>\n",
       "      <td>1.078496</td>\n",
       "      <td>False</td>\n",
       "      <td>1</td>\n",
       "    </tr>\n",
       "    <tr>\n",
       "      <th>5</th>\n",
       "      <td>2</td>\n",
       "      <td>3</td>\n",
       "      <td>C</td>\n",
       "      <td>C</td>\n",
       "      <td>1.391227</td>\n",
       "      <td>True</td>\n",
       "      <td>1</td>\n",
       "    </tr>\n",
       "    <tr>\n",
       "      <th>6</th>\n",
       "      <td>2</td>\n",
       "      <td>10</td>\n",
       "      <td>C</td>\n",
       "      <td>H</td>\n",
       "      <td>1.080835</td>\n",
       "      <td>False</td>\n",
       "      <td>1</td>\n",
       "    </tr>\n",
       "    <tr>\n",
       "      <th>7</th>\n",
       "      <td>3</td>\n",
       "      <td>4</td>\n",
       "      <td>C</td>\n",
       "      <td>C</td>\n",
       "      <td>1.391227</td>\n",
       "      <td>True</td>\n",
       "      <td>2</td>\n",
       "    </tr>\n",
       "    <tr>\n",
       "      <th>8</th>\n",
       "      <td>3</td>\n",
       "      <td>11</td>\n",
       "      <td>C</td>\n",
       "      <td>H</td>\n",
       "      <td>1.081341</td>\n",
       "      <td>False</td>\n",
       "      <td>1</td>\n",
       "    </tr>\n",
       "    <tr>\n",
       "      <th>9</th>\n",
       "      <td>4</td>\n",
       "      <td>5</td>\n",
       "      <td>C</td>\n",
       "      <td>C</td>\n",
       "      <td>1.387537</td>\n",
       "      <td>True</td>\n",
       "      <td>1</td>\n",
       "    </tr>\n",
       "    <tr>\n",
       "      <th>10</th>\n",
       "      <td>4</td>\n",
       "      <td>12</td>\n",
       "      <td>C</td>\n",
       "      <td>H</td>\n",
       "      <td>1.080835</td>\n",
       "      <td>False</td>\n",
       "      <td>1</td>\n",
       "    </tr>\n",
       "    <tr>\n",
       "      <th>11</th>\n",
       "      <td>5</td>\n",
       "      <td>13</td>\n",
       "      <td>C</td>\n",
       "      <td>H</td>\n",
       "      <td>1.078496</td>\n",
       "      <td>False</td>\n",
       "      <td>1</td>\n",
       "    </tr>\n",
       "    <tr>\n",
       "      <th>12</th>\n",
       "      <td>6</td>\n",
       "      <td>7</td>\n",
       "      <td>N</td>\n",
       "      <td>O</td>\n",
       "      <td>1.221990</td>\n",
       "      <td>False</td>\n",
       "      <td>2</td>\n",
       "    </tr>\n",
       "    <tr>\n",
       "      <th>13</th>\n",
       "      <td>6</td>\n",
       "      <td>8</td>\n",
       "      <td>N</td>\n",
       "      <td>O</td>\n",
       "      <td>1.221990</td>\n",
       "      <td>False</td>\n",
       "      <td>2</td>\n",
       "    </tr>\n",
       "  </tbody>\n",
       "</table>\n",
       "</div>"
      ],
      "text/plain": [
       "    i1  i2 el1 el2      dist   ring  order\n",
       "0    0   1   C   C  1.387513   True      1\n",
       "1    0   5   C   C  1.387513   True      2\n",
       "2    0   6   C   N  1.478039  False      1\n",
       "3    1   2   C   C  1.387537   True      2\n",
       "4    1   9   C   H  1.078496  False      1\n",
       "5    2   3   C   C  1.391227   True      1\n",
       "6    2  10   C   H  1.080835  False      1\n",
       "7    3   4   C   C  1.391227   True      2\n",
       "8    3  11   C   H  1.081341  False      1\n",
       "9    4   5   C   C  1.387537   True      1\n",
       "10   4  12   C   H  1.080835  False      1\n",
       "11   5  13   C   H  1.078496  False      1\n",
       "12   6   7   N   O  1.221990  False      2\n",
       "13   6   8   N   O  1.221990  False      2"
      ]
     },
     "execution_count": 11,
     "metadata": {},
     "output_type": "execute_result"
    }
   ],
   "source": [
    "dfb = G.list_bonds()\n",
    "dfb"
   ]
  },
  {
   "cell_type": "code",
   "execution_count": 22,
   "id": "60ff9b81",
   "metadata": {},
   "outputs": [
    {
     "data": {
      "text/html": [
       "<div>\n",
       "<style scoped>\n",
       "    .dataframe tbody tr th:only-of-type {\n",
       "        vertical-align: middle;\n",
       "    }\n",
       "\n",
       "    .dataframe tbody tr th {\n",
       "        vertical-align: top;\n",
       "    }\n",
       "\n",
       "    .dataframe thead th {\n",
       "        text-align: right;\n",
       "    }\n",
       "</style>\n",
       "<table border=\"1\" class=\"dataframe\">\n",
       "  <thead>\n",
       "    <tr style=\"text-align: right;\">\n",
       "      <th></th>\n",
       "      <th>i1</th>\n",
       "      <th>i2</th>\n",
       "      <th>el1</th>\n",
       "      <th>el2</th>\n",
       "      <th>dist</th>\n",
       "      <th>ring</th>\n",
       "      <th>order</th>\n",
       "    </tr>\n",
       "  </thead>\n",
       "  <tbody>\n",
       "    <tr>\n",
       "      <th>0</th>\n",
       "      <td>0</td>\n",
       "      <td>1</td>\n",
       "      <td>C</td>\n",
       "      <td>C</td>\n",
       "      <td>1.387513</td>\n",
       "      <td>True</td>\n",
       "      <td>1</td>\n",
       "    </tr>\n",
       "    <tr>\n",
       "      <th>1</th>\n",
       "      <td>0</td>\n",
       "      <td>5</td>\n",
       "      <td>C</td>\n",
       "      <td>C</td>\n",
       "      <td>1.387513</td>\n",
       "      <td>True</td>\n",
       "      <td>2</td>\n",
       "    </tr>\n",
       "    <tr>\n",
       "      <th>3</th>\n",
       "      <td>1</td>\n",
       "      <td>2</td>\n",
       "      <td>C</td>\n",
       "      <td>C</td>\n",
       "      <td>1.387537</td>\n",
       "      <td>True</td>\n",
       "      <td>2</td>\n",
       "    </tr>\n",
       "    <tr>\n",
       "      <th>5</th>\n",
       "      <td>2</td>\n",
       "      <td>3</td>\n",
       "      <td>C</td>\n",
       "      <td>C</td>\n",
       "      <td>1.391227</td>\n",
       "      <td>True</td>\n",
       "      <td>1</td>\n",
       "    </tr>\n",
       "    <tr>\n",
       "      <th>7</th>\n",
       "      <td>3</td>\n",
       "      <td>4</td>\n",
       "      <td>C</td>\n",
       "      <td>C</td>\n",
       "      <td>1.391227</td>\n",
       "      <td>True</td>\n",
       "      <td>2</td>\n",
       "    </tr>\n",
       "    <tr>\n",
       "      <th>9</th>\n",
       "      <td>4</td>\n",
       "      <td>5</td>\n",
       "      <td>C</td>\n",
       "      <td>C</td>\n",
       "      <td>1.387537</td>\n",
       "      <td>True</td>\n",
       "      <td>1</td>\n",
       "    </tr>\n",
       "  </tbody>\n",
       "</table>\n",
       "</div>"
      ],
      "text/plain": [
       "   i1  i2 el1 el2      dist  ring  order\n",
       "0   0   1   C   C  1.387513  True      1\n",
       "1   0   5   C   C  1.387513  True      2\n",
       "3   1   2   C   C  1.387537  True      2\n",
       "5   2   3   C   C  1.391227  True      1\n",
       "7   3   4   C   C  1.391227  True      2\n",
       "9   4   5   C   C  1.387537  True      1"
      ]
     },
     "metadata": {},
     "output_type": "display_data"
    },
    {
     "data": {
      "text/plain": [
       "False"
      ]
     },
     "execution_count": 22,
     "metadata": {},
     "output_type": "execute_result"
    }
   ],
   "source": [
    "subdf = dfb[dfb.ring == True]\n",
    "display(subdf)\n",
    "s = subdf[['i1', 'i2']].sum(axis=0)\n",
    "(s == 0).any()"
   ]
  },
  {
   "cell_type": "code",
   "execution_count": 5,
   "id": "49cc6fb7",
   "metadata": {},
   "outputs": [
    {
     "data": {
      "text/plain": [
       "{'Nd-Od': 2, 'Cb-Nd': 1, 'Cb-Cb': 6, 'Cb-H': 5}"
      ]
     },
     "execution_count": 5,
     "metadata": {},
     "output_type": "execute_result"
    }
   ],
   "source": [
    "G.Benson_bonds(detail=1)"
   ]
  },
  {
   "cell_type": "code",
   "execution_count": null,
   "id": "ca563d4b",
   "metadata": {},
   "outputs": [],
   "source": []
  },
  {
   "cell_type": "code",
   "execution_count": 6,
   "id": "a4764df1",
   "metadata": {},
   "outputs": [
    {
     "data": {
      "text/plain": [
       "{'C-(C)2(H)': 5, 'N-(C)(O)2': 1, 'C-(C)2(N)': 1}"
      ]
     },
     "execution_count": 6,
     "metadata": {},
     "output_type": "execute_result"
    }
   ],
   "source": [
    "G.Benson_groups(detail=0, asdict=True)"
   ]
  },
  {
   "cell_type": "code",
   "execution_count": 7,
   "id": "8bbf2029",
   "metadata": {},
   "outputs": [
    {
     "data": {
      "text/plain": [
       "{'Cb-(Cb)2(Nd)': 1, 'Nd-(Cb)(Od)2': 1, 'Cb-(Cb)2(H)': 5}"
      ]
     },
     "execution_count": 7,
     "metadata": {},
     "output_type": "execute_result"
    }
   ],
   "source": [
    "G.Benson_groups(detail=1, asdict=True)"
   ]
  },
  {
   "cell_type": "code",
   "execution_count": 8,
   "id": "15cd7810",
   "metadata": {},
   "outputs": [
    {
     "data": {
      "text/plain": [
       "{'Ph-(NO2)': 1, 'NO2-(Ph)': 1}"
      ]
     },
     "execution_count": 8,
     "metadata": {},
     "output_type": "execute_result"
    }
   ],
   "source": [
    "G.Benson_groups(detail=2, asdict=True)"
   ]
  },
  {
   "cell_type": "code",
   "execution_count": 9,
   "id": "7f4e78ae",
   "metadata": {},
   "outputs": [
    {
     "data": {
      "text/plain": [
       "{'NO2-Ph': 1}"
      ]
     },
     "execution_count": 9,
     "metadata": {},
     "output_type": "execute_result"
    }
   ],
   "source": [
    "G.Benson_bonds(detail=2)"
   ]
  },
  {
   "cell_type": "code",
   "execution_count": 10,
   "id": "6c505084",
   "metadata": {},
   "outputs": [
    {
     "data": {
      "text/plain": [
       "['Ph',\n",
       " '_Ph',\n",
       " '_Ph',\n",
       " '_Ph',\n",
       " '_Ph',\n",
       " '_Ph',\n",
       " 'NO2',\n",
       " '_NO2',\n",
       " '_NO2',\n",
       " '__Ph',\n",
       " '__Ph',\n",
       " '__Ph',\n",
       " '__Ph',\n",
       " '__Ph']"
      ]
     },
     "execution_count": 10,
     "metadata": {},
     "output_type": "execute_result"
    }
   ],
   "source": [
    "G.Benson_atom_type(detail=2)"
   ]
  },
  {
   "cell_type": "code",
   "execution_count": null,
   "id": "8f650e06",
   "metadata": {},
   "outputs": [],
   "source": []
  }
 ],
 "metadata": {
  "kernelspec": {
   "display_name": "Python 3 (ipykernel)",
   "language": "python",
   "name": "python3"
  },
  "language_info": {
   "codemirror_mode": {
    "name": "ipython",
    "version": 3
   },
   "file_extension": ".py",
   "mimetype": "text/x-python",
   "name": "python",
   "nbconvert_exporter": "python",
   "pygments_lexer": "ipython3",
   "version": "3.7.12"
  }
 },
 "nbformat": 4,
 "nbformat_minor": 5
}
