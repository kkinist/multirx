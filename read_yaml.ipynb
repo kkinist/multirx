{
 "cells": [
  {
   "cell_type": "code",
   "execution_count": 5,
   "id": "4701d104",
   "metadata": {},
   "outputs": [],
   "source": [
    "# read a yaml file, mostly to check that it's formatted correctly\n",
    "import yaml, sys\n",
    "sys.path.insert(0, '../../karlib')\n",
    "import chem_subs as chem"
   ]
  },
  {
   "cell_type": "code",
   "execution_count": 21,
   "id": "09e756a0",
   "metadata": {},
   "outputs": [],
   "source": [
    "file = 'reactions.yml'\n",
    "with open(file, 'r') as Y:\n",
    "    rxns = yaml.safe_load(Y)"
   ]
  },
  {
   "cell_type": "code",
   "execution_count": 22,
   "id": "6f509b11",
   "metadata": {},
   "outputs": [
    {
     "name": "stdout",
     "output_type": "stream",
     "text": [
      "target :     dioxolane\n",
      "reactions :     [[['n2', 3], ['hcn', -3], ['no', -2], ['nh3', -1]],\n",
      "    [['hcl', 5], ['ch3cl', -3], ['hocl', -2]],\n",
      "    [['h2', 5], ['ch4', -3], ['h2o', -2]],\n",
      "    [['meoac', -1]],\n",
      "    [['o2', 3.5], ['co2', -3], ['h2o', -3]]]\n"
     ]
    }
   ],
   "source": [
    "chem.print_dict(rxns)"
   ]
  },
  {
   "cell_type": "code",
   "execution_count": 23,
   "id": "38a8115d",
   "metadata": {},
   "outputs": [
    {
     "name": "stdout",
     "output_type": "stream",
     "text": [
      "[['n2', 3], ['hcn', -3], ['no', -2], ['nh3', -1]]\n"
     ]
    }
   ],
   "source": [
    "print(rxns['reactions'][0])"
   ]
  },
  {
   "cell_type": "code",
   "execution_count": null,
   "id": "fdbbb079",
   "metadata": {},
   "outputs": [],
   "source": []
  },
  {
   "cell_type": "code",
   "execution_count": null,
   "id": "0777f79d",
   "metadata": {},
   "outputs": [],
   "source": []
  }
 ],
 "metadata": {
  "kernelspec": {
   "display_name": "Python 3 (ipykernel)",
   "language": "python",
   "name": "python3"
  },
  "language_info": {
   "codemirror_mode": {
    "name": "ipython",
    "version": 3
   },
   "file_extension": ".py",
   "mimetype": "text/x-python",
   "name": "python",
   "nbconvert_exporter": "python",
   "pygments_lexer": "ipython3",
   "version": "3.7.12"
  }
 },
 "nbformat": 4,
 "nbformat_minor": 5
}
