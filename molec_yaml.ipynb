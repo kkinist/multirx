{
 "cells": [
  {
   "cell_type": "code",
   "execution_count": 84,
   "id": "860e09a4",
   "metadata": {},
   "outputs": [],
   "source": [
    "# create YAML data file for molecule\n",
    "import yaml, re, sys, os\n",
    "import pandas as pd\n",
    "import numpy as np\n",
    "\n",
    "sys.path.insert(0, '../../karlib')\n",
    "import molpro_subs as mpr\n",
    "import chem_subs as chem\n",
    "import gaussian_subs as gau"
   ]
  },
  {
   "cell_type": "code",
   "execution_count": 85,
   "id": "7dd414a3",
   "metadata": {},
   "outputs": [],
   "source": [
    "# Import reference data\n",
    "atct = pd.read_csv(r'./refdata/ATcT_1p122r_gases.csv')\n",
    "webbook = pd.read_csv(r'./refdata/gas-enthalpies_webbook.csv')\n",
    "soc = pd.read_excel(r'./refdata/spin_orbit_correction.xlsx', skiprows=1)\n",
    "# put SOC formulas into standard order\n",
    "soc['Formula'] = soc['Species'].apply(lambda x: chem.formula(chem.formula_to_atomlist(x)))"
   ]
  },
  {
   "cell_type": "code",
   "execution_count": 86,
   "id": "c233de0e",
   "metadata": {},
   "outputs": [],
   "source": [
    "molec = 'o'"
   ]
  },
  {
   "cell_type": "code",
   "execution_count": 87,
   "id": "4c17f687",
   "metadata": {},
   "outputs": [],
   "source": [
    "doc = {}\n",
    "# get charge and spin multiplicity from Gaussian geom/freq file\n",
    "fgau = r'./geomfreq/{:s}_geom.out'.format(molec)\n",
    "fpro = r'./energysp/{:s}_cc.pro'.format(molec)\n",
    "FGAU = open(fgau, 'r')\n",
    "df = gau.read_charge_mult(FGAU)\n",
    "charge = df['Charge'].iloc[-1]\n",
    "mult = df['Mult'].iloc[-1]\n",
    "doc = {'Charge': int(charge)}\n",
    "doc['Spin_mult'] = int(mult)"
   ]
  },
  {
   "cell_type": "code",
   "execution_count": 88,
   "id": "85fc898b",
   "metadata": {},
   "outputs": [],
   "source": [
    "# collect meta-information about computed geometry\n",
    "cmd = str(gau.read_command(FGAU).at[0, 'Command']).split('#', 1)[1].strip()\n",
    "comment = str(gau.read_comments(FGAU).at[0, 'Comment'])\n",
    "geom = {'command': cmd, 'comment': comment}\n",
    "rev = gau.read_version(FGAU)\n",
    "vers = 'Gaussian{:s} {:s}'.format(rev[0], rev[2])\n",
    "geom['software'] = vers"
   ]
  },
  {
   "cell_type": "code",
   "execution_count": 89,
   "id": "e24998fb",
   "metadata": {},
   "outputs": [],
   "source": [
    "def find_line_number(file, search_string):\n",
    "    # return a list of line numbers for lines that include the search string\n",
    "    try:\n",
    "        F = open(file, 'r')\n",
    "    except TypeError:\n",
    "        # hopefully already a file object\n",
    "        F = file\n",
    "    lineno = []\n",
    "    for i, line in enumerate(F):\n",
    "        if search_string in line:\n",
    "            lineno.append(i)\n",
    "    return lineno"
   ]
  },
  {
   "cell_type": "code",
   "execution_count": 90,
   "id": "b2e5d793",
   "metadata": {},
   "outputs": [],
   "source": [
    "# find the optimized geometry, assuming an SCF method\n",
    "lineno = find_line_number(FGAU, 'Stationary point found')[0]\n",
    "dfscf = gau.read_scfe(FGAU)\n",
    "dfcrd = gau.read_std_orient(FGAU)\n",
    "dfscf = dfscf[dfscf.line < lineno].sort_values('line')\n",
    "scfE = float(dfscf['Energy'].iloc[-1])  # last energy before the \"Optimized\" announcement\n",
    "geom['E_scf'] = scfE\n",
    "dfcrd = dfcrd[dfcrd.line > lineno].sort_values('line')\n",
    "unit = str(dfcrd['Unit'].iloc[0])  # first geometry listed after the \"Optimized\" announcement\n",
    "# remove trailing \"s\" from name of unit\n",
    "if unit[-1] == 's':\n",
    "    unit = unit[:-1]\n",
    "geom['unit'] = unit\n",
    "crd = dfcrd['Coordinates'].iloc[0]  # last geom before the lowest energy\n",
    "coords = []\n",
    "for i, row in crd.iterrows():\n",
    "    c = [chem.elz(row.Z, 'symbol')] + list(row[['x', 'y', 'z']])\n",
    "    coords.append(c)\n",
    "geom['coordinates'] = coords\n",
    "geom['basis_functions'] = gau.read_nbfn(FGAU)[0][0]\n",
    "natom = len(coords)\n",
    "if natom > 1:\n",
    "    # rotational constants\n",
    "    dfrot = gau.read_rotational(FGAU)\n",
    "    dfrot = dfrot[dfrot.line > lineno].sort_values('line')\n",
    "    rotat = {s: float(x) for s, x in zip(['A','B','C'], dfrot['Rotational Constants'].iloc[0])}\n",
    "    pg = gau.read_pointgroup(FGAU)['point group'].iloc[-1]  # last PG (freq calc) is probably tightest\n",
    "    if '*' in pg:\n",
    "        # linear molecule should have only one rotational constant\n",
    "        rotat = {'A': rotat['A']}\n",
    "    rotat['point_group'] = str(pg)\n",
    "    rotat['unit'] = str(dfrot['Unit'].iloc[0])\n",
    "    # external symmetry number\n",
    "    rotat['symmetry_number'] = gau.read_symno(FGAU)\n",
    "    doc['Rotational'] = rotat"
   ]
  },
  {
   "cell_type": "code",
   "execution_count": 91,
   "id": "56f18441",
   "metadata": {},
   "outputs": [
    {
     "name": "stdout",
     "output_type": "stream",
     "text": [
      "formula: O\n"
     ]
    }
   ],
   "source": [
    "# create formula from list of atoms\n",
    "formula = chem.formula([x[0] for x in geom['coordinates']])\n",
    "print('formula:', formula)"
   ]
  },
  {
   "cell_type": "code",
   "execution_count": 92,
   "id": "630b118a",
   "metadata": {},
   "outputs": [
    {
     "data": {
      "text/html": [
       "<div>\n",
       "<style scoped>\n",
       "    .dataframe tbody tr th:only-of-type {\n",
       "        vertical-align: middle;\n",
       "    }\n",
       "\n",
       "    .dataframe tbody tr th {\n",
       "        vertical-align: top;\n",
       "    }\n",
       "\n",
       "    .dataframe thead th {\n",
       "        text-align: right;\n",
       "    }\n",
       "</style>\n",
       "<table border=\"1\" class=\"dataframe\">\n",
       "  <thead>\n",
       "    <tr style=\"text-align: right;\">\n",
       "      <th></th>\n",
       "      <th>Species</th>\n",
       "      <th>Formula</th>\n",
       "      <th>EoF0</th>\n",
       "      <th>EoF298</th>\n",
       "      <th>Unc</th>\n",
       "      <th>MW</th>\n",
       "      <th>ATcT_ID</th>\n",
       "      <th>Hill</th>\n",
       "    </tr>\n",
       "  </thead>\n",
       "  <tbody>\n",
       "    <tr>\n",
       "      <th>13</th>\n",
       "      <td>Oxygen atom</td>\n",
       "      <td>O</td>\n",
       "      <td>246.844</td>\n",
       "      <td>249.229</td>\n",
       "      <td>0.0021</td>\n",
       "      <td>15.9994</td>\n",
       "      <td>17778-80-2*0</td>\n",
       "      <td>O</td>\n",
       "    </tr>\n",
       "  </tbody>\n",
       "</table>\n",
       "</div>"
      ],
      "text/plain": [
       "        Species Formula     EoF0   EoF298     Unc       MW       ATcT_ID Hill\n",
       "13  Oxygen atom       O  246.844  249.229  0.0021  15.9994  17778-80-2*0    O"
      ]
     },
     "metadata": {},
     "output_type": "display_data"
    },
    {
     "data": {
      "text/html": [
       "<div>\n",
       "<style scoped>\n",
       "    .dataframe tbody tr th:only-of-type {\n",
       "        vertical-align: middle;\n",
       "    }\n",
       "\n",
       "    .dataframe tbody tr th {\n",
       "        vertical-align: top;\n",
       "    }\n",
       "\n",
       "    .dataframe thead th {\n",
       "        text-align: right;\n",
       "    }\n",
       "</style>\n",
       "<table border=\"1\" class=\"dataframe\">\n",
       "  <thead>\n",
       "    <tr style=\"text-align: right;\">\n",
       "      <th></th>\n",
       "      <th>Species</th>\n",
       "      <th>Formula</th>\n",
       "      <th>EoF298</th>\n",
       "      <th>Unc</th>\n",
       "      <th>WB_ID</th>\n",
       "      <th>Squib</th>\n",
       "      <th>Method</th>\n",
       "    </tr>\n",
       "  </thead>\n",
       "  <tbody>\n",
       "    <tr>\n",
       "      <th>1362</th>\n",
       "      <td>Oxygen, atomic</td>\n",
       "      <td>O</td>\n",
       "      <td>249.18</td>\n",
       "      <td>0.1</td>\n",
       "      <td>C17778802</td>\n",
       "      <td>1984COX/WAG1B</td>\n",
       "      <td>Review # CODATA Review value</td>\n",
       "    </tr>\n",
       "  </tbody>\n",
       "</table>\n",
       "</div>"
      ],
      "text/plain": [
       "             Species Formula  EoF298  Unc      WB_ID          Squib  \\\n",
       "1362  Oxygen, atomic       O  249.18  0.1  C17778802  1984COX/WAG1B   \n",
       "\n",
       "                            Method  \n",
       "1362  Review # CODATA Review value  "
      ]
     },
     "metadata": {},
     "output_type": "display_data"
    }
   ],
   "source": [
    "# collect identifiers\n",
    "identifier = {\n",
    "    'local': molec,  # the label used internally here\n",
    "    'formula': formula,\n",
    "}\n",
    "if natom > 2:\n",
    "    identifier['IUPAC'] = chem.CIRconvert(formula, 'iupac_name')\n",
    "    identifier['InChI'] = chem.CIRconvert(formula, 'stdinchi').split('=')[1]\n",
    "    cas = ', '.join(chem.CIRconvert(formula, 'cas').split('\\n'))  # multiple values will be spliced into one string\n",
    "    identifier['CASRN'] = cas\n",
    "    if len(identifier['IUPAC'].split('\\n')) > 1:\n",
    "        # do not show IUPAC name at all\n",
    "        del identifier['IUPAC']\n",
    "df_atct = atct[(atct.Formula == formula) | (atct.Hill.str.lower() == formula)]\n",
    "display(df_atct)\n",
    "df_wb = webbook[(webbook.Formula == formula)]\n",
    "display(df_wb)\n",
    "for source, prefix, df in zip(['WebBook', 'ATcT'], ['WB', 'ATcT'], [df_wb, df_atct]):\n",
    "    if len(df) == 1:\n",
    "        identifier[source] = df[prefix+'_ID'].iloc[0]\n",
    "        identifier['name'] = df['Species'].iloc[0]\n",
    "    elif len(df) == 0:\n",
    "        print(f'Notice: \"{molec}\" not found in {source} list')\n",
    "    else:\n",
    "        # more than one\n",
    "        print(f'Multiple {source} matches for \"{molec}\"')\n",
    "        display(df)\n",
    "        print('Formula = {:s}'.format(identifier['formula']))\n",
    "doc['Identifiers'] = identifier"
   ]
  },
  {
   "cell_type": "code",
   "execution_count": 93,
   "id": "58784f9e",
   "metadata": {},
   "outputs": [],
   "source": [
    "# collect reference enthalpy of formation\n",
    "refdata = {}\n",
    "for source, df in zip(['ATcT', 'WebBook'], [df_atct, df_wb]):\n",
    "    if len(df) == 1:\n",
    "        data = {}\n",
    "        try:\n",
    "            data['EoF0'] = float(df['EoF0'].iloc[0])\n",
    "        except:\n",
    "            if source != 'WebBook':\n",
    "                print(f'No EoF0 found in {source}')\n",
    "        try:\n",
    "            data['source'] = str(df['Squib'].iloc[0])\n",
    "        except:\n",
    "            # ATcT source cannot be further specified\n",
    "            pass\n",
    "        try:\n",
    "            data['comment'] = str(df['Method'].iloc[0])\n",
    "        except:\n",
    "            # ATcT method cannot be further specified\n",
    "            pass\n",
    "        data['EoF298'] = float(df['EoF298'].iloc[0])\n",
    "        data['unc'] = float(df['Unc'].iloc[0])\n",
    "        data['unit'] = 'kJ/mol'  # for both WebBook and ATcT\n",
    "        refdata[source] = data\n",
    "# look for spin-orbit correction\n",
    "subsoc = soc[soc.Formula == formula]\n",
    "if len(subsoc == 1):\n",
    "    socdata = {'value': float(subsoc['Value'].iloc[0])}\n",
    "    socdata['unc'] = float(subsoc['Unc'].iloc[0])\n",
    "    socdata['unit'] = subsoc['Unit'].iloc[0]\n",
    "    refdata['spin_orbit'] = socdata\n",
    "doc['Refdata'] = refdata"
   ]
  },
  {
   "cell_type": "code",
   "execution_count": 94,
   "id": "054976aa",
   "metadata": {},
   "outputs": [],
   "source": [
    "# harmonic vibrational frequencies\n",
    "if natom > 1:\n",
    "    doc['Frequencies'] = gau.read_freqs(FGAU)[-1][2]['Freq'].values.tolist()\n",
    "    # put the number of imaginary frequencies in the geometry block\n",
    "    geom['nimag'] = int(np.sum(np.array(doc['Frequencies']) < 0))\n",
    "    print(geom['nimag'])\n",
    "    doc['Geometry'] = geom"
   ]
  },
  {
   "cell_type": "code",
   "execution_count": 95,
   "id": "44631d4d",
   "metadata": {},
   "outputs": [],
   "source": [
    "FGAU.close()\n",
    "# read single-point CCSD(T)-F12b energy \n",
    "regx = re.compile(r'CCSD\\(T\\)-F12b energy')\n",
    "rx_nbf = re.compile(r'NUMBER OF CONTRACTIONS:')\n",
    "rx_hf = re.compile(r'HF STATE\\s*\\d+\\.\\d Energy')\n",
    "with open(fpro, 'r') as FPRO:\n",
    "    for line in FPRO:\n",
    "        if regx.search(line):\n",
    "            w = line.split()\n",
    "            ecc = float(w[-1])\n",
    "        if rx_nbf.search(line):\n",
    "            w = line.split()\n",
    "            nbf = int(w[3])\n",
    "        if rx_hf.search(line):\n",
    "            w = line.split()\n",
    "            ehf = float(w[-1])\n",
    "energy = {'CCSD(T)-F12b': ecc, 'basis_functions': nbf, 'HF': ehf}\n",
    "doc['Energy'] = energy"
   ]
  },
  {
   "cell_type": "code",
   "execution_count": 96,
   "id": "023d89ed",
   "metadata": {},
   "outputs": [
    {
     "name": "stdout",
     "output_type": "stream",
     "text": [
      "YAML file o.yml created.\n"
     ]
    }
   ],
   "source": [
    "# save to YAML file\n",
    "fout = molec + '.yml'\n",
    "with open(fout, 'w') as F:\n",
    "    F.write(yaml.dump(doc))\n",
    "print('YAML file {:s} created.'.format(fout))"
   ]
  },
  {
   "cell_type": "raw",
   "id": "927b198d",
   "metadata": {},
   "source": [
    "# export this to a regular python file\n",
    "!jupyter nbconvert --to script --no-prompt molec_yaml.ipynb"
   ]
  },
  {
   "cell_type": "code",
   "execution_count": null,
   "id": "1ec10397",
   "metadata": {},
   "outputs": [],
   "source": []
  }
 ],
 "metadata": {
  "kernelspec": {
   "display_name": "Python 3 (ipykernel)",
   "language": "python",
   "name": "python3"
  },
  "language_info": {
   "codemirror_mode": {
    "name": "ipython",
    "version": 3
   },
   "file_extension": ".py",
   "mimetype": "text/x-python",
   "name": "python",
   "nbconvert_exporter": "python",
   "pygments_lexer": "ipython3",
   "version": "3.7.12"
  }
 },
 "nbformat": 4,
 "nbformat_minor": 5
}
