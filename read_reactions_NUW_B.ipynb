{
 "cells": [
  {
   "cell_type": "code",
   "execution_count": 1,
   "id": "4701d104",
   "metadata": {},
   "outputs": [],
   "source": [
    "# Read a yaml file of reactions\n",
    "# Analyze using the non-uniform weighting procedure only\n",
    "# This version propagates exptl uncertainties using\n",
    "#   correlated Monte Carlo, that is, at the educt level\n",
    "#   instead of the reaction level (as in version _A)\n",
    "import yaml, sys, os\n",
    "import pandas as pd\n",
    "import matplotlib.pyplot as plt\n",
    "import numpy as np\n",
    "#from numpy.random import default_rng\n",
    "sys.path.insert(0, '../../karlib')\n",
    "import chem_subs as chem\n",
    "import multirx_subs as mrx"
   ]
  },
  {
   "cell_type": "code",
   "execution_count": 2,
   "id": "09e756a0",
   "metadata": {},
   "outputs": [],
   "source": [
    "rho = 'rho_E'\n",
    "x = mrx.read_yaml('reactions_dioxolane.yml')\n",
    "target = x['target']\n",
    "# coefficients are negative for reactants and positive for products\n",
    "rxns = x['reactions']"
   ]
  },
  {
   "cell_type": "code",
   "execution_count": 3,
   "id": "dd23b47e",
   "metadata": {},
   "outputs": [
    {
     "name": "stdout",
     "output_type": "stream",
     "text": [
      "*** Warning: \"No SOC data for open-shell linear molecule o2\" in compute_E0()\n",
      "EoF(dioxolane) = (-274.9 ± 1.1) kJ/mol\n"
     ]
    },
    {
     "data": {
      "image/png": "[encoded data removed]",
      "text/plain": [
       "<Figure size 640x480 with 1 Axes>"
      ]
     },
     "metadata": {},
     "output_type": "display_data"
    }
   ],
   "source": [
    "retval, eofl = mrx.eof_exptl_MC(rxns, rho, tol=0.05)\n",
    "print('EoF({:s}) = ({:.1f} ± {:.1f}) kJ/mol'.format(target, retval['mean'], retval['u_tot']))\n",
    "plt.hist(eofl, 50)\n",
    "plt.xlabel('SEMw')\n",
    "plt.ylabel('counts')\n",
    "plt.show()"
   ]
  },
  {
   "cell_type": "code",
   "execution_count": null,
   "id": "94799488",
   "metadata": {},
   "outputs": [],
   "source": []
  },
  {
   "cell_type": "code",
   "execution_count": null,
   "id": "947c33ef",
   "metadata": {},
   "outputs": [],
   "source": []
  },
  {
   "cell_type": "code",
   "execution_count": null,
   "id": "4d3d5d21",
   "metadata": {},
   "outputs": [],
   "source": []
  },
  {
   "cell_type": "code",
   "execution_count": 4,
   "id": "fdbbb079",
   "metadata": {},
   "outputs": [
    {
     "name": "stdout",
     "output_type": "stream",
     "text": [
      "15 reactions for dioxolane\n"
     ]
    }
   ],
   "source": [
    "print(f'{len(rxns)} reactions for {target}')\n",
    "moldata, Geom = mrx.read_educt_data(rxns)\n",
    "oklist = mrx.check_reactions_balance(rxns, Geom)"
   ]
  },
  {
   "cell_type": "code",
   "execution_count": 5,
   "id": "1a4de4a7",
   "metadata": {
    "scrolled": false
   },
   "outputs": [
    {
     "name": "stdout",
     "output_type": "stream",
     "text": [
      "*** Warning: \"No SOC data for open-shell linear molecule o2\" in compute_E0()\n"
     ]
    }
   ],
   "source": [
    "T = 0.  # temperature; choose 0 or 298 (meaning 298.15)\n",
    "exptl = mrx.select_expt(moldata, T)\n",
    "# get theoretical energies for molecules\n",
    "for molec, molecdata in moldata.items():\n",
    "    #print(molec)\n",
    "    mrx.thermo_functions(molecdata, T, zpe_scale=0.98)\n",
    "    mrx.compute_E0(molecdata)"
   ]
  },
  {
   "cell_type": "code",
   "execution_count": 6,
   "id": "355546ac",
   "metadata": {},
   "outputs": [],
   "source": [
    "# use theoretical data to compute reaction enthalpies\n",
    "Hrx, Srx = mrx.eq5_sums(rxns, target, moldata)"
   ]
  },
  {
   "cell_type": "code",
   "execution_count": 7,
   "id": "3a843548",
   "metadata": {
    "scrolled": true
   },
   "outputs": [],
   "source": [
    "eq6sum, uexp = mrx.eq6_sums(rxns, target, exptl)\n",
    "# enthalpy of formation of target\n",
    "eof = [s5 - s6 for s5, s6 in zip(Hrx, eq6sum)]"
   ]
  },
  {
   "cell_type": "code",
   "execution_count": 8,
   "id": "36a3d1b4",
   "metadata": {},
   "outputs": [
    {
     "name": "stdout",
     "output_type": "stream",
     "text": [
      "Results for dioxolane at T = 0.0\n"
     ]
    },
    {
     "data": {
      "text/html": [
       "<style type=\"text/css\">\n",
       "</style>\n",
       "<table id=\"T_b791a_\">\n",
       "  <thead>\n",
       "    <tr>\n",
       "      <th class=\"blank level0\" >&nbsp;</th>\n",
       "      <th class=\"col_heading level0 col0\" >EoF</th>\n",
       "      <th class=\"col_heading level0 col1\" >dH(rxn)</th>\n",
       "      <th class=\"col_heading level0 col2\" >uexp</th>\n",
       "      <th class=\"col_heading level0 col3\" >Reaction</th>\n",
       "      <th class=\"col_heading level0 col4\" >rho_T</th>\n",
       "      <th class=\"col_heading level0 col5\" >rho_c</th>\n",
       "      <th class=\"col_heading level0 col6\" >rho_E</th>\n",
       "    </tr>\n",
       "  </thead>\n",
       "  <tbody>\n",
       "    <tr>\n",
       "      <th id=\"T_b791a_level0_row0\" class=\"row_heading level0 row0\" >0</th>\n",
       "      <td id=\"T_b791a_row0_col0\" class=\"data row0 col0\" >-282.8</td>\n",
       "      <td id=\"T_b791a_row0_col1\" class=\"data row0 col1\" >-814.4</td>\n",
       "      <td id=\"T_b791a_row0_col2\" class=\"data row0 col2\" >0.1</td>\n",
       "      <td id=\"T_b791a_row0_col3\" class=\"data row0 col3\" >dioxolane + 3 n2 = 3 hcn + 2 no + nh3</td>\n",
       "      <td id=\"T_b791a_row0_col4\" class=\"data row0 col4\" >9.0</td>\n",
       "      <td id=\"T_b791a_row0_col5\" class=\"data row0 col5\" >18.2</td>\n",
       "      <td id=\"T_b791a_row0_col6\" class=\"data row0 col6\" >815.9</td>\n",
       "    </tr>\n",
       "    <tr>\n",
       "      <th id=\"T_b791a_level0_row1\" class=\"row_heading level0 row1\" >2</th>\n",
       "      <td id=\"T_b791a_row1_col0\" class=\"data row1 col0\" >-279.0</td>\n",
       "      <td id=\"T_b791a_row1_col1\" class=\"data row1 col1\" >398.5</td>\n",
       "      <td id=\"T_b791a_row1_col2\" class=\"data row1 col2\" >0.1</td>\n",
       "      <td id=\"T_b791a_row1_col3\" class=\"data row1 col3\" >dioxolane + 5 h2 = 3 ch4 + 2 h2o</td>\n",
       "      <td id=\"T_b791a_row1_col4\" class=\"data row1 col4\" >15.1</td>\n",
       "      <td id=\"T_b791a_row1_col5\" class=\"data row1 col5\" >39.2</td>\n",
       "      <td id=\"T_b791a_row1_col6\" class=\"data row1 col6\" >398.5</td>\n",
       "    </tr>\n",
       "    <tr>\n",
       "      <th id=\"T_b791a_level0_row2\" class=\"row_heading level0 row2\" >3</th>\n",
       "      <td id=\"T_b791a_row2_col0\" class=\"data row2 col0\" >-278.9</td>\n",
       "      <td id=\"T_b791a_row2_col1\" class=\"data row2 col1\" >115.4</td>\n",
       "      <td id=\"T_b791a_row2_col2\" class=\"data row2 col2\" >0.3</td>\n",
       "      <td id=\"T_b791a_row2_col3\" class=\"data row2 col3\" >dioxolane = meoac</td>\n",
       "      <td id=\"T_b791a_row2_col4\" class=\"data row2 col4\" >2.6</td>\n",
       "      <td id=\"T_b791a_row2_col5\" class=\"data row2 col5\" >10.7</td>\n",
       "      <td id=\"T_b791a_row2_col6\" class=\"data row2 col6\" >115.4</td>\n",
       "    </tr>\n",
       "    <tr>\n",
       "      <th id=\"T_b791a_level0_row3\" class=\"row_heading level0 row3\" >4</th>\n",
       "      <td id=\"T_b791a_row3_col0\" class=\"data row3 col0\" >-278.4</td>\n",
       "      <td id=\"T_b791a_row3_col1\" class=\"data row3 col1\" >1617.8</td>\n",
       "      <td id=\"T_b791a_row3_col2\" class=\"data row3 col2\" >0.0</td>\n",
       "      <td id=\"T_b791a_row3_col3\" class=\"data row3 col3\" >dioxolane + 3.5 o2 = 3 co2 + 3 h2o</td>\n",
       "      <td id=\"T_b791a_row3_col4\" class=\"data row3 col4\" >2.3</td>\n",
       "      <td id=\"T_b791a_row3_col5\" class=\"data row3 col5\" >34.4</td>\n",
       "      <td id=\"T_b791a_row3_col6\" class=\"data row3 col6\" >1617.8</td>\n",
       "    </tr>\n",
       "    <tr>\n",
       "      <th id=\"T_b791a_level0_row4\" class=\"row_heading level0 row4\" >1</th>\n",
       "      <td id=\"T_b791a_row4_col0\" class=\"data row4 col0\" >-278.3</td>\n",
       "      <td id=\"T_b791a_row4_col1\" class=\"data row4 col1\" >-367.6</td>\n",
       "      <td id=\"T_b791a_row4_col2\" class=\"data row4 col2\" >0.4</td>\n",
       "      <td id=\"T_b791a_row4_col3\" class=\"data row4 col3\" >dioxolane + 5 hcl = 3 ch3cl + 2 hocl</td>\n",
       "      <td id=\"T_b791a_row4_col4\" class=\"data row4 col4\" >10.0</td>\n",
       "      <td id=\"T_b791a_row4_col5\" class=\"data row4 col5\" >43.5</td>\n",
       "      <td id=\"T_b791a_row4_col6\" class=\"data row4 col6\" >367.6</td>\n",
       "    </tr>\n",
       "    <tr>\n",
       "      <th id=\"T_b791a_level0_row5\" class=\"row_heading level0 row5\" >5</th>\n",
       "      <td id=\"T_b791a_row5_col0\" class=\"data row5 col0\" >-277.2</td>\n",
       "      <td id=\"T_b791a_row5_col1\" class=\"data row5 col1\" >-8.3</td>\n",
       "      <td id=\"T_b791a_row5_col2\" class=\"data row5 col2\" >0.8</td>\n",
       "      <td id=\"T_b791a_row5_col3\" class=\"data row5 col3\" >dioxolane + cyc5 = 2 THF</td>\n",
       "      <td id=\"T_b791a_row5_col4\" class=\"data row5 col4\" >0.3</td>\n",
       "      <td id=\"T_b791a_row5_col5\" class=\"data row5 col5\" >1.0</td>\n",
       "      <td id=\"T_b791a_row5_col6\" class=\"data row5 col6\" >8.3</td>\n",
       "    </tr>\n",
       "    <tr>\n",
       "      <th id=\"T_b791a_level0_row6\" class=\"row_heading level0 row6\" >6</th>\n",
       "      <td id=\"T_b791a_row6_col0\" class=\"data row6 col0\" >-276.1</td>\n",
       "      <td id=\"T_b791a_row6_col1\" class=\"data row6 col1\" >-130.7</td>\n",
       "      <td id=\"T_b791a_row6_col2\" class=\"data row6 col2\" >0.2</td>\n",
       "      <td id=\"T_b791a_row6_col3\" class=\"data row6 col3\" >dioxolane = ch2o + oxirane</td>\n",
       "      <td id=\"T_b791a_row6_col4\" class=\"data row6 col4\" >1.0</td>\n",
       "      <td id=\"T_b791a_row6_col5\" class=\"data row6 col5\" >14.1</td>\n",
       "      <td id=\"T_b791a_row6_col6\" class=\"data row6 col6\" >130.7</td>\n",
       "    </tr>\n",
       "    <tr>\n",
       "      <th id=\"T_b791a_level0_row7\" class=\"row_heading level0 row7\" >7</th>\n",
       "      <td id=\"T_b791a_row7_col0\" class=\"data row7 col0\" >-275.1</td>\n",
       "      <td id=\"T_b791a_row7_col1\" class=\"data row7 col1\" >-197.9</td>\n",
       "      <td id=\"T_b791a_row7_col2\" class=\"data row7 col2\" >0.1</td>\n",
       "      <td id=\"T_b791a_row7_col3\" class=\"data row7 col3\" >dioxolane + h2o = 3 ch2o + h2</td>\n",
       "      <td id=\"T_b791a_row7_col4\" class=\"data row7 col4\" >2.9</td>\n",
       "      <td id=\"T_b791a_row7_col5\" class=\"data row7 col5\" >51.5</td>\n",
       "      <td id=\"T_b791a_row7_col6\" class=\"data row7 col6\" >197.9</td>\n",
       "    </tr>\n",
       "    <tr>\n",
       "      <th id=\"T_b791a_level0_row8\" class=\"row_heading level0 row8\" >8</th>\n",
       "      <td id=\"T_b791a_row8_col0\" class=\"data row8 col0\" >-275.0</td>\n",
       "      <td id=\"T_b791a_row8_col1\" class=\"data row8 col1\" >100.6</td>\n",
       "      <td id=\"T_b791a_row8_col2\" class=\"data row8 col2\" >0.5</td>\n",
       "      <td id=\"T_b791a_row8_col3\" class=\"data row8 col3\" >dioxolane + acetone = EC + c3h8</td>\n",
       "      <td id=\"T_b791a_row8_col4\" class=\"data row8 col4\" >1.2</td>\n",
       "      <td id=\"T_b791a_row8_col5\" class=\"data row8 col5\" >0.0</td>\n",
       "      <td id=\"T_b791a_row8_col6\" class=\"data row8 col6\" >100.6</td>\n",
       "    </tr>\n",
       "    <tr>\n",
       "      <th id=\"T_b791a_level0_row9\" class=\"row_heading level0 row9\" >9</th>\n",
       "      <td id=\"T_b791a_row9_col0\" class=\"data row9 col0\" >-274.7</td>\n",
       "      <td id=\"T_b791a_row9_col1\" class=\"data row9 col1\" >-63.4</td>\n",
       "      <td id=\"T_b791a_row9_col2\" class=\"data row9 col2\" >0.5</td>\n",
       "      <td id=\"T_b791a_row9_col3\" class=\"data row9 col3\" >dioxolane + 2 c3h8 = cyc5 + 2 DME</td>\n",
       "      <td id=\"T_b791a_row9_col4\" class=\"data row9 col4\" >0.0</td>\n",
       "      <td id=\"T_b791a_row9_col5\" class=\"data row9 col5\" >4.7</td>\n",
       "      <td id=\"T_b791a_row9_col6\" class=\"data row9 col6\" >63.4</td>\n",
       "    </tr>\n",
       "    <tr>\n",
       "      <th id=\"T_b791a_level0_row10\" class=\"row_heading level0 row10\" >10</th>\n",
       "      <td id=\"T_b791a_row10_col0\" class=\"data row10 col0\" >-274.2</td>\n",
       "      <td id=\"T_b791a_row10_col1\" class=\"data row10 col1\" >784.0</td>\n",
       "      <td id=\"T_b791a_row10_col2\" class=\"data row10 col2\" >0.1</td>\n",
       "      <td id=\"T_b791a_row10_col3\" class=\"data row10 col3\" >dioxolane + 2 o2 = 3 co + 3 h2o</td>\n",
       "      <td id=\"T_b791a_row10_col4\" class=\"data row10 col4\" >13.2</td>\n",
       "      <td id=\"T_b791a_row10_col5\" class=\"data row10 col5\" >114.8</td>\n",
       "      <td id=\"T_b791a_row10_col6\" class=\"data row10 col6\" >784.0</td>\n",
       "    </tr>\n",
       "    <tr>\n",
       "      <th id=\"T_b791a_level0_row11\" class=\"row_heading level0 row11\" >11</th>\n",
       "      <td id=\"T_b791a_row11_col0\" class=\"data row11 col0\" >-271.1</td>\n",
       "      <td id=\"T_b791a_row11_col1\" class=\"data row11 col1\" >-120.1</td>\n",
       "      <td id=\"T_b791a_row11_col2\" class=\"data row11 col2\" >0.3</td>\n",
       "      <td id=\"T_b791a_row11_col3\" class=\"data row11 col3\" >dioxolane + 3 ch4 + 2 h2o = c2h6 + 4 ch3oh</td>\n",
       "      <td id=\"T_b791a_row11_col4\" class=\"data row11 col4\" >5.0</td>\n",
       "      <td id=\"T_b791a_row11_col5\" class=\"data row11 col5\" >17.5</td>\n",
       "      <td id=\"T_b791a_row11_col6\" class=\"data row11 col6\" >120.1</td>\n",
       "    </tr>\n",
       "    <tr>\n",
       "      <th id=\"T_b791a_level0_row12\" class=\"row_heading level0 row12\" >12</th>\n",
       "      <td id=\"T_b791a_row12_col0\" class=\"data row12 col0\" >-266.3</td>\n",
       "      <td id=\"T_b791a_row12_col1\" class=\"data row12 col1\" >-278.0</td>\n",
       "      <td id=\"T_b791a_row12_col2\" class=\"data row12 col2\" >0.5</td>\n",
       "      <td id=\"T_b791a_row12_col3\" class=\"data row12 col3\" >dioxolane + 12 hf = 3 cf4 + 2 h2o + 7 h2</td>\n",
       "      <td id=\"T_b791a_row12_col4\" class=\"data row12 col4\" >9.6</td>\n",
       "      <td id=\"T_b791a_row12_col5\" class=\"data row12 col5\" >78.0</td>\n",
       "      <td id=\"T_b791a_row12_col6\" class=\"data row12 col6\" >278.0</td>\n",
       "    </tr>\n",
       "    <tr>\n",
       "      <th id=\"T_b791a_level0_row13\" class=\"row_heading level0 row13\" >13</th>\n",
       "      <td id=\"T_b791a_row13_col0\" class=\"data row13 col0\" >-252.6</td>\n",
       "      <td id=\"T_b791a_row13_col1\" class=\"data row13 col1\" >-4176.7</td>\n",
       "      <td id=\"T_b791a_row13_col2\" class=\"data row13 col2\" >0.1</td>\n",
       "      <td id=\"T_b791a_row13_col3\" class=\"data row13 col3\" >dioxolane = 3 c + 6 h + 2 o</td>\n",
       "      <td id=\"T_b791a_row13_col4\" class=\"data row13 col4\" >75.5</td>\n",
       "      <td id=\"T_b791a_row13_col5\" class=\"data row13 col5\" >1202.6</td>\n",
       "      <td id=\"T_b791a_row13_col6\" class=\"data row13 col6\" >4179.6</td>\n",
       "    </tr>\n",
       "    <tr>\n",
       "      <th id=\"T_b791a_level0_row14\" class=\"row_heading level0 row14\" >14</th>\n",
       "      <td id=\"T_b791a_row14_col0\" class=\"data row14 col0\" >-238.3</td>\n",
       "      <td id=\"T_b791a_row14_col1\" class=\"data row14 col1\" >4126.7</td>\n",
       "      <td id=\"T_b791a_row14_col2\" class=\"data row14 col2\" >0.5</td>\n",
       "      <td id=\"T_b791a_row14_col3\" class=\"data row14 col3\" >dioxolane + 11 f2 = 3 cf4 + 6 hf + 2 f2o</td>\n",
       "      <td id=\"T_b791a_row14_col4\" class=\"data row14 col4\" >76.3</td>\n",
       "      <td id=\"T_b791a_row14_col5\" class=\"data row14 col5\" >413.9</td>\n",
       "      <td id=\"T_b791a_row14_col6\" class=\"data row14 col6\" >4126.7</td>\n",
       "    </tr>\n",
       "  </tbody>\n",
       "</table>\n"
      ],
      "text/plain": [
       "<pandas.io.formats.style.Styler at 0x2128b61d788>"
      ]
     },
     "metadata": {},
     "output_type": "display_data"
    }
   ],
   "source": [
    "# make table of results\n",
    "print(f'Results for {target} at T = {T}')\n",
    "dfrx = pd.DataFrame({f'EoF': eof, 'dH(rxn)': Hrx, 'uexp': uexp,\n",
    "                     'Reaction': [mrx.reaction_string(rxn) for rxn in rxns]})\n",
    "# get values of rho variants (list of tuples)\n",
    "rho_E, rho_T, rho_c = mrx.gather_rho(rxns, target, moldata)\n",
    "dfrx['rho_T'] = rho_T\n",
    "dfrx['rho_c'] = rho_c\n",
    "dfrx['rho_E'] = rho_E\n",
    "dfrx = dfrx.sort_values('EoF')\n",
    "fmt = {col: '{:.1f}' for col in dfrx.columns}\n",
    "fmt['Reaction'] = '{:s}'\n",
    "fmt['wt_N'] = '{:.3f}'\n",
    "display(dfrx.style.format(fmt))"
   ]
  },
  {
   "cell_type": "code",
   "execution_count": 9,
   "id": "b1107e97",
   "metadata": {
    "scrolled": false
   },
   "outputs": [
    {
     "name": "stdout",
     "output_type": "stream",
     "text": [
      "Target = dioxolane\n",
      "Non-uniform weighting using rho_E:\n",
      "\tSEMw = 1.1, uexp = 0.4 kJ/mol\n",
      "\tEoF(0.0 K) = (-274.9 ± 1.2) kJ/mol (standard uncertainty)\n",
      "Experimental value = (-275.0 ± 0.7); Z-score = 0.1\n"
     ]
    }
   ],
   "source": [
    "print(f'Target = {target}')\n",
    "print(f'Non-uniform weighting using {rho}:')\n",
    "wmean, semw, rwmsx, a, b, change, niter = mrx.nonuniform_weighting(target, rho, dfrx,\n",
    "                                                        verbose=False)\n",
    "# combine SEMw with u_exp\n",
    "print('\\tSEMw = {:.1f}, uexp = {:.1f} kJ/mol'.format(semw, rwmsx))\n",
    "unc = np.sqrt(semw**2 + rwmsx**2)  # 'rwmsx' from eq. (13)\n",
    "print('\\tEoF({:.1f} K) = ({:.1f} ± {:.1f}) kJ/mol (standard uncertainty)'.format(T, wmean, unc))\n",
    "try:\n",
    "    expt = exptl[target]\n",
    "    uc = np.sqrt(unc**2 + expt['unc']**2)  # for comparing with expt\n",
    "    zs = (wmean - expt['EoF']) / uc\n",
    "    print('Experimental value = ({:.1f} ± {:.1f}); Z-score = {:.1f}'.format(expt['EoF'], expt['unc'], zs))\n",
    "except:\n",
    "    print('No experimental value available')"
   ]
  },
  {
   "cell_type": "markdown",
   "id": "373cb9fb",
   "metadata": {},
   "source": [
    "### Monte Carlo sampling of experimental values"
   ]
  },
  {
   "cell_type": "code",
   "execution_count": 10,
   "id": "fe9ef4ec",
   "metadata": {},
   "outputs": [
    {
     "name": "stdout",
     "output_type": "stream",
     "text": [
      "eofl:  mean = -274.93, stds = 0.14\n",
      "semwl:  mean = 1.10, stds = 0.05\n",
      "number of samples: 690 (tol = 0.05)\n",
      "Combined uncert:  EoF = (-274.9 ± 1.1) kJ/mol\n"
     ]
    }
   ],
   "source": [
    "# Sample educt exptl values from normal distributions\n",
    "# Sample until the variance is converged (to 5%)\n",
    "eofl = []\n",
    "semwl = []\n",
    "tol = 0.05\n",
    "rsv = np.inf\n",
    "while rsv >= tol:\n",
    "    xeduct = mrx.MCexp(exptl)  # educt exptl EoFs as sampled\n",
    "    eq6sum, uexp = mrx.eq6_sums(rxns, target, xeduct)\n",
    "    # enthalpy of formation of target\n",
    "    eof = [s5 - s6 for s5, s6 in zip(Hrx, eq6sum)]\n",
    "    dfsamp = pd.DataFrame({'EoF': eof, 'dH(rxn)': Hrx, 'uexp': uexp,\n",
    "                         'Reaction': [mrx.reaction_string(rxn) for rxn in rxns]})\n",
    "    for col in ['rho_T', 'rho_c', 'rho_E']:\n",
    "        dfsamp[col] = dfrx[col]\n",
    "    wmean, semw, a, b, change, niter = mrx.nonuniform_weighting_sinex(target, rho, dfsamp, verbose=False)\n",
    "    eofl.append(wmean)\n",
    "    semwl.append(semw)\n",
    "    if len(eofl) > 5:\n",
    "        rsv = chem.relstdvar(eofl)\n",
    "eofl = np.array(eofl)\n",
    "eofl_mean = eofl.mean()\n",
    "eofl_std = eofl.std()\n",
    "semwl = np.array(semwl)\n",
    "semwl_mean = np.sqrt( (semwl**2).mean() )  # average the variances\n",
    "print('eofl:  mean = {:.2f}, stds = {:.2f}'.format(eofl_mean, eofl_std))\n",
    "print('semwl:  mean = {:.2f}, stds = {:.2f}'.format(semwl_mean, semwl.std()))\n",
    "print('number of samples: {:d} (tol = {:.2f})'.format(len(eofl), tol))\n",
    "usq = semwl_mean**2 + eofl_std**2\n",
    "u = np.sqrt(usq)\n",
    "print('Combined uncert:  EoF = ({:.1f} ± {:.1f}) kJ/mol'.format(eofl_mean, u))"
   ]
  },
  {
   "cell_type": "code",
   "execution_count": 11,
   "id": "3477fd09",
   "metadata": {},
   "outputs": [
    {
     "data": {
      "image/png": "[encoded data removed]",
      "text/plain": [
       "<Figure size 640x480 with 1 Axes>"
      ]
     },
     "metadata": {},
     "output_type": "display_data"
    }
   ],
   "source": [
    "plt.hist(eofl, 50)\n",
    "plt.xlabel('SEMw')\n",
    "plt.ylabel('counts')\n",
    "plt.show()"
   ]
  },
  {
   "cell_type": "code",
   "execution_count": null,
   "id": "54a73885",
   "metadata": {},
   "outputs": [],
   "source": []
  },
  {
   "cell_type": "code",
   "execution_count": null,
   "id": "25cb8b4a",
   "metadata": {},
   "outputs": [],
   "source": []
  }
 ],
 "metadata": {
  "kernelspec": {
   "display_name": "Python 3 (ipykernel)",
   "language": "python",
   "name": "python3"
  },
  "language_info": {
   "codemirror_mode": {
    "name": "ipython",
    "version": 3
   },
   "file_extension": ".py",
   "mimetype": "text/x-python",
   "name": "python",
   "nbconvert_exporter": "python",
   "pygments_lexer": "ipython3",
   "version": "3.7.12"
  }
 },
 "nbformat": 4,
 "nbformat_minor": 5
}
