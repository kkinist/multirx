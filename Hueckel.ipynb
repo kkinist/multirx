{
 "cells": [
  {
   "cell_type": "code",
   "execution_count": 17,
   "id": "4701d104",
   "metadata": {},
   "outputs": [],
   "source": [
    "# Do a crude Huckel calculation--it might help in assigning bond orders to conjugated systems\n",
    "import yaml, sys, os, random, re, glob\n",
    "import pandas as pd\n",
    "import matplotlib.pyplot as plt\n",
    "import numpy as np\n",
    "import sympy\n",
    "sys.path.insert(0, '../atomic_SOC')\n",
    "import chem_subs as chem\n",
    "import multirx_subs as mrx"
   ]
  },
  {
   "cell_type": "code",
   "execution_count": 43,
   "id": "bd7350a8",
   "metadata": {},
   "outputs": [],
   "source": [
    "molec = 'c6h5'\n",
    "mdata = mrx.read_molec_yaml(molec)\n",
    "G = chem.Geometry(mdata['Geometry']['coordinates'])"
   ]
  },
  {
   "cell_type": "code",
   "execution_count": 44,
   "id": "c9e7b716",
   "metadata": {},
   "outputs": [
    {
     "name": "stdout",
     "output_type": "stream",
     "text": [
      "You have to close Avogadro to continue using this notebook\n"
     ]
    }
   ],
   "source": [
    "print('You have to close Avogadro to continue using this notebook')\n",
    "G.Avogadro()  # view molecule using Avogadro (separate window)"
   ]
  },
  {
   "cell_type": "code",
   "execution_count": 45,
   "id": "8c3aa28f",
   "metadata": {},
   "outputs": [],
   "source": [
    "def find_pi_carbons(self, bondtol=1.3):\n",
    "    # Identify C atoms that could participate in pi bonding\n",
    "    # Return two lists:\n",
    "    #    list of atom numbers\n",
    "    #    list of plane-normal vectors (if that doesn't make sense, <None>)\n",
    "    conn = self.connection_table(tol=bondtol)\n",
    "    nbond = conn.sum(axis=0)  # number of atoms bonded to each atom\n",
    "    atlist = [a.el for a in self.atom]\n",
    "    full = np.array([chem.max_valence(el) for el in atlist])\n",
    "    unsat = full - nbond  \n",
    "    # 'unsat' is the number of bonds \"missing\"\n",
    "    pican = []\n",
    "    vnorms = []\n",
    "    for iat, (el, nb, nopen) in enumerate(zip(atlist, nbond, unsat)):\n",
    "        if el != 'C': \n",
    "            continue\n",
    "        if nb > 3:\n",
    "            continue\n",
    "        pican.append(iat)\n",
    "    return pican"
   ]
  },
  {
   "cell_type": "code",
   "execution_count": 46,
   "id": "a4554fe0",
   "metadata": {
    "scrolled": true
   },
   "outputs": [
    {
     "data": {
      "text/plain": [
       "[0, 1, 2, 3, 4, 5]"
      ]
     },
     "execution_count": 46,
     "metadata": {},
     "output_type": "execute_result"
    }
   ],
   "source": [
    "find_pi_carbons(G)"
   ]
  },
  {
   "cell_type": "code",
   "execution_count": null,
   "id": "8ce82535",
   "metadata": {},
   "outputs": [],
   "source": []
  },
  {
   "cell_type": "code",
   "execution_count": null,
   "id": "08629c7b",
   "metadata": {},
   "outputs": [],
   "source": []
  },
  {
   "cell_type": "code",
   "execution_count": 19,
   "id": "a306aa75",
   "metadata": {},
   "outputs": [
    {
     "name": "stdout",
     "output_type": "stream",
     "text": [
      "Reading 345 molecular YAML files\n",
      "*** Warning: \"No SOC data for open-shell linear molecule cch\" in compute_E0()\n",
      "*** Warning: \"No SOC data for open-shell linear molecule ncn\" in compute_E0()\n",
      "*** Warning: \"No SOC data for open-shell linear molecule nco\" in compute_E0()\n",
      "*** Warning: \"No SOC data for open-shell linear molecule nh\" in compute_E0()\n",
      "*** Warning: \"No SOC data for open-shell linear molecule o2\" in compute_E0()\n"
     ]
    }
   ],
   "source": [
    "# Process all available molecular YAML files\n",
    "moldata, Gdict = mrx.read_all_molec_yamls()"
   ]
  },
  {
   "cell_type": "code",
   "execution_count": 20,
   "id": "09e756a0",
   "metadata": {},
   "outputs": [
    {
     "data": {
      "text/plain": [
       "{'O': 1, 'C': 5, 'N': 1, 'H': 9}"
      ]
     },
     "execution_count": 20,
     "metadata": {},
     "output_type": "execute_result"
    }
   ],
   "source": [
    "target = 'ethanol'\n",
    "#target = 'etono'\n",
    "#target = 'dioxolane'\n",
    "target = 'bicyc82one'\n",
    "#target = 'c2h5cho'\n",
    "#target = 'acoh'\n",
    "#target = 'butyrolactone'\n",
    "#target = 'acetoxyl'\n",
    "#target = 'EC'\n",
    "#target = 'onono2'\n",
    "#target = 'phcooh'\n",
    "#target = 'naphthalene'\n",
    "#target = 'PrNH2'\n",
    "#target = 'fcn'\n",
    "target = 'AcNH2'\n",
    "#target = 'DMSO'\n",
    "#target = 'butadiene'\n",
    "#target = 'benzyne'\n",
    "target = 'c6h5'\n",
    "target = 'NMP'\n",
    "G = Gdict[target]\n",
    "tstoich = G.stoichiometry(asdict=True)\n",
    "tstoich"
   ]
  },
  {
   "cell_type": "code",
   "execution_count": 21,
   "id": "7faa0ece",
   "metadata": {},
   "outputs": [
    {
     "name": "stdout",
     "output_type": "stream",
     "text": [
      "Molecule = NMP\n",
      "methyl           [(4, 9, 10, 11)]\n",
      "carbonyl         [(1, 0)]\n",
      "tertiary amide   [(2, 1, 4, 5)]\n",
      "amide            [(2, 1, 4, 5)]\n",
      "C-C              [(1, 3), (3, 6), (5, 6)]\n"
     ]
    }
   ],
   "source": [
    "print('Molecule =', target)\n",
    "fgroups = G.find_functional_group('all')\n",
    "for grp, atoms in fgroups.items():\n",
    "    if len(atoms):\n",
    "        print(f'{grp:<15s}  {atoms}')"
   ]
  },
  {
   "cell_type": "code",
   "execution_count": 22,
   "id": "7c3fe7cd",
   "metadata": {
    "scrolled": false
   },
   "outputs": [
    {
     "name": "stdout",
     "output_type": "stream",
     "text": [
      "['Od', 'Cd', 'N', 'C', 'C', 'C', 'C', 'H', 'H', 'H', 'H', 'H', 'H', 'H', 'H', 'H']\n",
      "['Od', 'Cd', 'N', 'C', 'C', 'C', 'C', 'H', 'H', 'H', 'H', 'H', 'H', 'H', 'H', 'H']\n",
      "['Od', 'Cd', 'N', 'C', 'C', 'C', 'C', 'H', 'H', 'H', 'H', 'H', 'H', 'H', 'H', 'H']\n",
      "['Od', 'Cd', 'N', 'C', 'C', 'C', 'C', 'H', 'H', 'H', 'H', 'H', 'H', 'H', 'H', 'H']\n",
      "['Od', 'Cd', 'N', 'C', 'C', 'C', 'C', 'H', 'H', 'H', 'H', 'H', 'H', 'H', 'H', 'H']\n",
      "['Od', 'Cd', 'N', 'C', 'C', 'C', 'C', 'H', 'H', 'H', 'H', 'H', 'H', 'H', 'H', 'H']\n",
      "['Od', 'Cd', 'N', 'C', 'C', 'C', 'C', 'H', 'H', 'H', 'H', 'H', 'H', 'H', 'H', 'H']\n",
      "['Od', 'Cd', 'N', 'C', 'C', 'C', 'C', 'H', 'H', 'H', 'H', 'H', 'H', 'H', 'H', 'H']\n",
      "['Od', 'Cd', 'N', 'C', 'C', 'C', 'C', 'H', 'H', 'H', 'H', 'H', 'H', 'H', 'H', 'H']\n",
      "['Od', 'Cd', 'N', 'C', 'C', 'C', 'C', 'H', 'H', 'H', 'H', 'H', 'H', 'H', 'H', 'H']\n",
      "['Od', 'Cd', 'N', 'C', 'C', 'C', 'C', 'H', 'H', 'H', 'H', 'H', 'H', 'H', 'H', 'H']\n"
     ]
    }
   ],
   "source": [
    "for i in range(11):\n",
    "    #print(G.find_functional_group('all'))\n",
    "    #df = G.list_bonds()\n",
    "    #display(df[df.order == 2])\n",
    "    print(G.Benson_atom_type(warn=False))"
   ]
  },
  {
   "cell_type": "code",
   "execution_count": 10,
   "id": "e38efb82",
   "metadata": {},
   "outputs": [
    {
     "name": "stdout",
     "output_type": "stream",
     "text": [
      "Molecule = c6h5\n"
     ]
    }
   ],
   "source": [
    "print('Molecule =', target)\n",
    "fgroups = G.find_functional_group('C#C')\n",
    "for grp, atoms in fgroups.items():\n",
    "    if len(atoms):\n",
    "        print(f'{grp:<15s}  {atoms}')"
   ]
  },
  {
   "cell_type": "code",
   "execution_count": 23,
   "id": "746f4026",
   "metadata": {},
   "outputs": [],
   "source": [
    "G.Avogadro()"
   ]
  },
  {
   "cell_type": "code",
   "execution_count": 26,
   "id": "cf32a7fd",
   "metadata": {},
   "outputs": [
    {
     "data": {
      "text/plain": [
       "array([2, 5, 9], dtype=int64)"
      ]
     },
     "execution_count": 26,
     "metadata": {},
     "output_type": "execute_result"
    }
   ],
   "source": [
    "G.bonded_list()[4]"
   ]
  },
  {
   "cell_type": "code",
   "execution_count": 7,
   "id": "f8e06f2e",
   "metadata": {},
   "outputs": [
    {
     "data": {
      "text/plain": [
       "['Ct', 'Ct', 'Cd', 'Cd', 'Cd', 'Cd', 'H', 'H', 'H', 'H']"
      ]
     },
     "execution_count": 7,
     "metadata": {},
     "output_type": "execute_result"
    }
   ],
   "source": [
    "bentype = G.Benson_atom_type()\n",
    "bentype"
   ]
  },
  {
   "cell_type": "code",
   "execution_count": 8,
   "id": "526ce6c3",
   "metadata": {},
   "outputs": [
    {
     "data": {
      "text/plain": [
       "['Ct', 'Ct', 'Cd', 'Cd', 'Cd', 'Cd', 'H', 'H', 'H', 'H']"
      ]
     },
     "execution_count": 8,
     "metadata": {},
     "output_type": "execute_result"
    }
   ],
   "source": [
    "bentype = G.Benson_atom_type(detail=1)\n",
    "bentype"
   ]
  },
  {
   "cell_type": "code",
   "execution_count": 26,
   "id": "1c984abd",
   "metadata": {},
   "outputs": [
    {
     "data": {
      "text/plain": [
       "array([3, 3, 3, 3, 1, 1, 1, 1, 1, 1])"
      ]
     },
     "execution_count": 26,
     "metadata": {},
     "output_type": "execute_result"
    }
   ],
   "source": [
    "nbond = G.connection.sum(axis=0)\n",
    "nbond"
   ]
  },
  {
   "cell_type": "code",
   "execution_count": 25,
   "id": "26f1e540",
   "metadata": {},
   "outputs": [
    {
     "data": {
      "text/html": [
       "<div>\n",
       "<style scoped>\n",
       "    .dataframe tbody tr th:only-of-type {\n",
       "        vertical-align: middle;\n",
       "    }\n",
       "\n",
       "    .dataframe tbody tr th {\n",
       "        vertical-align: top;\n",
       "    }\n",
       "\n",
       "    .dataframe thead th {\n",
       "        text-align: right;\n",
       "    }\n",
       "</style>\n",
       "<table border=\"1\" class=\"dataframe\">\n",
       "  <thead>\n",
       "    <tr style=\"text-align: right;\">\n",
       "      <th></th>\n",
       "      <th>i1</th>\n",
       "      <th>i2</th>\n",
       "      <th>el1</th>\n",
       "      <th>el2</th>\n",
       "      <th>dist</th>\n",
       "      <th>ring</th>\n",
       "      <th>order</th>\n",
       "    </tr>\n",
       "  </thead>\n",
       "  <tbody>\n",
       "    <tr>\n",
       "      <th>0</th>\n",
       "      <td>0</td>\n",
       "      <td>1</td>\n",
       "      <td>C</td>\n",
       "      <td>C</td>\n",
       "      <td>1.241032</td>\n",
       "      <td>True</td>\n",
       "      <td>2</td>\n",
       "    </tr>\n",
       "    <tr>\n",
       "      <th>1</th>\n",
       "      <td>0</td>\n",
       "      <td>2</td>\n",
       "      <td>C</td>\n",
       "      <td>C</td>\n",
       "      <td>1.378996</td>\n",
       "      <td>True</td>\n",
       "      <td>2</td>\n",
       "    </tr>\n",
       "    <tr>\n",
       "      <th>2</th>\n",
       "      <td>1</td>\n",
       "      <td>3</td>\n",
       "      <td>C</td>\n",
       "      <td>C</td>\n",
       "      <td>1.378996</td>\n",
       "      <td>True</td>\n",
       "      <td>2</td>\n",
       "    </tr>\n",
       "    <tr>\n",
       "      <th>3</th>\n",
       "      <td>2</td>\n",
       "      <td>4</td>\n",
       "      <td>C</td>\n",
       "      <td>C</td>\n",
       "      <td>1.406986</td>\n",
       "      <td>True</td>\n",
       "      <td>1</td>\n",
       "    </tr>\n",
       "    <tr>\n",
       "      <th>4</th>\n",
       "      <td>2</td>\n",
       "      <td>6</td>\n",
       "      <td>C</td>\n",
       "      <td>H</td>\n",
       "      <td>1.079829</td>\n",
       "      <td>False</td>\n",
       "      <td>1</td>\n",
       "    </tr>\n",
       "    <tr>\n",
       "      <th>5</th>\n",
       "      <td>3</td>\n",
       "      <td>5</td>\n",
       "      <td>C</td>\n",
       "      <td>C</td>\n",
       "      <td>1.406986</td>\n",
       "      <td>True</td>\n",
       "      <td>1</td>\n",
       "    </tr>\n",
       "    <tr>\n",
       "      <th>6</th>\n",
       "      <td>3</td>\n",
       "      <td>7</td>\n",
       "      <td>C</td>\n",
       "      <td>H</td>\n",
       "      <td>1.079829</td>\n",
       "      <td>False</td>\n",
       "      <td>1</td>\n",
       "    </tr>\n",
       "    <tr>\n",
       "      <th>7</th>\n",
       "      <td>4</td>\n",
       "      <td>5</td>\n",
       "      <td>C</td>\n",
       "      <td>C</td>\n",
       "      <td>1.401106</td>\n",
       "      <td>True</td>\n",
       "      <td>2</td>\n",
       "    </tr>\n",
       "    <tr>\n",
       "      <th>8</th>\n",
       "      <td>4</td>\n",
       "      <td>8</td>\n",
       "      <td>C</td>\n",
       "      <td>H</td>\n",
       "      <td>1.083064</td>\n",
       "      <td>False</td>\n",
       "      <td>1</td>\n",
       "    </tr>\n",
       "    <tr>\n",
       "      <th>9</th>\n",
       "      <td>5</td>\n",
       "      <td>9</td>\n",
       "      <td>C</td>\n",
       "      <td>H</td>\n",
       "      <td>1.083064</td>\n",
       "      <td>False</td>\n",
       "      <td>1</td>\n",
       "    </tr>\n",
       "  </tbody>\n",
       "</table>\n",
       "</div>"
      ],
      "text/plain": [
       "   i1  i2 el1 el2      dist   ring  order\n",
       "0   0   1   C   C  1.241032   True      2\n",
       "1   0   2   C   C  1.378996   True      2\n",
       "2   1   3   C   C  1.378996   True      2\n",
       "3   2   4   C   C  1.406986   True      1\n",
       "4   2   6   C   H  1.079829  False      1\n",
       "5   3   5   C   C  1.406986   True      1\n",
       "6   3   7   C   H  1.079829  False      1\n",
       "7   4   5   C   C  1.401106   True      2\n",
       "8   4   8   C   H  1.083064  False      1\n",
       "9   5   9   C   H  1.083064  False      1"
      ]
     },
     "execution_count": 25,
     "metadata": {},
     "output_type": "execute_result"
    }
   ],
   "source": [
    "df = G.list_bonds()\n",
    "df"
   ]
  },
  {
   "cell_type": "code",
   "execution_count": 34,
   "id": "3ba01131",
   "metadata": {},
   "outputs": [
    {
     "data": {
      "text/html": [
       "<div>\n",
       "<style scoped>\n",
       "    .dataframe tbody tr th:only-of-type {\n",
       "        vertical-align: middle;\n",
       "    }\n",
       "\n",
       "    .dataframe tbody tr th {\n",
       "        vertical-align: top;\n",
       "    }\n",
       "\n",
       "    .dataframe thead th {\n",
       "        text-align: right;\n",
       "    }\n",
       "</style>\n",
       "<table border=\"1\" class=\"dataframe\">\n",
       "  <thead>\n",
       "    <tr style=\"text-align: right;\">\n",
       "      <th></th>\n",
       "      <th>i1</th>\n",
       "      <th>i2</th>\n",
       "      <th>el1</th>\n",
       "      <th>el2</th>\n",
       "      <th>dist</th>\n",
       "      <th>ring</th>\n",
       "      <th>order</th>\n",
       "    </tr>\n",
       "  </thead>\n",
       "  <tbody>\n",
       "    <tr>\n",
       "      <th>0</th>\n",
       "      <td>0</td>\n",
       "      <td>1</td>\n",
       "      <td>C</td>\n",
       "      <td>C</td>\n",
       "      <td>1.241032</td>\n",
       "      <td>True</td>\n",
       "      <td>2</td>\n",
       "    </tr>\n",
       "    <tr>\n",
       "      <th>1</th>\n",
       "      <td>0</td>\n",
       "      <td>2</td>\n",
       "      <td>C</td>\n",
       "      <td>C</td>\n",
       "      <td>1.378996</td>\n",
       "      <td>True</td>\n",
       "      <td>2</td>\n",
       "    </tr>\n",
       "    <tr>\n",
       "      <th>2</th>\n",
       "      <td>1</td>\n",
       "      <td>3</td>\n",
       "      <td>C</td>\n",
       "      <td>C</td>\n",
       "      <td>1.378996</td>\n",
       "      <td>True</td>\n",
       "      <td>2</td>\n",
       "    </tr>\n",
       "    <tr>\n",
       "      <th>7</th>\n",
       "      <td>4</td>\n",
       "      <td>5</td>\n",
       "      <td>C</td>\n",
       "      <td>C</td>\n",
       "      <td>1.401106</td>\n",
       "      <td>True</td>\n",
       "      <td>2</td>\n",
       "    </tr>\n",
       "  </tbody>\n",
       "</table>\n",
       "</div>"
      ],
      "text/plain": [
       "   i1  i2 el1 el2      dist  ring  order\n",
       "0   0   1   C   C  1.241032  True      2\n",
       "1   0   2   C   C  1.378996  True      2\n",
       "2   1   3   C   C  1.378996  True      2\n",
       "7   4   5   C   C  1.401106  True      2"
      ]
     },
     "metadata": {},
     "output_type": "display_data"
    },
    {
     "data": {
      "text/html": [
       "<div>\n",
       "<style scoped>\n",
       "    .dataframe tbody tr th:only-of-type {\n",
       "        vertical-align: middle;\n",
       "    }\n",
       "\n",
       "    .dataframe tbody tr th {\n",
       "        vertical-align: top;\n",
       "    }\n",
       "\n",
       "    .dataframe thead th {\n",
       "        text-align: right;\n",
       "    }\n",
       "</style>\n",
       "<table border=\"1\" class=\"dataframe\">\n",
       "  <thead>\n",
       "    <tr style=\"text-align: right;\">\n",
       "      <th></th>\n",
       "      <th>i1</th>\n",
       "      <th>i2</th>\n",
       "      <th>el1</th>\n",
       "      <th>el2</th>\n",
       "      <th>dist</th>\n",
       "      <th>ring</th>\n",
       "      <th>order</th>\n",
       "    </tr>\n",
       "  </thead>\n",
       "  <tbody>\n",
       "    <tr>\n",
       "      <th>0</th>\n",
       "      <td>0</td>\n",
       "      <td>1</td>\n",
       "      <td>C</td>\n",
       "      <td>C</td>\n",
       "      <td>1.241032</td>\n",
       "      <td>True</td>\n",
       "      <td>2</td>\n",
       "    </tr>\n",
       "    <tr>\n",
       "      <th>1</th>\n",
       "      <td>0</td>\n",
       "      <td>2</td>\n",
       "      <td>C</td>\n",
       "      <td>C</td>\n",
       "      <td>1.378996</td>\n",
       "      <td>True</td>\n",
       "      <td>2</td>\n",
       "    </tr>\n",
       "    <tr>\n",
       "      <th>2</th>\n",
       "      <td>1</td>\n",
       "      <td>3</td>\n",
       "      <td>C</td>\n",
       "      <td>C</td>\n",
       "      <td>1.378996</td>\n",
       "      <td>True</td>\n",
       "      <td>2</td>\n",
       "    </tr>\n",
       "    <tr>\n",
       "      <th>7</th>\n",
       "      <td>4</td>\n",
       "      <td>5</td>\n",
       "      <td>C</td>\n",
       "      <td>C</td>\n",
       "      <td>1.401106</td>\n",
       "      <td>True</td>\n",
       "      <td>2</td>\n",
       "    </tr>\n",
       "  </tbody>\n",
       "</table>\n",
       "</div>"
      ],
      "text/plain": [
       "   i1  i2 el1 el2      dist  ring  order\n",
       "0   0   1   C   C  1.241032  True      2\n",
       "1   0   2   C   C  1.378996  True      2\n",
       "2   1   3   C   C  1.378996  True      2\n",
       "7   4   5   C   C  1.401106  True      2"
      ]
     },
     "metadata": {},
     "output_type": "display_data"
    },
    {
     "name": "stdout",
     "output_type": "stream",
     "text": [
      "0 Cb 1 Cb\n",
      "0 Cb 2 Cb\n",
      "1 Cb 3 Cb\n",
      "4 Cb 5 Cb\n"
     ]
    }
   ],
   "source": [
    "subdf = df[df.order == 2]\n",
    "display(subdf)\n",
    "subdf = subdf[(subdf.el1 == 'C') & (subdf.el2 == 'C')]\n",
    "display(subdf)\n",
    "for irow, row in subdf.iterrows():\n",
    "    i1 = row.i1; i2 = row.i2\n",
    "    print(i1, bentype[i1], i2, bentype[i2])"
   ]
  },
  {
   "cell_type": "code",
   "execution_count": null,
   "id": "9d47cad8",
   "metadata": {},
   "outputs": [],
   "source": [
    "target = 'dioxolane'\n",
    "rxns = mrx.generate_reactions(target, moldata, Gdict)\n",
    "dfrx, fmtrx = mrx.build_reactions_DF(rxns, moldata, target)"
   ]
  },
  {
   "cell_type": "code",
   "execution_count": null,
   "id": "e06fb01b",
   "metadata": {
    "scrolled": true
   },
   "outputs": [],
   "source": [
    "dfrx.style.format(fmtrx)"
   ]
  },
  {
   "cell_type": "code",
   "execution_count": null,
   "id": "d5f65d44",
   "metadata": {
    "scrolled": false
   },
   "outputs": [],
   "source": [
    "crxns = mrx.cull_too_similar_reactions(target, rxns, moldata, Gdict, disjoint=True)\n",
    "dftest, fmttest = mrx.build_reactions_DF(crxns, moldata, target)\n",
    "dftest.sort_values('rho_E').style.format(fmttest)"
   ]
  },
  {
   "cell_type": "code",
   "execution_count": null,
   "id": "ea8e82ff",
   "metadata": {},
   "outputs": [],
   "source": [
    "def print_delta(rxns):\n",
    "    # just print stuff for this notebook\n",
    "    global target, moldata\n",
    "    # must be a list of reactions\n",
    "    if not rxns:\n",
    "        # empty list\n",
    "        print('No reactions')\n",
    "        return\n",
    "    if not isinstance(rxns[0][0], list):\n",
    "        rlist = [ rxns ]\n",
    "    else:\n",
    "        rlist = rxns\n",
    "    # are the reactions balanced?\n",
    "    oklist = mrx.check_reactions_balance(rlist, Gdict)\n",
    "    okrx = [r for i, r in enumerate(rlist) if oklist[i]]\n",
    "    # mrx.eq5_sums() returns dH/x0, not dH\n",
    "    print(f'Of {len(rlist)} reactions, {len(okrx)} are balanced.')\n",
    "    calcH, calcS = mrx.eq5_sums(okrx, target, moldata)\n",
    "    for rx, H in zip(okrx, calcH):\n",
    "        #print(rx)   # this is ugly\n",
    "        lhs = []\n",
    "        rhs = []\n",
    "        for pair in rx:\n",
    "            mol = pair[0]\n",
    "            c = pair[1]\n",
    "            if c < 0:\n",
    "                # left side of equation\n",
    "                # present coefficients as rational numbers\n",
    "                crat = sympy.Rational(-c).limit_denominator(1000)\n",
    "                cstr = f'{crat}'\n",
    "                lhs.append('{:s} {:s}'.format(cstr, mol))\n",
    "            else:\n",
    "                # right side\n",
    "                crat = sympy.Rational(c).limit_denominator(1000)\n",
    "                cstr = f'{crat}'\n",
    "                rhs.append('{:s} {:s}'.format(cstr, mol))\n",
    "        lhs = ' + '.join(lhs)\n",
    "        rhs = ' + '.join(rhs)\n",
    "        print('{:s} = {:s}'.format(lhs, rhs))\n",
    "        print('\\tchange in calc. H = {:.1f} kJ/mol'.format(-H))  # assuming x0 = -1\n",
    "    return"
   ]
  },
  {
   "cell_type": "code",
   "execution_count": null,
   "id": "94df5b15",
   "metadata": {
    "scrolled": false
   },
   "outputs": [],
   "source": [
    "G.find_benzene_rings()"
   ]
  },
  {
   "cell_type": "code",
   "execution_count": 13,
   "id": "6cef3642",
   "metadata": {},
   "outputs": [
    {
     "data": {
      "text/plain": [
       "dict_values([[1], [2, 3]])"
      ]
     },
     "execution_count": 13,
     "metadata": {},
     "output_type": "execute_result"
    }
   ],
   "source": [
    "G.bondedatoms[0].values()"
   ]
  },
  {
   "cell_type": "code",
   "execution_count": null,
   "id": "91f8cbbb",
   "metadata": {},
   "outputs": [],
   "source": [
    "G.bondlist"
   ]
  },
  {
   "cell_type": "code",
   "execution_count": null,
   "id": "838fb780",
   "metadata": {},
   "outputs": [],
   "source": [
    "G.element_indices('N')"
   ]
  },
  {
   "cell_type": "code",
   "execution_count": null,
   "id": "d66f7893",
   "metadata": {},
   "outputs": [],
   "source": [
    "rxn = mrx.reaction_bond_separation(target, G)\n",
    "print_delta(rxn)"
   ]
  },
  {
   "cell_type": "code",
   "execution_count": null,
   "id": "c8a37330",
   "metadata": {},
   "outputs": [],
   "source": [
    "rxns = mrx.reaction_isomerization(target, Gdict)\n",
    "print_delta(rxns)"
   ]
  },
  {
   "cell_type": "code",
   "execution_count": null,
   "id": "7232d217",
   "metadata": {},
   "outputs": [],
   "source": [
    "rxn = mrx.reaction_hydration(target, Gdict)\n",
    "print_delta(rxn)"
   ]
  },
  {
   "cell_type": "code",
   "execution_count": null,
   "id": "67b43dec",
   "metadata": {},
   "outputs": [],
   "source": [
    "rxn = mrx.reaction_hydrofluorination(target, Gdict)\n",
    "print_delta(rxn)"
   ]
  },
  {
   "cell_type": "code",
   "execution_count": null,
   "id": "10a86863",
   "metadata": {},
   "outputs": [],
   "source": [
    "rxn = mrx.reaction_hydrochlorination(target, Gdict)\n",
    "print_delta(rxn)"
   ]
  },
  {
   "cell_type": "code",
   "execution_count": null,
   "id": "a092e69a",
   "metadata": {},
   "outputs": [],
   "source": [
    "rxn = mrx.reaction_to_elements(target, Gdict)\n",
    "print_delta(rxn)"
   ]
  },
  {
   "cell_type": "code",
   "execution_count": null,
   "id": "5bf635ec",
   "metadata": {},
   "outputs": [],
   "source": [
    "rxn = mrx.reaction_hydrogenation(target, Gdict)\n",
    "print_delta(rxn)"
   ]
  },
  {
   "cell_type": "code",
   "execution_count": null,
   "id": "f21db423",
   "metadata": {},
   "outputs": [],
   "source": [
    "rxn = mrx.reaction_oxygenation(target, Gdict)\n",
    "print_delta(rxn)"
   ]
  },
  {
   "cell_type": "code",
   "execution_count": null,
   "id": "ca18c4db",
   "metadata": {},
   "outputs": [],
   "source": [
    "df = G.list_bonds()\n",
    "df"
   ]
  },
  {
   "cell_type": "code",
   "execution_count": null,
   "id": "f932988d",
   "metadata": {},
   "outputs": [],
   "source": [
    "from sympy import nsimplify\n",
    "\n",
    "def cull_to_disjoint_educts(rxns):\n",
    "    # 'rxns' is a list of reactions, where a reaction is a list of [educt, coeff] pairs\n",
    "    # reduce the list until no educt (besides the target) occurs in more than one reaction\n",
    "    # the target is the first educt listed\n",
    "    # Give preference to reactions with fewer educts, small integer coefficients\n",
    "    nin = len(rxns)\n",
    "    # score by coefficient ugliness\n",
    "    ftol = 1.e-6\n",
    "    rank = []\n",
    "    for rxn in rxns:\n",
    "        r = (len(rxn) - 1) * 2   # penalty for more educts\n",
    "        for pair in rxn[1:]:\n",
    "            denom = nsimplify(pair[1]).q\n",
    "            if abs(denom) > 1 + ftol:\n",
    "                # penalty for fraction (to encourage homologous reactions)\n",
    "                r += denom\n",
    "            # penalty for large coefficient (multiplies uncertainties)\n",
    "            r += abs(pair[1])\n",
    "        rank.append(float(r))\n",
    "    idx = np.argsort(rank)\n",
    "    # do the cull\n",
    "    used = set()\n",
    "    ikeep = []\n",
    "    print('>>> lowest ranks:', np.array(rank)[idx[:5]])\n",
    "    for i in idx:\n",
    "        educts = set([pair[0] for pair in rxns[i][1:]])\n",
    "        if educts.intersection(used) == set():\n",
    "            # keep this reaction\n",
    "            ikeep.append(i)\n",
    "            used = used.union(educts)\n",
    "    return [rxns[i] for i in ikeep]"
   ]
  },
  {
   "cell_type": "code",
   "execution_count": null,
   "id": "a0e784ef",
   "metadata": {},
   "outputs": [],
   "source": [
    "def Xtabulate_Benson_groups(target, Gdict, detail, commonG=False):\n",
    "    # Return a DataFrame of Benson groups in all molecules that\n",
    "    #   do not contain elements alien to the target molecule and\n",
    "    #   (if 'commonG') that contain at least one B-group in the target\n",
    "    # 'Gdict' is a dict of Geometry()\n",
    "    # 'detail' specifies granularity\n",
    "    tels = set(Gdict[target].stoichiometry(asdict=True).keys())\n",
    "    tgrps = set(Gdict[target].Benson_groups(detail=detail, warn=False)[0])\n",
    "    grps = []  # list of all groups\n",
    "    compos = {}  # dict, key = molecule\n",
    "    for mol, G in Gdict.items():\n",
    "        els = set(G.stoichiometry(asdict=True).keys())\n",
    "        if not els <= tels:\n",
    "            # alien elements\n",
    "            continue\n",
    "        Bg = G.Benson_groups(asdict=True, detail=detail, warn=False)\n",
    "        if commonG:\n",
    "            if len(tgrps.intersection(set(Bg))) < 1:\n",
    "                # no B-groups in common with the target\n",
    "                continue\n",
    "        compos[mol] = Bg\n",
    "        for grp in Bg.keys():\n",
    "            if grp not in grps:\n",
    "                grps.append(grp)\n",
    "    # build the DataFrame\n",
    "    cols = ['molec'] + grps\n",
    "    df = pd.DataFrame(columns=cols)\n",
    "    row = [target] + [compos[target].get(grp, 0) for grp in grps]\n",
    "    df.loc[0] = row  # put target at the top\n",
    "    for mol, st in compos.items():\n",
    "        if mol == target:\n",
    "            # don't enter twice\n",
    "            continue\n",
    "        row = [mol] + [st.get(grp, 0) for grp in grps]\n",
    "        df.loc[len(df)] = row\n",
    "    return df"
   ]
  },
  {
   "cell_type": "code",
   "execution_count": null,
   "id": "cefd3868",
   "metadata": {},
   "outputs": [],
   "source": [
    "def tabulate_Benson_groups(target, Gdict, detail):\n",
    "    # Return a DataFrame of Benson groups in all molecules that\n",
    "    #   could plausibly form a reaction for the target\n",
    "    # 'Gdict' is a dict of Geometry()\n",
    "    # 'detail' specifies granularity\n",
    "    tels = set(Gdict[target].stoichiometry(asdict=True).keys())\n",
    "    tgrps = set(Gdict[target].Benson_groups(detail=detail, warn=False)[0])\n",
    "    grps = set()  # set of all groups (for creating DataFrame)\n",
    "    compos = {}  # dict, key = molecule\n",
    "    for mol, G in Gdict.items():\n",
    "        els = set(G.stoichiometry(asdict=True).keys())\n",
    "        if not els <= tels:\n",
    "            # alien elements; discard this molecule\n",
    "            continue\n",
    "        Bg = G.Benson_groups(asdict=True, detail=detail, warn=False)\n",
    "        compos[mol] = Bg\n",
    "        bset = set(Bg.keys())\n",
    "        grps = grps.union(bset)       \n",
    "    # build the DataFrame \n",
    "    cols = ['molec'] + sorted(grps)\n",
    "    df = pd.DataFrame(columns=cols)\n",
    "    row = [target] + [compos[target].get(grp, 0) for grp in cols[1:]]\n",
    "    df.loc[0] = row  # put target at the top\n",
    "    freq = {}  # frequency of each B-group\n",
    "    '''\n",
    "    # add any molecules whose B-groups are a subset of the target's\n",
    "    for mol, comp in compos.items():\n",
    "        if mol == target:\n",
    "            continue\n",
    "        gs = set(comp.keys())\n",
    "        if (len(gs) > 0) and (gs <= tgrps):\n",
    "            row = [mol] + [comp.get(grp, 0) for grp in cols[1:]]\n",
    "            df.loc[len(df)] = row\n",
    "        # how common is each group?\n",
    "        for g, n in comp.items():\n",
    "            freq[g] = freq.get(g, 0) + n\n",
    "    # which target groups are not found in the DF?\n",
    "    missing = []\n",
    "    for g in tgrps:\n",
    "        n = np.count_nonzero(df[g])\n",
    "        if n < 2:\n",
    "            # only in the target\n",
    "            missing.append(g)\n",
    "    '''\n",
    "    # add molecules that contain target groups \n",
    "    gset = tgrps.copy()  # set of currently used groups\n",
    "    for mol, comp in compos.items():\n",
    "        if mol in df['molec'].values:\n",
    "            continue\n",
    "        gs = set(comp.keys())\n",
    "        if gs.intersection(tgrps):\n",
    "            row = [mol] + [comp.get(grp, 0) for grp in cols[1:]]\n",
    "            df.loc[len(df)] = row\n",
    "            gset = gset.union(gs)\n",
    "    # add molecules that include only the expanded set of groups\n",
    "    for mol, comp in compos.items():\n",
    "        if mol in df['molec'].values:\n",
    "            continue\n",
    "        gs = set(comp.keys())\n",
    "        if (len(gs) > 0) and (gs <= gset):\n",
    "            row = [mol] + [comp.get(grp, 0) for grp in cols[1:]]\n",
    "            df.loc[len(df)] = row\n",
    "\n",
    "    # make list of B-groups by rarity\n",
    "    Brare = sorted(freq.keys(), key=lambda k: freq[k])\n",
    "    # add molecules that share the target's rarest group\n",
    "    for g0 in Brare:\n",
    "        if g0 in tgrps:\n",
    "            # the rarest group\n",
    "            break\n",
    "        \n",
    "    # remove columns with all zeros\n",
    "    df = df.loc[:, (df != 0).any(axis=0)]\n",
    "    return df"
   ]
  },
  {
   "cell_type": "code",
   "execution_count": null,
   "id": "9b93ee5a",
   "metadata": {},
   "outputs": [],
   "source": [
    "detail = 0\n",
    "dfBen = tabulate_Benson_groups(target, Gdict, detail=detail)\n",
    "dfBen"
   ]
  },
  {
   "cell_type": "code",
   "execution_count": null,
   "id": "89255bf4",
   "metadata": {
    "scrolled": true
   },
   "outputs": [],
   "source": [
    "import time\n",
    "start = time.time()\n",
    "rxns = mrx.solve_descriptor_reactions(dfBen, maxeduct=8, verbose=True)\n",
    "end = time.time()\n",
    "t = end - start\n",
    "print('Time = {:.0f} s = {:.1f} min = {:.2f} hr'.format(t, t/60, t/3600))"
   ]
  },
  {
   "cell_type": "code",
   "execution_count": null,
   "id": "20bedddd",
   "metadata": {},
   "outputs": [],
   "source": [
    "detail = 0\n",
    "print('detail =', detail)\n",
    "dfBgrp = mrx.educts_Benson_groups(target, Gdict, detail=detail, warn=False)\n",
    "display(dfBgrp)"
   ]
  },
  {
   "cell_type": "code",
   "execution_count": null,
   "id": "8468f8fe",
   "metadata": {},
   "outputs": [],
   "source": [
    "Gdict['ch2ohoh'].Benson_groups()"
   ]
  },
  {
   "cell_type": "code",
   "execution_count": null,
   "id": "58c249ab",
   "metadata": {},
   "outputs": [],
   "source": [
    "rxns = mrx.solve_descriptor_reactions(dfBgrp, verbose=True)"
   ]
  },
  {
   "cell_type": "code",
   "execution_count": null,
   "id": "e74145c0",
   "metadata": {},
   "outputs": [],
   "source": [
    "rbal = mrx.discard_unbalanced_reactions(rxns, Gdict, verbose=True)\n",
    "print_delta(rbal)"
   ]
  },
  {
   "cell_type": "code",
   "execution_count": null,
   "id": "ffe92f72",
   "metadata": {
    "scrolled": true
   },
   "outputs": [],
   "source": [
    "detail = 1\n",
    "dfBbonds = mrx.Benson_bonds_table(target, Gdict, detail=detail, warn=False)\n",
    "display(dfBbonds)"
   ]
  },
  {
   "cell_type": "code",
   "execution_count": null,
   "id": "40dd710d",
   "metadata": {
    "scrolled": true
   },
   "outputs": [],
   "source": [
    "import time\n",
    "start = time.time()\n",
    "rxns = mrx.solve_descriptor_reactions(dfBbonds, verbose=True)\n",
    "end = time.time()\n",
    "t = end - start\n",
    "print('Time = {:.0f} s = {:.1f} min = {:.2f} hr'.format(t, t/60, t/3600))"
   ]
  },
  {
   "cell_type": "code",
   "execution_count": null,
   "id": "c1d2781d",
   "metadata": {
    "scrolled": true
   },
   "outputs": [],
   "source": [
    "rbal = mrx.discard_unbalanced_reactions(rxns, Gdict, tol=1.e-3, verbose=True)"
   ]
  },
  {
   "cell_type": "raw",
   "id": "a7bb1693",
   "metadata": {},
   "source": [
    "def cull_too_similar_reactions(target, rxns, moldata, Gdict, disjoint=False):\n",
    "    # eliminate very similar reactions\n",
    "    # priority on reactions with computed enthalpy near zero\n",
    "    # if 'disjoint', no co-educt may appear more than once\n",
    "    calcH, calcS = mrx.eq5_sums(rxns, target, moldata)\n",
    "    absH = np.abs(calcH)\n",
    "    idx = np.argsort(absH)\n",
    "    coeducts = set([target])  # educts used\n",
    "    cull = []  # short list of reactions\n",
    "    for i in idx:\n",
    "        rx = rxns[i]\n",
    "        rset = set([pair[0] for pair in rx])\n",
    "        if rset <= coeducts:\n",
    "            # no new educts; skip this reaction\n",
    "            continue\n",
    "        if disjoint:\n",
    "            # stronger filter\n",
    "            set2 = coeducts.intersection(rset)\n",
    "            if len(set2) > 1:\n",
    "                # some co-educt is repeated\n",
    "                continue\n",
    "        cull.append(rx)\n",
    "        coeducts = coeducts.union(rset)\n",
    "    return cull"
   ]
  },
  {
   "cell_type": "code",
   "execution_count": null,
   "id": "2de99278",
   "metadata": {},
   "outputs": [],
   "source": [
    "crx = cull_too_similar_reactions(target, rbal, moldata, Gdict, disjoint=True)\n",
    "crx"
   ]
  },
  {
   "cell_type": "code",
   "execution_count": null,
   "id": "d579d653",
   "metadata": {},
   "outputs": [],
   "source": [
    "print_delta(rbal)"
   ]
  },
  {
   "cell_type": "code",
   "execution_count": null,
   "id": "55d05a48",
   "metadata": {
    "scrolled": true
   },
   "outputs": [],
   "source": [
    "def all_reactions_for_target(target, Gdict, verbose=False):\n",
    "    # generate all reasonable reactions for the educt\n",
    "    # 'Gdict' is a dict of Geometry() objects (dict key = name of molecule)\n",
    "    # Return a list of reactions, where a reaction is a list of [educt, coeff] pairs\n",
    "    st = Gdict[target].stoichiometry(asdict=True)\n",
    "    tels = list(st.keys())  # chemical elements in the target molecule\n",
    "    tset = set(tels)\n",
    "    # build DataFrame of all molecules whose elements are a subset of those of target\n",
    "    cols = ['molec'] + tels\n",
    "    df = pd.DataFrame(columns=cols)\n",
    "    df.loc[0] = [target] + [st[el] for el in tels]\n",
    "    for molec, G in Gdict.items():\n",
    "        if molec == target:\n",
    "            continue\n",
    "        st = G.stoichiometry(asdict=True)\n",
    "        if set(st.keys()) <= tset:\n",
    "            # include this molecule\n",
    "            df.loc[len(df)] = [molec] + [st.get(el, 0) for el in tels]\n",
    "    start = time.time()\n",
    "    rxns = mrx.solve_descriptor_reactions(df, verbose=verbose)\n",
    "    end = time.time()\n",
    "    t = end - start\n",
    "    print('Time = {:.0f} s = {:.1f} min = {:.2f} hr'.format(t, t/60, t/3600))    \n",
    "    return rxns, df"
   ]
  },
  {
   "cell_type": "code",
   "execution_count": null,
   "id": "3eeb6055",
   "metadata": {
    "scrolled": true
   },
   "outputs": [],
   "source": [
    "# TAKES VERY LONG TIME\n",
    "#rxns, dfelem = all_reactions_for_target(target, Gdict, verbose=True)"
   ]
  },
  {
   "cell_type": "code",
   "execution_count": null,
   "id": "ab6d66f8",
   "metadata": {
    "scrolled": true
   },
   "outputs": [],
   "source": [
    "rbal = mrx.discard_unbalanced_reactions(rxns, Gdict, tol=1.e-3, verbose=True)"
   ]
  },
  {
   "cell_type": "code",
   "execution_count": null,
   "id": "abe06447",
   "metadata": {},
   "outputs": [],
   "source": [
    "print('Found {:d} reactions'.format(len(rxns)))"
   ]
  },
  {
   "cell_type": "raw",
   "id": "c6e2c506",
   "metadata": {},
   "source": [
    "def reaction_string(rxn):\n",
    "    # Given a reaction (list of lists [educt, coeff]), return\n",
    "    #   an easily readable string\n",
    "    lhs = []\n",
    "    rhs = []\n",
    "    for [educt, coef] in rxn:\n",
    "        n = abs(coef)\n",
    "        cstr = sympy.Rational(str(n)).limit_denominator(1000)\n",
    "        if coef < 0:\n",
    "            if n != 1:\n",
    "                lhs.append(f'{cstr} {educt}')\n",
    "            else:\n",
    "                lhs.append(f'{educt}')  # don't print '1'\n",
    "        else:\n",
    "            if n != 1:\n",
    "                rhs.append(f'{cstr} {educt}')\n",
    "            else:\n",
    "                rhs.append(f'{educt}')\n",
    "    lhs = ' + '.join(lhs)\n",
    "    rhs = ' + '.join(rhs)\n",
    "    s = ' = '.join([lhs, rhs])\n",
    "    return s\n"
   ]
  },
  {
   "cell_type": "code",
   "execution_count": null,
   "id": "ffb8af33",
   "metadata": {},
   "outputs": [],
   "source": [
    "'''\n",
    "def build_reactions_DF(rxns, moldata, target, rho='rho_E'):\n",
    "    # given a list of reactions, return a DataFrame\n",
    "    # with computed and exptl thermo (T=0) for analysis\n",
    "    \n",
    "    # create the DataFrame\n",
    "    exptl = mrx.select_expt(moldata, T=0)  # selected exptl data\n",
    "    okrx = rxn_with_expt(rxns, target, exptl)   # useable reactions\n",
    "    eq6sum, uexp = mrx.eq6_sums(okrx, target, exptl)  # exptl sums needed to compute EoF\n",
    "    print('>>> eq5')\n",
    "    calcH, calcS = mrx.eq5_sums(okrx, target, moldata)  # slow step\n",
    "    print('>>> eof')\n",
    "    eof = [s5 - s6 for s5, s6 in zip(calcH, eq6sum)]\n",
    "    print('counts: eof = {:d}, calcH = {:d}, uexp = {:d}, okrx = {:d}'.format(len(eof),\n",
    "                                    len(calcH), len(uexp), len(okrx)))\n",
    "    dfrx = pd.DataFrame({f'EoF': eof, 'dH(rxn)': calcH, 'uexp': uexp,\n",
    "                     'Reaction': [reaction_string(rxn) for rxn in okrx]})\n",
    "    # get values of rho variants (list of tuples)\n",
    "    print('>>> rho')\n",
    "    rho_E, rho_T, rho_c = mrx.gather_rho(okrx, target, moldata) \n",
    "    dfrx['rho_E'] = rho_E\n",
    "    dfrx['rho_T'] = rho_T\n",
    "    dfrx['rho_c'] = rho_c\n",
    "    #dfrx = dfrx.sort_values('EoF')\n",
    "    #fmt = {col: '{:.1f}' for col in dfrx.columns}\n",
    "    #fmt['Reaction'] = '{:s}'\n",
    "    #display(dfrx.style.format(fmt))\n",
    "    return dfrx\n",
    "'''    \n",
    "def process_reactionDF(target, rho, dfrx, verbose=False):\n",
    "    # analyze the data in a DataFrame from build_reactions_DF()\n",
    "    print(f'Target = {target}')\n",
    "    print(f'Non-uniform weighting using {rho}:')\n",
    "    print('>>> wmean')\n",
    "    wmean, semw, rwmsx, a, b, change, niter = mrx.nonuniform_weighting(target, rho, dfrx,\n",
    "                                                            verbose=verbose)\n",
    "    # combine SEMw with u_exp\n",
    "    print('\\tSEMw = {:.1f}, uexp = {:.1f} kJ/mol'.format(semw, rwmsx))\n",
    "    unc = np.sqrt(semw**2 + rwmsx**2)  # 'rwmsx' from eq. (13)\n",
    "    print('\\tEoF = ({:.1f} ± {:.1f}) kJ/mol (standard uncertainty)'.format(wmean, unc))\n",
    "    return dfrx, wmean, unc"
   ]
  },
  {
   "cell_type": "raw",
   "id": "2be383a5",
   "metadata": {},
   "source": [
    "def process_reactions(rxns, moldata, target, rho='rho_E', verbose=False):\n",
    "    # given a list of reactions, return a DataFrame\n",
    "    # with computed and exptl thermo (T=0) for analysis\n",
    "    \n",
    "    # create the DataFrame\n",
    "    exptl = mrx.select_expt(moldata, T=0)  # selected exptl data\n",
    "    okrx = rxn_with_expt(rxns, target, exptl)   # useable reactions\n",
    "    eq6sum, uexp = mrx.eq6_sums(okrx, target, exptl)  # exptl sums needed to compute EoF\n",
    "    print('>>> eq5')\n",
    "    calcH, calcS = mrx.eq5_sums(okrx, target, moldata)  # slow step\n",
    "    print('>>> eof')\n",
    "    eof = [s5 - s6 for s5, s6 in zip(calcH, eq6sum)]\n",
    "    print('counts: eof = {:d}, calcH = {:d}, uexp = {:d}, okrx = {:d}'.format(len(eof),\n",
    "                                    len(calcH), len(uexp), len(okrx)))\n",
    "    dfrx = pd.DataFrame({f'EoF': eof, 'dH(rxn)': calcH, 'uexp': uexp,\n",
    "                     'Reaction': [reaction_string(rxn) for rxn in okrx]})\n",
    "    # get values of rho variants (list of tuples)\n",
    "    print('>>> rho')\n",
    "    rho_E, rho_T, rho_c = mrx.gather_rho(okrx, target, moldata) \n",
    "    dfrx['rho_E'] = rho_E\n",
    "    dfrx['rho_T'] = rho_T\n",
    "    dfrx['rho_c'] = rho_c\n",
    "    #dfrx = dfrx.sort_values('EoF')\n",
    "    #fmt = {col: '{:.1f}' for col in dfrx.columns}\n",
    "    #fmt['Reaction'] = '{:s}'\n",
    "    #display(dfrx.style.format(fmt))\n",
    "    \n",
    "    # analyze the data in the DataFrame\n",
    "    print(f'Target = {target}')\n",
    "    print(f'Non-uniform weighting using {rho}:')\n",
    "    print('>>> wmean')\n",
    "    wmean, semw, rwmsx, a, b, change, niter = mrx.nonuniform_weighting(target, rho, dfrx,\n",
    "                                                            verbose=verbose)\n",
    "    # combine SEMw with u_exp\n",
    "    print('\\tSEMw = {:.1f}, uexp = {:.1f} kJ/mol'.format(semw, rwmsx))\n",
    "    unc = np.sqrt(semw**2 + rwmsx**2)  # 'rwmsx' from eq. (13)\n",
    "    print('\\tEoF = ({:.1f} ± {:.1f}) kJ/mol (standard uncertainty)'.format(wmean, unc))\n",
    "    return dfrx, wmean, unc"
   ]
  },
  {
   "cell_type": "code",
   "execution_count": null,
   "id": "3d226e0a",
   "metadata": {},
   "outputs": [],
   "source": [
    "dfrx, wmean, unc = process_reactions(rbal, moldata, target, verbose=True)"
   ]
  },
  {
   "cell_type": "code",
   "execution_count": null,
   "id": "003ec0d4",
   "metadata": {},
   "outputs": [],
   "source": [
    "# consider only a fraction of reactions with lowest rho\n",
    "frac = 0.5\n",
    "nf = int(frac * len(dfrx))\n",
    "print(f'Keeping the {nf} reactions (of {len(dfrx)}) with lowest {rho}')\n",
    "dfcore = dfrx.sort_values(rho).iloc[:nf].copy()"
   ]
  },
  {
   "cell_type": "code",
   "execution_count": null,
   "id": "e4764058",
   "metadata": {},
   "outputs": [],
   "source": [
    "plt.scatter(dfcore.rho_E, dfcore.rho_c, facecolors='none', edgecolors='b', alpha=0.1)\n",
    "#plt.scatter(dfrx.rho_E, dfrx.rho_c, facecolors='none', edgecolors='b', alpha=0.1)\n",
    "plt.xlabel('rho_E')\n",
    "plt.ylabel('rho_c')\n",
    "#plt.xlim([0, 1000])\n",
    "#plt.ylim([0, 500])\n",
    "plt.show()"
   ]
  },
  {
   "cell_type": "code",
   "execution_count": null,
   "id": "a80f948d",
   "metadata": {},
   "outputs": [],
   "source": [
    "T = 0.  # temperature\n",
    "exptl = mrx.select_expt(moldata, T)\n",
    "okrx = rxn_with_expt(rxns, target, exptl)\n",
    "eq6sum, uexp = mrx.eq6_sums(okrx, target, exptl)"
   ]
  },
  {
   "cell_type": "code",
   "execution_count": null,
   "id": "8e159400",
   "metadata": {},
   "outputs": [],
   "source": [
    "# Make DataFrame of reactions\n",
    "pd.set_option('display.max_rows', 500)\n",
    "calcH, calcS = mrx.eq5_sums(okrx, target, moldata)\n",
    "eof = [s5 - s6 for s5, s6 in zip(calcH, eq6sum)]\n",
    "neduct = max([len(rx) for rx in okrx])\n",
    "cols = ['Target', 'x0']\n",
    "for n in range(neduct-1):\n",
    "    cols.extend([f'Educt{n+1}', f'x{n+1}'])\n",
    "cols.append('{:s}H'.format(chem.DELTA))\n",
    "dfrx = pd.DataFrame(columns=cols)\n",
    "for rx, H in zip(rxns, calcH):\n",
    "    row = []\n",
    "    for ed in rx:\n",
    "        row.extend(ed)\n",
    "    while len(row) < len(cols) - 1:\n",
    "        row.extend(['', 0])\n",
    "    row.append(np.round(H, 1))\n",
    "    dfrx.loc[len(dfrx)] = row\n",
    "dfrx['rho_E'] = abs(dfrx[cols[-1]])\n",
    "dfrx['EoF'] = eof\n",
    "dfrx.sort_values('rho_E')"
   ]
  },
  {
   "cell_type": "code",
   "execution_count": null,
   "id": "8b0af231",
   "metadata": {},
   "outputs": [],
   "source": [
    "hmin = dfrx[cols[-1]].min()\n",
    "hmax = dfrx[cols[-1]].max()\n",
    "print('Hmin, Hmax = {:.1f}, {:.1f}'.format(hmin, hmax))"
   ]
  },
  {
   "cell_type": "code",
   "execution_count": null,
   "id": "e7038cdb",
   "metadata": {},
   "outputs": [],
   "source": [
    "plt.hist(dfrx[cols[-1]], bins=100)\n",
    "plt.xlim([-5000, 5000])\n",
    "plt.xlabel('kJ/mol')\n",
    "plt.ylabel('counts')\n",
    "plt.show()"
   ]
  },
  {
   "cell_type": "code",
   "execution_count": null,
   "id": "617eddad",
   "metadata": {},
   "outputs": [],
   "source": [
    "plt.scatter(dfrx[cols[-1]], dfrx.EoF)\n",
    "#plt.xlabel(r'$\\rho_E$')\n",
    "plt.xlabel(cols[-1])\n",
    "plt.ylabel(r'$\\Delta_fH$')\n",
    "#plt.xlim([0, 1000])\n",
    "#plt.ylim([-500, 500])\n",
    "plt.show()"
   ]
  },
  {
   "cell_type": "code",
   "execution_count": null,
   "id": "7c4b8d2c",
   "metadata": {},
   "outputs": [],
   "source": [
    "# plot EoF vs cutoff\n",
    "rhocut = np.linspace(10, 2010)\n",
    "eof = [dfrx[dfrx.rho_E < cut].EoF.mean() for cut in rhocut]\n",
    "plt.plot(rhocut, eof)\n",
    "plt.xlabel('rho_E cutoff')\n",
    "plt.ylabel('EoF(target)')\n",
    "plt.show()"
   ]
  },
  {
   "cell_type": "code",
   "execution_count": null,
   "id": "37837686",
   "metadata": {},
   "outputs": [],
   "source": [
    "rho = 'rho_E'\n",
    "print(f'Target = {target}')\n",
    "print(f'Non-uniform weighting using {rho}:')\n",
    "wmean, semw, rwmsx, a, b, change, niter = mrx.nonuniform_weighting(target, rho, dfrx,\n",
    "                                                        verbose=False)\n",
    "# combine SEMw with u_exp\n",
    "print('\\tSEMw = {:.1f}, uexp = {:.1f} kJ/mol'.format(semw, rwmsx))\n",
    "unc = np.sqrt(semw**2 + rwmsx**2)  # 'rwmsx' from eq. (13)\n",
    "print('\\tEoF({:.1f} K) = ({:.1f} ± {:.1f}) kJ/mol (standard uncertainty)'.format(T, wmean, unc))"
   ]
  },
  {
   "cell_type": "code",
   "execution_count": null,
   "id": "f9f5c65f",
   "metadata": {},
   "outputs": [],
   "source": [
    "eq6sum"
   ]
  },
  {
   "cell_type": "code",
   "execution_count": null,
   "id": "c60557f9",
   "metadata": {},
   "outputs": [],
   "source": [
    "i = 1\n",
    "print(rxns[i])\n",
    "print_delta(rxns[i])"
   ]
  },
  {
   "cell_type": "code",
   "execution_count": null,
   "id": "78c9f3a7",
   "metadata": {},
   "outputs": [],
   "source": []
  },
  {
   "cell_type": "code",
   "execution_count": null,
   "id": "f6ef7d5c",
   "metadata": {},
   "outputs": [],
   "source": []
  },
  {
   "cell_type": "code",
   "execution_count": null,
   "id": "fc5c6db0",
   "metadata": {},
   "outputs": [],
   "source": [
    "def rxn_with_expt(rxin, target, exptl):\n",
    "    '''\n",
    "    Return a list of those reactions for which\n",
    "      exptl thermo data are available.\n",
    "    'rxns' is a list of reactions, where a reaction is\n",
    "      a list of [educt, coeff] pairs.\n",
    "    'target' is the name of the target molecule,\n",
    "      not required to have exptl data\n",
    "    'exptl' is a dict of exptl data for molecules\n",
    "    '''\n",
    "    rxns = []\n",
    "    for rx in rxin:\n",
    "        ok = True\n",
    "        for pair in rx:\n",
    "            molec = pair[0]\n",
    "            try:\n",
    "                eof = exptl[molec]['EoF']\n",
    "                unc = exptl[molec]['unc']\n",
    "            except KeyError:\n",
    "                ok = False\n",
    "        if ok:\n",
    "            rxns.append(rx)\n",
    "    return rxns"
   ]
  }
 ],
 "metadata": {
  "kernelspec": {
   "display_name": "Python 3 (ipykernel)",
   "language": "python",
   "name": "python3"
  },
  "language_info": {
   "codemirror_mode": {
    "name": "ipython",
    "version": 3
   },
   "file_extension": ".py",
   "mimetype": "text/x-python",
   "name": "python",
   "nbconvert_exporter": "python",
   "pygments_lexer": "ipython3",
   "version": "3.11.4"
  }
 },
 "nbformat": 4,
 "nbformat_minor": 5
}
