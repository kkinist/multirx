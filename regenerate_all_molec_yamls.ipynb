{
 "cells": [
  {
   "cell_type": "code",
   "execution_count": 1,
   "id": "860e09a4",
   "metadata": {},
   "outputs": [],
   "source": [
    "# For all molecules in the glossary, overwrite any existing YAML file"
   ]
  },
  {
   "cell_type": "code",
   "execution_count": 2,
   "id": "ae715ade",
   "metadata": {},
   "outputs": [],
   "source": [
    "import yaml, re, sys, os, glob\n",
    "import pandas as pd\n",
    "import numpy as np\n",
    "\n",
    "sys.path.insert(0, '../atomic_SOC')\n",
    "import molpro_subs as mpr\n",
    "import chem_subs as chem\n",
    "sys.path.insert(0, '../karlib')\n",
    "import gaussian_subs as gau\n",
    "import multirx_subs as mrx"
   ]
  },
  {
   "cell_type": "code",
   "execution_count": 3,
   "id": "bf3c8a26",
   "metadata": {},
   "outputs": [],
   "source": [
    "# Create the reference data structures\n",
    "atct, webbook, soc, dflabel, reflocal, dfeleca, dfelecm, override = mrx.generate_molec_yaml()"
   ]
  },
  {
   "cell_type": "code",
   "execution_count": 4,
   "id": "0c5dd017",
   "metadata": {
    "scrolled": false
   },
   "outputs": [],
   "source": [
    "%%capture regen_log\n",
    "failed = []\n",
    "startwork = True  # set False to skip some files\n",
    "for molec in dflabel.Label:\n",
    "    if molec == 'Bz2':\n",
    "        startwork = True\n",
    "    if not startwork:\n",
    "        continue\n",
    "    try:\n",
    "        mdoc = mrx.generate_molec_yaml(molec, atct, webbook, soc, dflabel, reflocal, dfeleca, dfelecm, override, verbose=True)\n",
    "    except Exception as e:\n",
    "        print(f'Failure for molecule {molec}')\n",
    "        failed.append(molec)\n",
    "        print(e)\n",
    "    print('-' * 60)\n",
    "    print()"
   ]
  },
  {
   "cell_type": "code",
   "execution_count": 5,
   "id": "2ee988d5",
   "metadata": {},
   "outputs": [],
   "source": [
    "flog = 'regenerate_all_molec_yamls.log'\n",
    "with open(flog, 'w', encoding='utf-8') as F:\n",
    "    F.write(regen_log.stdout)"
   ]
  },
  {
   "cell_type": "code",
   "execution_count": 6,
   "id": "4cafba63",
   "metadata": {},
   "outputs": [],
   "source": [
    "if len(failed):\n",
    "    print('Failure for the following:')\n",
    "    for mol in failed:\n",
    "        print(f'   {mol}')"
   ]
  },
  {
   "cell_type": "code",
   "execution_count": null,
   "id": "d00a8f79",
   "metadata": {},
   "outputs": [],
   "source": []
  },
  {
   "cell_type": "code",
   "execution_count": null,
   "id": "ec29f421",
   "metadata": {},
   "outputs": [],
   "source": []
  }
 ],
 "metadata": {
  "kernelspec": {
   "display_name": "Python 3 (ipykernel)",
   "language": "python",
   "name": "python3"
  },
  "language_info": {
   "codemirror_mode": {
    "name": "ipython",
    "version": 3
   },
   "file_extension": ".py",
   "mimetype": "text/x-python",
   "name": "python",
   "nbconvert_exporter": "python",
   "pygments_lexer": "ipython3",
   "version": "3.11.4"
  }
 },
 "nbformat": 4,
 "nbformat_minor": 5
}
